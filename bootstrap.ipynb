{
 "cells": [
  {
   "cell_type": "markdown",
   "id": "a10f7d42",
   "metadata": {},
   "source": [
    "### В данном мини-проекте проведем эксперимент с сравнием групп двумя способами: бутстрапом и u-тестом.\n",
    "Сравним результат между тестом и контролем по двум кейсам:\n",
    "  + Применим бутстрап (с np.mean) и критерий mann-whitney, а потом сравним p-value\n",
    "  + Применим бутстрап (с np.median) и критерий mann-whitney, а потом сравним p-value."
   ]
  },
  {
   "cell_type": "code",
   "execution_count": 1,
   "id": "4dc83109",
   "metadata": {},
   "outputs": [],
   "source": [
    "import pandas as pd\n",
    "import numpy as np\n",
    "import seaborn as sns\n",
    "import matplotlib.pyplot as plt\n",
    "from scipy.stats import norm, mannwhitneyu\n",
    "from tqdm.auto import tqdm\n",
    "\n",
    "import warnings\n",
    "warnings.filterwarnings(\"ignore\")\n",
    "\n",
    "plt.style.use('ggplot')\n",
    "%matplotlib inline"
   ]
  },
  {
   "cell_type": "code",
   "execution_count": 2,
   "id": "a95e19b9",
   "metadata": {},
   "outputs": [],
   "source": [
    "df = pd.read_csv(r\"C:\\Users\\yarus\\projects\\data\\hw_bootstrap.csv\", sep=';')"
   ]
  },
  {
   "cell_type": "code",
   "execution_count": 3,
   "id": "f9cdc0e1",
   "metadata": {
    "scrolled": true
   },
   "outputs": [
    {
     "data": {
      "text/html": [
       "<div>\n",
       "<style scoped>\n",
       "    .dataframe tbody tr th:only-of-type {\n",
       "        vertical-align: middle;\n",
       "    }\n",
       "\n",
       "    .dataframe tbody tr th {\n",
       "        vertical-align: top;\n",
       "    }\n",
       "\n",
       "    .dataframe thead th {\n",
       "        text-align: right;\n",
       "    }\n",
       "</style>\n",
       "<table border=\"1\" class=\"dataframe\">\n",
       "  <thead>\n",
       "    <tr style=\"text-align: right;\">\n",
       "      <th></th>\n",
       "      <th>Unnamed: 0</th>\n",
       "      <th>value</th>\n",
       "      <th>experimentVariant</th>\n",
       "    </tr>\n",
       "  </thead>\n",
       "  <tbody>\n",
       "    <tr>\n",
       "      <th>0</th>\n",
       "      <td>1</td>\n",
       "      <td>10,3804953740268</td>\n",
       "      <td>Control</td>\n",
       "    </tr>\n",
       "    <tr>\n",
       "      <th>1</th>\n",
       "      <td>2</td>\n",
       "      <td>9,54686666784264</td>\n",
       "      <td>Control</td>\n",
       "    </tr>\n",
       "    <tr>\n",
       "      <th>2</th>\n",
       "      <td>3</td>\n",
       "      <td>11,0882146509904</td>\n",
       "      <td>Control</td>\n",
       "    </tr>\n",
       "    <tr>\n",
       "      <th>3</th>\n",
       "      <td>4</td>\n",
       "      <td>10,1472740570122</td>\n",
       "      <td>Control</td>\n",
       "    </tr>\n",
       "    <tr>\n",
       "      <th>4</th>\n",
       "      <td>5</td>\n",
       "      <td>9,78980767524929</td>\n",
       "      <td>Control</td>\n",
       "    </tr>\n",
       "  </tbody>\n",
       "</table>\n",
       "</div>"
      ],
      "text/plain": [
       "   Unnamed: 0             value experimentVariant\n",
       "0           1  10,3804953740268           Control\n",
       "1           2  9,54686666784264           Control\n",
       "2           3  11,0882146509904           Control\n",
       "3           4  10,1472740570122           Control\n",
       "4           5  9,78980767524929           Control"
      ]
     },
     "execution_count": 3,
     "metadata": {},
     "output_type": "execute_result"
    }
   ],
   "source": [
    "df.head()"
   ]
  },
  {
   "cell_type": "code",
   "execution_count": 4,
   "id": "77af0939",
   "metadata": {},
   "outputs": [
    {
     "data": {
      "text/plain": [
       "array(['Control', 'Treatment'], dtype=object)"
      ]
     },
     "execution_count": 4,
     "metadata": {},
     "output_type": "execute_result"
    }
   ],
   "source": [
    "df.experimentVariant.unique()"
   ]
  },
  {
   "cell_type": "markdown",
   "id": "7f476a9c",
   "metadata": {},
   "source": [
    "### Описание колонок: \n",
    "value – значения метрики \\\n",
    "experimentVariant – вариант теста (Control – контроль, Treatment – тест)"
   ]
  },
  {
   "cell_type": "markdown",
   "id": "d8db0086",
   "metadata": {},
   "source": [
    "Удалим ненужный столбец."
   ]
  },
  {
   "cell_type": "code",
   "execution_count": 5,
   "id": "547e8be3",
   "metadata": {},
   "outputs": [],
   "source": [
    "df = df.drop(columns=df.columns[0])"
   ]
  },
  {
   "cell_type": "code",
   "execution_count": 6,
   "id": "e244ab65",
   "metadata": {},
   "outputs": [
    {
     "data": {
      "text/html": [
       "<div>\n",
       "<style scoped>\n",
       "    .dataframe tbody tr th:only-of-type {\n",
       "        vertical-align: middle;\n",
       "    }\n",
       "\n",
       "    .dataframe tbody tr th {\n",
       "        vertical-align: top;\n",
       "    }\n",
       "\n",
       "    .dataframe thead th {\n",
       "        text-align: right;\n",
       "    }\n",
       "</style>\n",
       "<table border=\"1\" class=\"dataframe\">\n",
       "  <thead>\n",
       "    <tr style=\"text-align: right;\">\n",
       "      <th></th>\n",
       "      <th>value</th>\n",
       "      <th>experimentVariant</th>\n",
       "    </tr>\n",
       "  </thead>\n",
       "  <tbody>\n",
       "    <tr>\n",
       "      <th>0</th>\n",
       "      <td>10,3804953740268</td>\n",
       "      <td>Control</td>\n",
       "    </tr>\n",
       "    <tr>\n",
       "      <th>1</th>\n",
       "      <td>9,54686666784264</td>\n",
       "      <td>Control</td>\n",
       "    </tr>\n",
       "    <tr>\n",
       "      <th>2</th>\n",
       "      <td>11,0882146509904</td>\n",
       "      <td>Control</td>\n",
       "    </tr>\n",
       "    <tr>\n",
       "      <th>3</th>\n",
       "      <td>10,1472740570122</td>\n",
       "      <td>Control</td>\n",
       "    </tr>\n",
       "    <tr>\n",
       "      <th>4</th>\n",
       "      <td>9,78980767524929</td>\n",
       "      <td>Control</td>\n",
       "    </tr>\n",
       "  </tbody>\n",
       "</table>\n",
       "</div>"
      ],
      "text/plain": [
       "              value experimentVariant\n",
       "0  10,3804953740268           Control\n",
       "1  9,54686666784264           Control\n",
       "2  11,0882146509904           Control\n",
       "3  10,1472740570122           Control\n",
       "4  9,78980767524929           Control"
      ]
     },
     "execution_count": 6,
     "metadata": {},
     "output_type": "execute_result"
    }
   ],
   "source": [
    "df.head()"
   ]
  },
  {
   "cell_type": "code",
   "execution_count": 7,
   "id": "bedd8380",
   "metadata": {
    "scrolled": true
   },
   "outputs": [
    {
     "data": {
      "text/plain": [
       "value                object\n",
       "experimentVariant    object\n",
       "dtype: object"
      ]
     },
     "execution_count": 7,
     "metadata": {},
     "output_type": "execute_result"
    }
   ],
   "source": [
    "df.dtypes"
   ]
  },
  {
   "cell_type": "markdown",
   "id": "a2dfb35d",
   "metadata": {},
   "source": [
    "Приведем значение метрики к обрабатываемому виду."
   ]
  },
  {
   "cell_type": "code",
   "execution_count": 8,
   "id": "1521b4d6",
   "metadata": {},
   "outputs": [],
   "source": [
    "df['value'] = df['value'].str.replace(',', '.').astype('float')"
   ]
  },
  {
   "cell_type": "code",
   "execution_count": 9,
   "id": "f5c6945d",
   "metadata": {
    "scrolled": true
   },
   "outputs": [
    {
     "data": {
      "text/html": [
       "<div>\n",
       "<style scoped>\n",
       "    .dataframe tbody tr th:only-of-type {\n",
       "        vertical-align: middle;\n",
       "    }\n",
       "\n",
       "    .dataframe tbody tr th {\n",
       "        vertical-align: top;\n",
       "    }\n",
       "\n",
       "    .dataframe thead th {\n",
       "        text-align: right;\n",
       "    }\n",
       "</style>\n",
       "<table border=\"1\" class=\"dataframe\">\n",
       "  <thead>\n",
       "    <tr style=\"text-align: right;\">\n",
       "      <th></th>\n",
       "      <th>value</th>\n",
       "      <th>experimentVariant</th>\n",
       "    </tr>\n",
       "  </thead>\n",
       "  <tbody>\n",
       "    <tr>\n",
       "      <th>0</th>\n",
       "      <td>10.380495</td>\n",
       "      <td>Control</td>\n",
       "    </tr>\n",
       "    <tr>\n",
       "      <th>1</th>\n",
       "      <td>9.546867</td>\n",
       "      <td>Control</td>\n",
       "    </tr>\n",
       "    <tr>\n",
       "      <th>2</th>\n",
       "      <td>11.088215</td>\n",
       "      <td>Control</td>\n",
       "    </tr>\n",
       "    <tr>\n",
       "      <th>3</th>\n",
       "      <td>10.147274</td>\n",
       "      <td>Control</td>\n",
       "    </tr>\n",
       "    <tr>\n",
       "      <th>4</th>\n",
       "      <td>9.789808</td>\n",
       "      <td>Control</td>\n",
       "    </tr>\n",
       "  </tbody>\n",
       "</table>\n",
       "</div>"
      ],
      "text/plain": [
       "       value experimentVariant\n",
       "0  10.380495           Control\n",
       "1   9.546867           Control\n",
       "2  11.088215           Control\n",
       "3  10.147274           Control\n",
       "4   9.789808           Control"
      ]
     },
     "execution_count": 9,
     "metadata": {},
     "output_type": "execute_result"
    }
   ],
   "source": [
    "df.head()"
   ]
  },
  {
   "cell_type": "code",
   "execution_count": 10,
   "id": "d034f4cd",
   "metadata": {},
   "outputs": [
    {
     "data": {
      "text/plain": [
       "value                float64\n",
       "experimentVariant     object\n",
       "dtype: object"
      ]
     },
     "execution_count": 10,
     "metadata": {},
     "output_type": "execute_result"
    }
   ],
   "source": [
    "df.dtypes"
   ]
  },
  {
   "cell_type": "code",
   "execution_count": 11,
   "id": "81f67dde",
   "metadata": {},
   "outputs": [],
   "source": [
    "df_control = df.query('experimentVariant == \"Control\"').reset_index(drop=True)['value']"
   ]
  },
  {
   "cell_type": "code",
   "execution_count": 12,
   "id": "a0c1d214",
   "metadata": {},
   "outputs": [
    {
     "data": {
      "text/plain": [
       "0    10.380495\n",
       "1     9.546867\n",
       "2    11.088215\n",
       "3    10.147274\n",
       "4     9.789808\n",
       "Name: value, dtype: float64"
      ]
     },
     "execution_count": 12,
     "metadata": {},
     "output_type": "execute_result"
    }
   ],
   "source": [
    "df_control.head()"
   ]
  },
  {
   "cell_type": "markdown",
   "id": "14c7b428",
   "metadata": {},
   "source": [
    "Посмотрим на распределение метрики в контрольной группе."
   ]
  },
  {
   "cell_type": "code",
   "execution_count": 13,
   "id": "a227e852",
   "metadata": {},
   "outputs": [
    {
     "data": {
      "image/png": "[encoded data removed]",
      "text/plain": [
       "<Figure size 864x576 with 1 Axes>"
      ]
     },
     "metadata": {},
     "output_type": "display_data"
    }
   ],
   "source": [
    "sns.set(rc = {'figure.figsize':(12,8)})\n",
    "sns.distplot(df_control)\n",
    "sns.despine()"
   ]
  },
  {
   "cell_type": "markdown",
   "id": "3ec10f27",
   "metadata": {},
   "source": [
    "Распределение признака в контрольной группе - нормальное."
   ]
  },
  {
   "cell_type": "code",
   "execution_count": 14,
   "id": "a6d7a8a1",
   "metadata": {},
   "outputs": [],
   "source": [
    "df_test = df.query('experimentVariant == \"Treatment\"').reset_index(drop=True)['value']"
   ]
  },
  {
   "cell_type": "code",
   "execution_count": 15,
   "id": "5bb753ad",
   "metadata": {},
   "outputs": [
    {
     "data": {
      "text/plain": [
       "0    10.380495\n",
       "1     9.546867\n",
       "2    11.088215\n",
       "3    10.147274\n",
       "4     9.789808\n",
       "Name: value, dtype: float64"
      ]
     },
     "execution_count": 15,
     "metadata": {},
     "output_type": "execute_result"
    }
   ],
   "source": [
    "df_test.head()"
   ]
  },
  {
   "cell_type": "markdown",
   "id": "dc64a83a",
   "metadata": {},
   "source": [
    "Посмотрим на распределение метрики в тестовой группе."
   ]
  },
  {
   "cell_type": "code",
   "execution_count": 16,
   "id": "d57088cd",
   "metadata": {},
   "outputs": [
    {
     "data": {
      "image/png": "[encoded data removed]",
      "text/plain": [
       "<Figure size 1080x288 with 1 Axes>"
      ]
     },
     "metadata": {},
     "output_type": "display_data"
    }
   ],
   "source": [
    "sns.set(rc = {'figure.figsize':(15,4)})\n",
    "sns.distplot(df_test)\n",
    "sns.despine()"
   ]
  },
  {
   "cell_type": "markdown",
   "id": "c52bb603",
   "metadata": {},
   "source": [
    "Распределение признака в тестовой группе не является нормальным, заметны выбросы."
   ]
  },
  {
   "cell_type": "markdown",
   "id": "773ecfab",
   "metadata": {},
   "source": [
    "Создадим функцию для проверки гипотез с помощью метода bootstrap."
   ]
  },
  {
   "cell_type": "code",
   "execution_count": 17,
   "id": "b68c0f74",
   "metadata": {},
   "outputs": [],
   "source": [
    "def get_bootstrap(\n",
    "    data_column_1, # числовые значения первой выборки\n",
    "    data_column_2, # числовые значения второй выборки\n",
    "    boot_it = 1000, # количество бутстрэп-подвыборок\n",
    "    statistic = np.mean, # интересующая нас статистика\n",
    "    bootstrap_conf_level = 0.95 # уровень значимости\n",
    "):\n",
    "    \n",
    "    boot_len = max([len(data_column_1), len(data_column_2)])\n",
    "    boot_data = []\n",
    "    \n",
    "    for i in tqdm(range(boot_it)): # извлекаем подвыборки\n",
    "        \n",
    "        samples_1 = data_column_1.sample(\n",
    "            boot_len, \n",
    "            replace = True # параметр возвращения\n",
    "        ).values\n",
    "        \n",
    "        samples_2 = data_column_2.sample(\n",
    "            boot_len, \n",
    "            replace = True\n",
    "        ).values\n",
    "        \n",
    "        boot_data.append(statistic(samples_1-samples_2)) # применяем статистику\n",
    "    \n",
    "    #приведем все в один датафрейм    \n",
    "    pd_boot_data = pd.DataFrame(boot_data)\n",
    "        \n",
    "    #найдем значения доверительного интервала, относительно нашего уровня значимости\n",
    "    left_quant = (1 - bootstrap_conf_level)/2\n",
    "    right_quant = 1 - (1 - bootstrap_conf_level) / 2\n",
    "    ci = pd_boot_data.quantile([left_quant, right_quant])\n",
    "        \n",
    "    p_1 = norm.cdf(\n",
    "        x = 0, \n",
    "        loc = np.mean(boot_data), \n",
    "        scale = np.std(boot_data)\n",
    "    )\n",
    "    p_2 = norm.cdf(\n",
    "        x = 0, \n",
    "        loc = -np.mean(boot_data), \n",
    "        scale = np.std(boot_data)\n",
    "    )\n",
    "    p_value = min(p_1, p_2) * 2\n",
    "        \n",
    "    # Визуализация\n",
    "    plt.hist(pd_boot_data[0], bins = 50, color='blue')\n",
    "    \n",
    "    plt.style.use('ggplot')\n",
    "    plt.vlines(ci,ymin=0,ymax=50,colors='black', linestyle='--')\n",
    "    plt.xlabel('boot_data')\n",
    "    plt.ylabel('frequency')\n",
    "    plt.title(\"Histogram of boot_data\")\n",
    "    plt.show()\n",
    "      \n",
    "    return {\"boot_data\": boot_data, \n",
    "            \"quants\": ci, \n",
    "            \"p_value\": p_value}"
   ]
  },
  {
   "cell_type": "markdown",
   "id": "f8cddff8",
   "metadata": {},
   "source": [
    "### Сравним средние значения в тестовой и контрольной группах с помощью бутстрапа\n",
    "* Нулевая гипотеза H0: Средние значения в двух группах не различаются\n",
    "* Альтернативная гипотеза H1: Средние значения различаются"
   ]
  },
  {
   "cell_type": "code",
   "execution_count": 18,
   "id": "e3a651e0",
   "metadata": {
    "scrolled": false
   },
   "outputs": [
    {
     "data": {
      "application/vnd.jupyter.widget-view+json": {
       "model_id": "7463026811ea459aa6adbd2a3d3da316",
       "version_major": 2,
       "version_minor": 0
      },
      "text/plain": [
       "  0%|          | 0/1000 [00:00<?, ?it/s]"
      ]
     },
     "metadata": {},
     "output_type": "display_data"
    },
    {
     "data": {
      "image/png": "[encoded data removed]",
      "text/plain": [
       "<Figure size 1080x288 with 1 Axes>"
      ]
     },
     "metadata": {},
     "output_type": "display_data"
    }
   ],
   "source": [
    "booted_data_mean = get_bootstrap(df_control, df_test, boot_it = 1000, statistic = np.mean) \n",
    "# в результате хранится разница двух распределений, ДИ и p-value"
   ]
  },
  {
   "cell_type": "markdown",
   "id": "b4bd206e",
   "metadata": {},
   "source": [
    "Посмотрим на значения p-value и ДИ. "
   ]
  },
  {
   "cell_type": "code",
   "execution_count": 19,
   "id": "1b812591",
   "metadata": {},
   "outputs": [
    {
     "data": {
      "text/plain": [
       "0.0397"
      ]
     },
     "execution_count": 19,
     "metadata": {},
     "output_type": "execute_result"
    }
   ],
   "source": [
    "booted_data_mean[\"p_value\"].round(4)"
   ]
  },
  {
   "cell_type": "code",
   "execution_count": 20,
   "id": "e0a35fcf",
   "metadata": {},
   "outputs": [
    {
     "data": {
      "text/html": [
       "<div>\n",
       "<style scoped>\n",
       "    .dataframe tbody tr th:only-of-type {\n",
       "        vertical-align: middle;\n",
       "    }\n",
       "\n",
       "    .dataframe tbody tr th {\n",
       "        vertical-align: top;\n",
       "    }\n",
       "\n",
       "    .dataframe thead th {\n",
       "        text-align: right;\n",
       "    }\n",
       "</style>\n",
       "<table border=\"1\" class=\"dataframe\">\n",
       "  <thead>\n",
       "    <tr style=\"text-align: right;\">\n",
       "      <th></th>\n",
       "      <th>0</th>\n",
       "    </tr>\n",
       "  </thead>\n",
       "  <tbody>\n",
       "    <tr>\n",
       "      <th>0.025</th>\n",
       "      <td>-37.151</td>\n",
       "    </tr>\n",
       "    <tr>\n",
       "      <th>0.975</th>\n",
       "      <td>-3.953</td>\n",
       "    </tr>\n",
       "  </tbody>\n",
       "</table>\n",
       "</div>"
      ],
      "text/plain": [
       "            0\n",
       "0.025 -37.151\n",
       "0.975  -3.953"
      ]
     },
     "execution_count": 20,
     "metadata": {},
     "output_type": "execute_result"
    }
   ],
   "source": [
    "booted_data_mean[\"quants\"].round(3)"
   ]
  },
  {
   "cell_type": "markdown",
   "id": "582ccb55",
   "metadata": {},
   "source": [
    "### Вывод по бутстрапу (средние значения):\n",
    "Средние значения в тестовой и контрольной группах различаются на заданном уровне значимости, поскольку в 95-процентный доверительный интервал не попадает нулевое значение разницы между двумя средними.\n",
    "\n",
    "`p-value < 0.05` говорит о том, что при условии верности нулевой гипотезы о равенстве средних в двух группах вероятность получить такое или еще большее отклонение разницы от 0 составляет менее 5 %. Значит, мы имеем основание отвергнуть нулевую гипотезу в пользу альтернативной."
   ]
  },
  {
   "cell_type": "markdown",
   "id": "a236c111",
   "metadata": {},
   "source": [
    "### Сравниваем медианы в тестовой и контрольной группах с помощью бутстрапа\n",
    "* Нулевая гипотеза H0: Медианы в двух группах не различаются\n",
    "* Альтернативная гипотеза H1: Медианы различаются"
   ]
  },
  {
   "cell_type": "code",
   "execution_count": 21,
   "id": "10321310",
   "metadata": {},
   "outputs": [
    {
     "data": {
      "application/vnd.jupyter.widget-view+json": {
       "model_id": "b0e5b1148c2d4bf79814a2182a1a184f",
       "version_major": 2,
       "version_minor": 0
      },
      "text/plain": [
       "  0%|          | 0/1000 [00:00<?, ?it/s]"
      ]
     },
     "metadata": {},
     "output_type": "display_data"
    },
    {
     "data": {
      "image/png": "[encoded data removed]",
      "text/plain": [
       "<Figure size 1080x288 with 1 Axes>"
      ]
     },
     "metadata": {},
     "output_type": "display_data"
    }
   ],
   "source": [
    "booted_data_median = get_bootstrap(df_control, df_test, boot_it = 1000, statistic = np.median)\n",
    "# в результате хранится разница двух распределений, ДИ и p-value"
   ]
  },
  {
   "cell_type": "markdown",
   "id": "a6433c3c",
   "metadata": {},
   "source": [
    "Посмотрим на значения p-value и ДИ."
   ]
  },
  {
   "cell_type": "code",
   "execution_count": 22,
   "id": "c4c1191d",
   "metadata": {},
   "outputs": [
    {
     "data": {
      "text/plain": [
       "0.8899"
      ]
     },
     "execution_count": 22,
     "metadata": {},
     "output_type": "execute_result"
    }
   ],
   "source": [
    "booted_data_median[\"p_value\"].round(4)"
   ]
  },
  {
   "cell_type": "code",
   "execution_count": 23,
   "id": "c29a3bba",
   "metadata": {},
   "outputs": [
    {
     "data": {
      "text/html": [
       "<div>\n",
       "<style scoped>\n",
       "    .dataframe tbody tr th:only-of-type {\n",
       "        vertical-align: middle;\n",
       "    }\n",
       "\n",
       "    .dataframe tbody tr th {\n",
       "        vertical-align: top;\n",
       "    }\n",
       "\n",
       "    .dataframe thead th {\n",
       "        text-align: right;\n",
       "    }\n",
       "</style>\n",
       "<table border=\"1\" class=\"dataframe\">\n",
       "  <thead>\n",
       "    <tr style=\"text-align: right;\">\n",
       "      <th></th>\n",
       "      <th>0</th>\n",
       "    </tr>\n",
       "  </thead>\n",
       "  <tbody>\n",
       "    <tr>\n",
       "      <th>0.025</th>\n",
       "      <td>-0.160</td>\n",
       "    </tr>\n",
       "    <tr>\n",
       "      <th>0.975</th>\n",
       "      <td>0.137</td>\n",
       "    </tr>\n",
       "  </tbody>\n",
       "</table>\n",
       "</div>"
      ],
      "text/plain": [
       "           0\n",
       "0.025 -0.160\n",
       "0.975  0.137"
      ]
     },
     "execution_count": 23,
     "metadata": {},
     "output_type": "execute_result"
    }
   ],
   "source": [
    "booted_data_median[\"quants\"].round(3)"
   ]
  },
  {
   "cell_type": "markdown",
   "id": "3513cf56",
   "metadata": {},
   "source": [
    "### Вывод по бутстрапу (медианы):\n",
    "Медианы в тестовой и контрольной группах не различаются на заданном уровне значимости, поскольку в 95-процентный доверительный интервал попадает нулевое значение разницы между медианами двух групп.\n",
    "\n",
    "`p-value > 0.05` говорит о том, что при условии верности нулевой гипотезы о равенстве медиан в двух группах вероятность получить такое или еще большее отклонение разницы от 0 составляет более 5 %. То есть полученная нами разница не оказалась бы редким явлением, если бы медианы двух групп на самом деле были равны. Значит, мы не имеем весомых оснований отвергнуть нулевую гипотезу и остаемся в ее рамках."
   ]
  },
  {
   "cell_type": "markdown",
   "id": "287b38ae",
   "metadata": {},
   "source": [
    "### Сравниваем тестовую и контрольную группы с помощью U-критерия Манна-Уитни\n",
    "* Нулевая гипотеза H0: Группы не различаются\n",
    "* Альтернативная гипотеза H1: Группы различаются"
   ]
  },
  {
   "cell_type": "code",
   "execution_count": 24,
   "id": "e69e3787",
   "metadata": {},
   "outputs": [
    {
     "data": {
      "text/plain": [
       "MannwhitneyuResult(statistic=124189.5, pvalue=0.8592148582485579)"
      ]
     },
     "execution_count": 24,
     "metadata": {},
     "output_type": "execute_result"
    }
   ],
   "source": [
    "mannwhitneyu(df_control, df_test)"
   ]
  },
  {
   "cell_type": "markdown",
   "id": "74982f5d",
   "metadata": {},
   "source": [
    "### Вывод по U-критерию Манна-Уитни:\n",
    "Значение `p-value > 0.05` говорит об отсутствии статистически значимых различий между контрольной и тестовой группами. Мы не имеем оснований отвергнуть нулевую гипотезу, то есть группы не отличаются."
   ]
  },
  {
   "cell_type": "markdown",
   "id": "c1a3527a",
   "metadata": {},
   "source": [
    "## Сравнение результатов и общие выводы"
   ]
  },
  {
   "cell_type": "code",
   "execution_count": 25,
   "id": "dc599785",
   "metadata": {},
   "outputs": [],
   "source": [
    "df_diff = df_control - df_test"
   ]
  },
  {
   "cell_type": "code",
   "execution_count": 26,
   "id": "266c66f8",
   "metadata": {},
   "outputs": [
    {
     "data": {
      "text/plain": [
       "0         0.000000\n",
       "1         0.000000\n",
       "2         0.000000\n",
       "3         0.000000\n",
       "4         0.000000\n",
       "          ...     \n",
       "495    -989.026071\n",
       "496   -1189.738926\n",
       "497   -1491.219910\n",
       "498   -1988.830922\n",
       "499   -2988.500434\n",
       "Name: value, Length: 500, dtype: float64"
      ]
     },
     "execution_count": 26,
     "metadata": {},
     "output_type": "execute_result"
    }
   ],
   "source": [
    "df_diff"
   ]
  },
  {
   "cell_type": "code",
   "execution_count": 27,
   "id": "38eee2bb",
   "metadata": {},
   "outputs": [
    {
     "data": {
      "text/plain": [
       "5"
      ]
     },
     "execution_count": 27,
     "metadata": {},
     "output_type": "execute_result"
    }
   ],
   "source": [
    "len(df_diff[df_diff != 0])"
   ]
  },
  {
   "cell_type": "markdown",
   "id": "79b56bf8",
   "metadata": {},
   "source": [
    "Можно заметить, что контрольная и тестовая группы имеют разные значения только у последних 5 наблюдений."
   ]
  },
  {
   "cell_type": "code",
   "execution_count": 28,
   "id": "ff270d47",
   "metadata": {},
   "outputs": [
    {
     "data": {
      "text/plain": [
       "10.0268665338043"
      ]
     },
     "execution_count": 28,
     "metadata": {},
     "output_type": "execute_result"
    }
   ],
   "source": [
    "df_control.mean()"
   ]
  },
  {
   "cell_type": "code",
   "execution_count": 29,
   "id": "5e731dd2",
   "metadata": {},
   "outputs": [
    {
     "data": {
      "text/plain": [
       "27.321499056661583"
      ]
     },
     "execution_count": 29,
     "metadata": {},
     "output_type": "execute_result"
    }
   ],
   "source": [
    "df_test.mean()"
   ]
  },
  {
   "cell_type": "markdown",
   "id": "9a496fa5",
   "metadata": {},
   "source": [
    "Последние 5 наблюдений в тестовой группе - это экстремально высокие значения, которые смещают среднее тестовой группы в большую сторону.\n",
    "Это объясняет, почему бутстрап для средних значений показал статистически значимое различие `(p < 0.05)` между средними двух групп.\n",
    "\n",
    "В то же время медианы двух групп практически идентичны, так как медиана гораздо менее чувствительна к выбросам, чем среднее:"
   ]
  },
  {
   "cell_type": "code",
   "execution_count": 30,
   "id": "9cecfe63",
   "metadata": {},
   "outputs": [
    {
     "data": {
      "text/plain": [
       "10.0184651909296"
      ]
     },
     "execution_count": 30,
     "metadata": {},
     "output_type": "execute_result"
    }
   ],
   "source": [
    "df_control.median()"
   ]
  },
  {
   "cell_type": "code",
   "execution_count": 31,
   "id": "b2e2fb17",
   "metadata": {},
   "outputs": [
    {
     "data": {
      "text/plain": [
       "10.02584684253515"
      ]
     },
     "execution_count": 31,
     "metadata": {},
     "output_type": "execute_result"
    }
   ],
   "source": [
    "df_test.median()"
   ]
  },
  {
   "cell_type": "markdown",
   "id": "7369efcd",
   "metadata": {},
   "source": [
    "Соответственно, бутстрап для медиан показал отсутствие статистически значимого различия (p > 0.05) между медианами двух групп.\n",
    "\n",
    "Непараметрический U-критерий Манна-Уитни также менее чувствителен к выбросам, поскольку использует ранговую шкалу для оценки различий между двумя группами. Данный критерий также показал, что между группами нет статистически значимых различий.\n",
    "\n",
    "В рассмотренном случае стоит доверять бутстрапу для медиан и U-критерию Манна-Уитни, поскольку они менее чувствительны к экстремально большим (или малым) значениям."
   ]
  }
 ],
 "metadata": {
  "kernelspec": {
   "display_name": "Python 3 (ipykernel)",
   "language": "python",
   "name": "python3"
  },
  "language_info": {
   "codemirror_mode": {
    "name": "ipython",
    "version": 3
   },
   "file_extension": ".py",
   "mimetype": "text/x-python",
   "name": "python",
   "nbconvert_exporter": "python",
   "pygments_lexer": "ipython3",
   "version": "3.9.7"
  }
 },
 "nbformat": 4,
 "nbformat_minor": 5
}
