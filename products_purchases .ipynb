{
 "cells": [
  {
   "cell_type": "markdown",
   "id": "27154be3",
   "metadata": {},
   "source": [
    "В данном мини-проекте проведем анализ данных о покупках продукции. \\\n",
    "Данные имеют следующую структуру:\n",
    "\n",
    "- записываются для каждого пользователя, совершившего покупки, каждый день;\n",
    "- для каждой даты есть своя папка, внутри неё – папки для каждого пользователя;\n",
    "- внутри каждой папки есть файл data.csv, где и хранятся данные."
   ]
  },
  {
   "cell_type": "code",
   "execution_count": 1,
   "id": "10100fd3",
   "metadata": {},
   "outputs": [],
   "source": [
    "import pandas as pd\n",
    "import seaborn as sns\n",
    "import os\n",
    "import warnings\n",
    "warnings.filterwarnings(\"ignore\")"
   ]
  },
  {
   "cell_type": "code",
   "execution_count": 2,
   "id": "6b4617eb",
   "metadata": {},
   "outputs": [],
   "source": [
    "path = 'C:/Users/yarus/projects/data/'"
   ]
  },
  {
   "cell_type": "code",
   "execution_count": 3,
   "id": "8dc145ba",
   "metadata": {},
   "outputs": [
    {
     "data": {
      "text/html": [
       "<div>\n",
       "<style scoped>\n",
       "    .dataframe tbody tr th:only-of-type {\n",
       "        vertical-align: middle;\n",
       "    }\n",
       "\n",
       "    .dataframe tbody tr th {\n",
       "        vertical-align: top;\n",
       "    }\n",
       "\n",
       "    .dataframe thead th {\n",
       "        text-align: right;\n",
       "    }\n",
       "</style>\n",
       "<table border=\"1\" class=\"dataframe\">\n",
       "  <thead>\n",
       "    <tr style=\"text-align: right;\">\n",
       "      <th></th>\n",
       "      <th>product_id</th>\n",
       "      <th>quantity</th>\n",
       "      <th>name</th>\n",
       "      <th>date</th>\n",
       "    </tr>\n",
       "  </thead>\n",
       "  <tbody>\n",
       "    <tr>\n",
       "      <th>0</th>\n",
       "      <td>47</td>\n",
       "      <td>1</td>\n",
       "      <td>Alexey_Smirnov</td>\n",
       "      <td>2020-12-03</td>\n",
       "    </tr>\n",
       "    <tr>\n",
       "      <th>1</th>\n",
       "      <td>57</td>\n",
       "      <td>1</td>\n",
       "      <td>Alexey_Smirnov</td>\n",
       "      <td>2020-12-03</td>\n",
       "    </tr>\n",
       "    <tr>\n",
       "      <th>2</th>\n",
       "      <td>14</td>\n",
       "      <td>2</td>\n",
       "      <td>Alexey_Smirnov</td>\n",
       "      <td>2020-12-03</td>\n",
       "    </tr>\n",
       "    <tr>\n",
       "      <th>3</th>\n",
       "      <td>52</td>\n",
       "      <td>1</td>\n",
       "      <td>Alexey_Smirnov</td>\n",
       "      <td>2020-12-03</td>\n",
       "    </tr>\n",
       "    <tr>\n",
       "      <th>4</th>\n",
       "      <td>1</td>\n",
       "      <td>4</td>\n",
       "      <td>Alexey_Smirnov</td>\n",
       "      <td>2020-12-03</td>\n",
       "    </tr>\n",
       "  </tbody>\n",
       "</table>\n",
       "</div>"
      ],
      "text/plain": [
       "   product_id  quantity            name        date\n",
       "0          47         1  Alexey_Smirnov  2020-12-03\n",
       "1          57         1  Alexey_Smirnov  2020-12-03\n",
       "2          14         2  Alexey_Smirnov  2020-12-03\n",
       "3          52         1  Alexey_Smirnov  2020-12-03\n",
       "4           1         4  Alexey_Smirnov  2020-12-03"
      ]
     },
     "execution_count": 3,
     "metadata": {},
     "output_type": "execute_result"
    }
   ],
   "source": [
    "df=pd.DataFrame()\n",
    "\n",
    "for date in os.listdir(path):\n",
    "    for name in os.listdir(path + date):\n",
    "        file_path = f'{path}{date}/{name}/data.csv'\n",
    "        df_1 = pd.read_csv(file_path, sep = ',', index_col = 0)\n",
    "        df_1['name'], df_1['date'] = name, date\n",
    "        df = pd.concat([df, df_1]).reset_index().drop('index', 1)\n",
    "df.head()"
   ]
  },
  {
   "cell_type": "markdown",
   "id": "352fa02d",
   "metadata": {},
   "source": [
    "Выясним какие пользователи купили больше всего товаров."
   ]
  },
  {
   "cell_type": "code",
   "execution_count": 4,
   "id": "2532985a",
   "metadata": {},
   "outputs": [
    {
     "data": {
      "text/plain": [
       "name\n",
       "Alexey_Smirnov    52\n",
       "Petr_Smirnov      52\n",
       "Name: quantity, dtype: int64"
      ]
     },
     "execution_count": 4,
     "metadata": {},
     "output_type": "execute_result"
    }
   ],
   "source": [
    "df_purchases = df.groupby('name').quantity.sum()\n",
    "max_purchases = df_purchases.max()\n",
    "df_purchases.loc[df_purchases == max_purchases]"
   ]
  },
  {
   "cell_type": "markdown",
   "id": "06e7dc5f",
   "metadata": {},
   "source": [
    "По 52 покупки совершили Смирнов Алексей и Смирнов Петр."
   ]
  },
  {
   "cell_type": "markdown",
   "id": "1c091265",
   "metadata": {},
   "source": [
    "Найдем топ-10 товаров по числу проданных единиц за всё время и построим барплот.  \\\n",
    "ось x – идентификаторы товаров (product_id);  \\\n",
    " ось y – суммарное число покупок (сколько товаров с таким product_id было продано)."
   ]
  },
  {
   "cell_type": "code",
   "execution_count": 5,
   "id": "7470a6d7",
   "metadata": {},
   "outputs": [
    {
     "data": {
      "text/html": [
       "<div>\n",
       "<style scoped>\n",
       "    .dataframe tbody tr th:only-of-type {\n",
       "        vertical-align: middle;\n",
       "    }\n",
       "\n",
       "    .dataframe tbody tr th {\n",
       "        vertical-align: top;\n",
       "    }\n",
       "\n",
       "    .dataframe thead th {\n",
       "        text-align: right;\n",
       "    }\n",
       "</style>\n",
       "<table border=\"1\" class=\"dataframe\">\n",
       "  <thead>\n",
       "    <tr style=\"text-align: right;\">\n",
       "      <th></th>\n",
       "      <th>product_id</th>\n",
       "      <th>quantity</th>\n",
       "    </tr>\n",
       "  </thead>\n",
       "  <tbody>\n",
       "    <tr>\n",
       "      <th>22</th>\n",
       "      <td>27</td>\n",
       "      <td>20</td>\n",
       "    </tr>\n",
       "    <tr>\n",
       "      <th>42</th>\n",
       "      <td>56</td>\n",
       "      <td>18</td>\n",
       "    </tr>\n",
       "    <tr>\n",
       "      <th>21</th>\n",
       "      <td>24</td>\n",
       "      <td>15</td>\n",
       "    </tr>\n",
       "    <tr>\n",
       "      <th>51</th>\n",
       "      <td>74</td>\n",
       "      <td>15</td>\n",
       "    </tr>\n",
       "    <tr>\n",
       "      <th>32</th>\n",
       "      <td>41</td>\n",
       "      <td>14</td>\n",
       "    </tr>\n",
       "    <tr>\n",
       "      <th>27</th>\n",
       "      <td>34</td>\n",
       "      <td>13</td>\n",
       "    </tr>\n",
       "    <tr>\n",
       "      <th>66</th>\n",
       "      <td>94</td>\n",
       "      <td>13</td>\n",
       "    </tr>\n",
       "    <tr>\n",
       "      <th>46</th>\n",
       "      <td>66</td>\n",
       "      <td>13</td>\n",
       "    </tr>\n",
       "    <tr>\n",
       "      <th>65</th>\n",
       "      <td>92</td>\n",
       "      <td>12</td>\n",
       "    </tr>\n",
       "    <tr>\n",
       "      <th>38</th>\n",
       "      <td>50</td>\n",
       "      <td>12</td>\n",
       "    </tr>\n",
       "  </tbody>\n",
       "</table>\n",
       "</div>"
      ],
      "text/plain": [
       "    product_id  quantity\n",
       "22          27        20\n",
       "42          56        18\n",
       "21          24        15\n",
       "51          74        15\n",
       "32          41        14\n",
       "27          34        13\n",
       "66          94        13\n",
       "46          66        13\n",
       "65          92        12\n",
       "38          50        12"
      ]
     },
     "execution_count": 5,
     "metadata": {},
     "output_type": "execute_result"
    }
   ],
   "source": [
    "df_sales = df.groupby('product_id', as_index=False).quantity.sum().sort_values('quantity', ascending=False).head(10)\n",
    "df_sales"
   ]
  },
  {
   "cell_type": "code",
   "execution_count": 6,
   "id": "5ee11074",
   "metadata": {},
   "outputs": [
    {
     "data": {
      "image/png": "[encoded data removed]",
      "text/plain": [
       "<Figure size 864x360 with 1 Axes>"
      ]
     },
     "metadata": {},
     "output_type": "display_data"
    }
   ],
   "source": [
    "sns.set(rc = {'figure.figsize':(12,5)})\n",
    "sns.barplot(data=df_sales, x='product_id', y='quantity', order=df_sales.sort_values('quantity').product_id)\n",
    "sns.despine()"
   ]
  },
  {
   "cell_type": "markdown",
   "id": "e1707ec6",
   "metadata": {},
   "source": [
    "Визуализируем продажи по дням.  \\\n",
    "ось x – дни (date);  \\\n",
    "ось y – суммарное число покупок (сколько товаров с таким product_id было продано)."
   ]
  },
  {
   "cell_type": "code",
   "execution_count": 7,
   "id": "c894219a",
   "metadata": {},
   "outputs": [],
   "source": [
    "df_day_sales  = df.groupby('date', as_index=False).agg({'quantity' : 'sum'}).sort_values('quantity', ascending=False) "
   ]
  },
  {
   "cell_type": "code",
   "execution_count": 8,
   "id": "ec5edc11",
   "metadata": {},
   "outputs": [
    {
     "data": {
      "image/png": "[encoded data removed]",
      "text/plain": [
       "<Figure size 864x360 with 1 Axes>"
      ]
     },
     "metadata": {},
     "output_type": "display_data"
    }
   ],
   "source": [
    "sns.set(rc = {'figure.figsize':(12,5)})\n",
    "sns.barplot(data=df_day_sales, x='date', y='quantity', order=['2020-12-03', '2020-12-04', '2020-12-05', '2020-12-06', \n",
    "                                                              '2020-12-07', '2020-12-08', '2020-12-09'])\n",
    "sns.despine()"
   ]
  },
  {
   "cell_type": "markdown",
   "id": "231b4ce9",
   "metadata": {},
   "source": [
    "Максимальное число товаров было продано 4 декабря. \\\n",
    "8 и 9 декабря было продано примерно одинаковое число товаров. \\\n",
    "4 декабря было куплено почти в два раза больше товаров, чем в предыдущий день. \\\n",
    "Меньше всего товаров было приобретено 6 декабря."
   ]
  },
  {
   "cell_type": "markdown",
   "id": "9aae7497",
   "metadata": {},
   "source": [
    "Выясним сколько пользователей приобрели какой-либо товар повторно (более 1 раза). Повтором будем считать покупку товара с одинаковым product_id, совершенную в разные дни."
   ]
  },
  {
   "cell_type": "code",
   "execution_count": 9,
   "id": "a39a1f2b",
   "metadata": {
    "scrolled": false
   },
   "outputs": [
    {
     "data": {
      "text/html": [
       "<div>\n",
       "<style scoped>\n",
       "    .dataframe tbody tr th:only-of-type {\n",
       "        vertical-align: middle;\n",
       "    }\n",
       "\n",
       "    .dataframe tbody tr th {\n",
       "        vertical-align: top;\n",
       "    }\n",
       "\n",
       "    .dataframe thead th {\n",
       "        text-align: right;\n",
       "    }\n",
       "</style>\n",
       "<table border=\"1\" class=\"dataframe\">\n",
       "  <thead>\n",
       "    <tr style=\"text-align: right;\">\n",
       "      <th></th>\n",
       "      <th>name</th>\n",
       "      <th>product_id</th>\n",
       "      <th>repeat_purchases</th>\n",
       "    </tr>\n",
       "  </thead>\n",
       "  <tbody>\n",
       "    <tr>\n",
       "      <th>0</th>\n",
       "      <td>Anton_Ivanov</td>\n",
       "      <td>15</td>\n",
       "      <td>2</td>\n",
       "    </tr>\n",
       "    <tr>\n",
       "      <th>1</th>\n",
       "      <td>Petr_Fedorov</td>\n",
       "      <td>94</td>\n",
       "      <td>2</td>\n",
       "    </tr>\n",
       "    <tr>\n",
       "      <th>2</th>\n",
       "      <td>Alexey_Fedorov</td>\n",
       "      <td>13</td>\n",
       "      <td>1</td>\n",
       "    </tr>\n",
       "    <tr>\n",
       "      <th>3</th>\n",
       "      <td>Petr_Smirnov</td>\n",
       "      <td>21</td>\n",
       "      <td>1</td>\n",
       "    </tr>\n",
       "    <tr>\n",
       "      <th>4</th>\n",
       "      <td>Petr_Petrov</td>\n",
       "      <td>64</td>\n",
       "      <td>1</td>\n",
       "    </tr>\n",
       "  </tbody>\n",
       "</table>\n",
       "</div>"
      ],
      "text/plain": [
       "             name  product_id  repeat_purchases\n",
       "0    Anton_Ivanov          15                 2\n",
       "1    Petr_Fedorov          94                 2\n",
       "2  Alexey_Fedorov          13                 1\n",
       "3    Petr_Smirnov          21                 1\n",
       "4     Petr_Petrov          64                 1"
      ]
     },
     "execution_count": 9,
     "metadata": {},
     "output_type": "execute_result"
    }
   ],
   "source": [
    "df_repeat_purchases = df.groupby(['name', 'product_id']).agg({'date': 'nunique'}).sort_values('date', ascending=False)\n",
    "df_repeat_purchases.rename(columns = {'date': 'repeat_purchases'}).reset_index().head()"
   ]
  },
  {
   "cell_type": "markdown",
   "id": "03ebbb64",
   "metadata": {},
   "source": [
    "Можно заметить, что таких пользователей всего два."
   ]
  }
 ],
 "metadata": {
  "kernelspec": {
   "display_name": "Python 3 (ipykernel)",
   "language": "python",
   "name": "python3"
  },
  "language_info": {
   "codemirror_mode": {
    "name": "ipython",
    "version": 3
   },
   "file_extension": ".py",
   "mimetype": "text/x-python",
   "name": "python",
   "nbconvert_exporter": "python",
   "pygments_lexer": "ipython3",
   "version": "3.9.7"
  }
 },
 "nbformat": 4,
 "nbformat_minor": 5
}
