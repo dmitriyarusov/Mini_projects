{
 "cells": [
  {
   "cell_type": "markdown",
   "id": "81690183",
   "metadata": {},
   "source": [
    "В текущем мини-проекте проведем анализ данных компании (за два года: с 4 января 2015 по 3 января 2017.), которая занимается арендой велосипедов в Лондоне. Изучим динамику числа аренд, наличие связи с погодными условиями и выходными, а также объясним несколько аномалий на графике."
   ]
  },
  {
   "cell_type": "code",
   "execution_count": 1,
   "id": "f06252ca",
   "metadata": {},
   "outputs": [],
   "source": [
    "import pandas as pd\n",
    "import numpy as np\n",
    "import seaborn as sns\n",
    "import matplotlib.pyplot as plt\n",
    "%matplotlib inline"
   ]
  },
  {
   "cell_type": "markdown",
   "id": "06e3c425",
   "metadata": {},
   "source": [
    "Загрузим данные, проверим число наблюдений и столбцов, наличие пропусков. Убедимся, что типы данных были прочитаны правильно. "
   ]
  },
  {
   "cell_type": "code",
   "execution_count": 2,
   "id": "98dd9f76",
   "metadata": {},
   "outputs": [],
   "source": [
    "df = pd.read_csv(r\"C:\\Users\\yarus\\projects\\data\\london.csv\", parse_dates=['timestamp'])"
   ]
  },
  {
   "cell_type": "code",
   "execution_count": 3,
   "id": "b2c6d05c",
   "metadata": {
    "scrolled": true
   },
   "outputs": [
    {
     "data": {
      "text/html": [
       "<div>\n",
       "<style scoped>\n",
       "    .dataframe tbody tr th:only-of-type {\n",
       "        vertical-align: middle;\n",
       "    }\n",
       "\n",
       "    .dataframe tbody tr th {\n",
       "        vertical-align: top;\n",
       "    }\n",
       "\n",
       "    .dataframe thead th {\n",
       "        text-align: right;\n",
       "    }\n",
       "</style>\n",
       "<table border=\"1\" class=\"dataframe\">\n",
       "  <thead>\n",
       "    <tr style=\"text-align: right;\">\n",
       "      <th></th>\n",
       "      <th>timestamp</th>\n",
       "      <th>cnt</th>\n",
       "      <th>t1</th>\n",
       "      <th>t2</th>\n",
       "      <th>hum</th>\n",
       "      <th>wind_speed</th>\n",
       "      <th>weather_code</th>\n",
       "      <th>is_holiday</th>\n",
       "      <th>is_weekend</th>\n",
       "      <th>season</th>\n",
       "    </tr>\n",
       "  </thead>\n",
       "  <tbody>\n",
       "    <tr>\n",
       "      <th>0</th>\n",
       "      <td>2015-01-04 00:00:00</td>\n",
       "      <td>182</td>\n",
       "      <td>3.0</td>\n",
       "      <td>2.0</td>\n",
       "      <td>93.0</td>\n",
       "      <td>6.0</td>\n",
       "      <td>3.0</td>\n",
       "      <td>0.0</td>\n",
       "      <td>1.0</td>\n",
       "      <td>3.0</td>\n",
       "    </tr>\n",
       "    <tr>\n",
       "      <th>1</th>\n",
       "      <td>2015-01-04 01:00:00</td>\n",
       "      <td>138</td>\n",
       "      <td>3.0</td>\n",
       "      <td>2.5</td>\n",
       "      <td>93.0</td>\n",
       "      <td>5.0</td>\n",
       "      <td>1.0</td>\n",
       "      <td>0.0</td>\n",
       "      <td>1.0</td>\n",
       "      <td>3.0</td>\n",
       "    </tr>\n",
       "    <tr>\n",
       "      <th>2</th>\n",
       "      <td>2015-01-04 02:00:00</td>\n",
       "      <td>134</td>\n",
       "      <td>2.5</td>\n",
       "      <td>2.5</td>\n",
       "      <td>96.5</td>\n",
       "      <td>0.0</td>\n",
       "      <td>1.0</td>\n",
       "      <td>0.0</td>\n",
       "      <td>1.0</td>\n",
       "      <td>3.0</td>\n",
       "    </tr>\n",
       "    <tr>\n",
       "      <th>3</th>\n",
       "      <td>2015-01-04 03:00:00</td>\n",
       "      <td>72</td>\n",
       "      <td>2.0</td>\n",
       "      <td>2.0</td>\n",
       "      <td>100.0</td>\n",
       "      <td>0.0</td>\n",
       "      <td>1.0</td>\n",
       "      <td>0.0</td>\n",
       "      <td>1.0</td>\n",
       "      <td>3.0</td>\n",
       "    </tr>\n",
       "    <tr>\n",
       "      <th>4</th>\n",
       "      <td>2015-01-04 04:00:00</td>\n",
       "      <td>47</td>\n",
       "      <td>2.0</td>\n",
       "      <td>0.0</td>\n",
       "      <td>93.0</td>\n",
       "      <td>6.5</td>\n",
       "      <td>1.0</td>\n",
       "      <td>0.0</td>\n",
       "      <td>1.0</td>\n",
       "      <td>3.0</td>\n",
       "    </tr>\n",
       "  </tbody>\n",
       "</table>\n",
       "</div>"
      ],
      "text/plain": [
       "            timestamp  cnt   t1   t2    hum  wind_speed  weather_code  \\\n",
       "0 2015-01-04 00:00:00  182  3.0  2.0   93.0         6.0           3.0   \n",
       "1 2015-01-04 01:00:00  138  3.0  2.5   93.0         5.0           1.0   \n",
       "2 2015-01-04 02:00:00  134  2.5  2.5   96.5         0.0           1.0   \n",
       "3 2015-01-04 03:00:00   72  2.0  2.0  100.0         0.0           1.0   \n",
       "4 2015-01-04 04:00:00   47  2.0  0.0   93.0         6.5           1.0   \n",
       "\n",
       "   is_holiday  is_weekend  season  \n",
       "0         0.0         1.0     3.0  \n",
       "1         0.0         1.0     3.0  \n",
       "2         0.0         1.0     3.0  \n",
       "3         0.0         1.0     3.0  \n",
       "4         0.0         1.0     3.0  "
      ]
     },
     "execution_count": 3,
     "metadata": {},
     "output_type": "execute_result"
    }
   ],
   "source": [
    "df.head()"
   ]
  },
  {
   "cell_type": "markdown",
   "id": "418ca9b9",
   "metadata": {},
   "source": [
    "Описание данных: \\\n",
    "timestamp – дата и время (точность до часа) \\\n",
    "cnt – количество аренд велосипедов за этот час \\\n",
    "t1 – температура, в С \\\n",
    "t2 – температура \"ощущается как\", в С \\ \n",
    "hum – влажность (%) \\\n",
    "wind_speed – скорость ветра, км/ч \\\n",
    "\n",
    "weather_code – погодные условия: \\\n",
    "1 – ясно (SKC) \\\n",
    "2 – преимущественно ясно / встречаются отдельные облака (SCT) \\\n",
    "3 – облачно / значительные облака (BKN) \\\n",
    "4 – пасмурно (OVC) \\\n",
    "7 – небольшой дождь Rain/ light Rain shower/ Light rain  \\\n",
    "10 – дождь с грозой \\\n",
    "26 – снегопад \\\n",
    "94 – ледяной туман (да, такое бывает!) \\\n",
    "\n",
    "isholiday – является ли день праздником (1 – праздник, 0 – нет) \\\n",
    "isweekend –  является ли день выходным (1 – выходной, 0 – нет) \\\n",
    "season – метеорологический сезон (0 – весна, 1 – лето, 2 – осень, 3 – зима)"
   ]
  },
  {
   "cell_type": "code",
   "execution_count": 4,
   "id": "d1f62c30",
   "metadata": {
    "scrolled": true
   },
   "outputs": [
    {
     "data": {
      "text/plain": [
       "timestamp       datetime64[ns]\n",
       "cnt                      int64\n",
       "t1                     float64\n",
       "t2                     float64\n",
       "hum                    float64\n",
       "wind_speed             float64\n",
       "weather_code           float64\n",
       "is_holiday             float64\n",
       "is_weekend             float64\n",
       "season                 float64\n",
       "dtype: object"
      ]
     },
     "execution_count": 4,
     "metadata": {},
     "output_type": "execute_result"
    }
   ],
   "source": [
    "df.dtypes"
   ]
  },
  {
   "cell_type": "markdown",
   "id": "d970ee6c",
   "metadata": {},
   "source": [
    "Посмотрим есть ли пропущенные значения."
   ]
  },
  {
   "cell_type": "code",
   "execution_count": 5,
   "id": "fd90b63f",
   "metadata": {},
   "outputs": [
    {
     "data": {
      "text/plain": [
       "timestamp       0\n",
       "cnt             0\n",
       "t1              0\n",
       "t2              0\n",
       "hum             0\n",
       "wind_speed      0\n",
       "weather_code    0\n",
       "is_holiday      0\n",
       "is_weekend      0\n",
       "season          0\n",
       "dtype: int64"
      ]
     },
     "execution_count": 5,
     "metadata": {},
     "output_type": "execute_result"
    }
   ],
   "source": [
    "df.isnull().sum()"
   ]
  },
  {
   "cell_type": "markdown",
   "id": "8b610f6f",
   "metadata": {},
   "source": [
    "Для начала попробуем посмотреть на число поездок по датам и времени. Построим график, где: \\\n",
    "по оси x – дата (timestamp) \\\n",
    "по оси y – число поездок (cnt)"
   ]
  },
  {
   "cell_type": "code",
   "execution_count": 7,
   "id": "6e141574",
   "metadata": {},
   "outputs": [
    {
     "data": {
      "image/png": "[encoded data removed]",
      "text/plain": [
       "<Figure size 432x288 with 1 Axes>"
      ]
     },
     "metadata": {
      "needs_background": "light"
     },
     "output_type": "display_data"
    }
   ],
   "source": [
    "sns.lineplot(data=df, x=df.timestamp, y=df.cnt)\n",
    "sns.despine()"
   ]
  },
  {
   "cell_type": "markdown",
   "id": "4bdcda68",
   "metadata": {},
   "source": [
    "Очень сложно что-то понять, нужно преобразовать данные, чтобы увидеть тренды."
   ]
  },
  {
   "cell_type": "markdown",
   "id": "796933f0",
   "metadata": {},
   "source": [
    "Преобразуем данные при помощи resample. Этот метод позволяет преобразовать данные и применить к какому-либо столбцу другой метод (напр. sum). Так можно рассчитать показатели, например, за весь день или месяц, имея данные с точностью до минут. "
   ]
  },
  {
   "cell_type": "code",
   "execution_count": 8,
   "id": "e5134a1e",
   "metadata": {},
   "outputs": [],
   "source": [
    "df.sort_values(by='timestamp', inplace=True)"
   ]
  },
  {
   "cell_type": "code",
   "execution_count": 9,
   "id": "84e2ae82",
   "metadata": {},
   "outputs": [],
   "source": [
    "df.set_index('timestamp', drop=False, inplace=True)"
   ]
  },
  {
   "cell_type": "code",
   "execution_count": 10,
   "id": "2e810aec",
   "metadata": {},
   "outputs": [
    {
     "data": {
      "image/png": "[encoded data removed]",
      "text/plain": [
       "<Figure size 1440x720 with 1 Axes>"
      ]
     },
     "metadata": {
      "needs_background": "light"
     },
     "output_type": "display_data"
    }
   ],
   "source": [
    "df.resample('D').agg({'cnt':'sum'}).plot(figsize=(20, 10))\n",
    "sns.despine()"
   ]
  },
  {
   "cell_type": "markdown",
   "id": "84c7614c",
   "metadata": {},
   "source": [
    "Зимой число аренд меньше, чем летом. \\\n",
    "Встречаются как очень резкие скачки числа аренд, так и падения. \\\n",
    "Максимальное число аренд за день составляет более 70 000."
   ]
  },
  {
   "cell_type": "markdown",
   "id": "3e7993ee",
   "metadata": {},
   "source": [
    "Обнаружили на графике некоторые скачки, поэтому проверим, что же могло произойти в эти дни."
   ]
  },
  {
   "cell_type": "code",
   "execution_count": 11,
   "id": "bc58fa04",
   "metadata": {},
   "outputs": [],
   "source": [
    "df_day = df.resample('D').cnt.sum().reset_index()"
   ]
  },
  {
   "cell_type": "code",
   "execution_count": 12,
   "id": "42714433",
   "metadata": {
    "scrolled": true
   },
   "outputs": [
    {
     "data": {
      "text/html": [
       "<div>\n",
       "<style scoped>\n",
       "    .dataframe tbody tr th:only-of-type {\n",
       "        vertical-align: middle;\n",
       "    }\n",
       "\n",
       "    .dataframe tbody tr th {\n",
       "        vertical-align: top;\n",
       "    }\n",
       "\n",
       "    .dataframe thead th {\n",
       "        text-align: right;\n",
       "    }\n",
       "</style>\n",
       "<table border=\"1\" class=\"dataframe\">\n",
       "  <thead>\n",
       "    <tr style=\"text-align: right;\">\n",
       "      <th></th>\n",
       "      <th>timestamp</th>\n",
       "      <th>cnt</th>\n",
       "    </tr>\n",
       "  </thead>\n",
       "  <tbody>\n",
       "    <tr>\n",
       "      <th>0</th>\n",
       "      <td>2015-01-04</td>\n",
       "      <td>9234</td>\n",
       "    </tr>\n",
       "    <tr>\n",
       "      <th>1</th>\n",
       "      <td>2015-01-05</td>\n",
       "      <td>20372</td>\n",
       "    </tr>\n",
       "    <tr>\n",
       "      <th>2</th>\n",
       "      <td>2015-01-06</td>\n",
       "      <td>20613</td>\n",
       "    </tr>\n",
       "    <tr>\n",
       "      <th>3</th>\n",
       "      <td>2015-01-07</td>\n",
       "      <td>21064</td>\n",
       "    </tr>\n",
       "    <tr>\n",
       "      <th>4</th>\n",
       "      <td>2015-01-08</td>\n",
       "      <td>15601</td>\n",
       "    </tr>\n",
       "  </tbody>\n",
       "</table>\n",
       "</div>"
      ],
      "text/plain": [
       "   timestamp    cnt\n",
       "0 2015-01-04   9234\n",
       "1 2015-01-05  20372\n",
       "2 2015-01-06  20613\n",
       "3 2015-01-07  21064\n",
       "4 2015-01-08  15601"
      ]
     },
     "execution_count": 12,
     "metadata": {},
     "output_type": "execute_result"
    }
   ],
   "source": [
    "df_day.head()"
   ]
  },
  {
   "cell_type": "markdown",
   "id": "836330bf",
   "metadata": {},
   "source": [
    "На данном шаге возьмем агрегированные данные по дням с предыдущего шага и посчитаем скользящее среднее с окном 3. "
   ]
  },
  {
   "cell_type": "code",
   "execution_count": 13,
   "id": "77f479e4",
   "metadata": {},
   "outputs": [],
   "source": [
    "df_day_rolling = df.resample('D').cnt.sum().rolling(window=3).mean().reset_index()"
   ]
  },
  {
   "cell_type": "code",
   "execution_count": 14,
   "id": "7f6a8ce2",
   "metadata": {},
   "outputs": [
    {
     "data": {
      "text/html": [
       "<div>\n",
       "<style scoped>\n",
       "    .dataframe tbody tr th:only-of-type {\n",
       "        vertical-align: middle;\n",
       "    }\n",
       "\n",
       "    .dataframe tbody tr th {\n",
       "        vertical-align: top;\n",
       "    }\n",
       "\n",
       "    .dataframe thead th {\n",
       "        text-align: right;\n",
       "    }\n",
       "</style>\n",
       "<table border=\"1\" class=\"dataframe\">\n",
       "  <thead>\n",
       "    <tr style=\"text-align: right;\">\n",
       "      <th></th>\n",
       "      <th>timestamp</th>\n",
       "      <th>cnt</th>\n",
       "    </tr>\n",
       "  </thead>\n",
       "  <tbody>\n",
       "    <tr>\n",
       "      <th>0</th>\n",
       "      <td>2015-01-04</td>\n",
       "      <td>NaN</td>\n",
       "    </tr>\n",
       "    <tr>\n",
       "      <th>1</th>\n",
       "      <td>2015-01-05</td>\n",
       "      <td>NaN</td>\n",
       "    </tr>\n",
       "    <tr>\n",
       "      <th>2</th>\n",
       "      <td>2015-01-06</td>\n",
       "      <td>16739.666667</td>\n",
       "    </tr>\n",
       "    <tr>\n",
       "      <th>3</th>\n",
       "      <td>2015-01-07</td>\n",
       "      <td>20683.000000</td>\n",
       "    </tr>\n",
       "    <tr>\n",
       "      <th>4</th>\n",
       "      <td>2015-01-08</td>\n",
       "      <td>19092.666667</td>\n",
       "    </tr>\n",
       "  </tbody>\n",
       "</table>\n",
       "</div>"
      ],
      "text/plain": [
       "   timestamp           cnt\n",
       "0 2015-01-04           NaN\n",
       "1 2015-01-05           NaN\n",
       "2 2015-01-06  16739.666667\n",
       "3 2015-01-07  20683.000000\n",
       "4 2015-01-08  19092.666667"
      ]
     },
     "execution_count": 14,
     "metadata": {},
     "output_type": "execute_result"
    }
   ],
   "source": [
    "df_day_rolling.head()"
   ]
  },
  {
   "cell_type": "markdown",
   "id": "e0f5906c",
   "metadata": {},
   "source": [
    "Теперь посчитаем разницу между наблюдаемыми и подсчитанными значениями. Далее – применим функцию для подсчета стандартного отклонения."
   ]
  },
  {
   "cell_type": "code",
   "execution_count": 15,
   "id": "22fbbc89",
   "metadata": {},
   "outputs": [
    {
     "data": {
      "text/plain": [
       "4558.59"
      ]
     },
     "execution_count": 15,
     "metadata": {},
     "output_type": "execute_result"
    }
   ],
   "source": [
    "std = round(np.std(df_day['cnt'] - df_day_rolling['cnt']), 2)\n",
    "std"
   ]
  },
  {
   "cell_type": "markdown",
   "id": "ec98496d",
   "metadata": {},
   "source": [
    "Теперь определим границы интервалов. Для этого возьмем данные, полученные при расчете скользящего среднего, и создадим следующие объекты: \\\n",
    "upper_bound – верхняя граница; к скользящим средним прибавляем 2.576∗std \\\n",
    "lower_bound – нижняя граница; вычитаем 2.576∗std\n",
    "\n",
    "Полученные значения запишем в новые столбцы датафрейма с агрегированными данными."
   ]
  },
  {
   "cell_type": "code",
   "execution_count": 16,
   "id": "a5119d6b",
   "metadata": {},
   "outputs": [],
   "source": [
    "upper_bound = df_day_rolling.cnt + (2.576 * std)\n",
    "lower_bound = df_day_rolling.cnt - (2.576 * std)"
   ]
  },
  {
   "cell_type": "code",
   "execution_count": 17,
   "id": "3e0e28fa",
   "metadata": {},
   "outputs": [],
   "source": [
    "df_day['upper_bound'] = upper_bound\n",
    "df_day['lower_bound'] = lower_bound"
   ]
  },
  {
   "cell_type": "code",
   "execution_count": 18,
   "id": "6b1c0062",
   "metadata": {},
   "outputs": [
    {
     "data": {
      "text/html": [
       "<div>\n",
       "<style scoped>\n",
       "    .dataframe tbody tr th:only-of-type {\n",
       "        vertical-align: middle;\n",
       "    }\n",
       "\n",
       "    .dataframe tbody tr th {\n",
       "        vertical-align: top;\n",
       "    }\n",
       "\n",
       "    .dataframe thead th {\n",
       "        text-align: right;\n",
       "    }\n",
       "</style>\n",
       "<table border=\"1\" class=\"dataframe\">\n",
       "  <thead>\n",
       "    <tr style=\"text-align: right;\">\n",
       "      <th></th>\n",
       "      <th>timestamp</th>\n",
       "      <th>cnt</th>\n",
       "      <th>upper_bound</th>\n",
       "      <th>lower_bound</th>\n",
       "    </tr>\n",
       "  </thead>\n",
       "  <tbody>\n",
       "    <tr>\n",
       "      <th>0</th>\n",
       "      <td>2015-01-04</td>\n",
       "      <td>9234</td>\n",
       "      <td>NaN</td>\n",
       "      <td>NaN</td>\n",
       "    </tr>\n",
       "    <tr>\n",
       "      <th>1</th>\n",
       "      <td>2015-01-05</td>\n",
       "      <td>20372</td>\n",
       "      <td>NaN</td>\n",
       "      <td>NaN</td>\n",
       "    </tr>\n",
       "    <tr>\n",
       "      <th>2</th>\n",
       "      <td>2015-01-06</td>\n",
       "      <td>20613</td>\n",
       "      <td>28482.594507</td>\n",
       "      <td>4996.738827</td>\n",
       "    </tr>\n",
       "    <tr>\n",
       "      <th>3</th>\n",
       "      <td>2015-01-07</td>\n",
       "      <td>21064</td>\n",
       "      <td>32425.927840</td>\n",
       "      <td>8940.072160</td>\n",
       "    </tr>\n",
       "    <tr>\n",
       "      <th>4</th>\n",
       "      <td>2015-01-08</td>\n",
       "      <td>15601</td>\n",
       "      <td>30835.594507</td>\n",
       "      <td>7349.738827</td>\n",
       "    </tr>\n",
       "  </tbody>\n",
       "</table>\n",
       "</div>"
      ],
      "text/plain": [
       "   timestamp    cnt   upper_bound  lower_bound\n",
       "0 2015-01-04   9234           NaN          NaN\n",
       "1 2015-01-05  20372           NaN          NaN\n",
       "2 2015-01-06  20613  28482.594507  4996.738827\n",
       "3 2015-01-07  21064  32425.927840  8940.072160\n",
       "4 2015-01-08  15601  30835.594507  7349.738827"
      ]
     },
     "execution_count": 18,
     "metadata": {},
     "output_type": "execute_result"
    }
   ],
   "source": [
    "df_day.head()"
   ]
  },
  {
   "cell_type": "markdown",
   "id": "41bd9c70",
   "metadata": {},
   "source": [
    "И наконец – изучим аномально высокие значения! Сначала выведем наблюдения, для которых наблюдаемые значения оказались больше верхней границы 99% доверительного интервала."
   ]
  },
  {
   "cell_type": "code",
   "execution_count": 19,
   "id": "704ab638",
   "metadata": {},
   "outputs": [
    {
     "data": {
      "text/html": [
       "<div>\n",
       "<style scoped>\n",
       "    .dataframe tbody tr th:only-of-type {\n",
       "        vertical-align: middle;\n",
       "    }\n",
       "\n",
       "    .dataframe tbody tr th {\n",
       "        vertical-align: top;\n",
       "    }\n",
       "\n",
       "    .dataframe thead th {\n",
       "        text-align: right;\n",
       "    }\n",
       "</style>\n",
       "<table border=\"1\" class=\"dataframe\">\n",
       "  <thead>\n",
       "    <tr style=\"text-align: right;\">\n",
       "      <th></th>\n",
       "      <th>timestamp</th>\n",
       "      <th>cnt</th>\n",
       "      <th>upper_bound</th>\n",
       "      <th>lower_bound</th>\n",
       "    </tr>\n",
       "  </thead>\n",
       "  <tbody>\n",
       "    <tr>\n",
       "      <th>186</th>\n",
       "      <td>2015-07-09</td>\n",
       "      <td>72504</td>\n",
       "      <td>62447.927840</td>\n",
       "      <td>38962.072160</td>\n",
       "    </tr>\n",
       "    <tr>\n",
       "      <th>214</th>\n",
       "      <td>2015-08-06</td>\n",
       "      <td>63468</td>\n",
       "      <td>58370.261173</td>\n",
       "      <td>34884.405493</td>\n",
       "    </tr>\n",
       "    <tr>\n",
       "      <th>609</th>\n",
       "      <td>2016-09-04</td>\n",
       "      <td>27512</td>\n",
       "      <td>26001.927840</td>\n",
       "      <td>2516.072160</td>\n",
       "    </tr>\n",
       "    <tr>\n",
       "      <th>721</th>\n",
       "      <td>2016-12-25</td>\n",
       "      <td>36653</td>\n",
       "      <td>31393.594507</td>\n",
       "      <td>7907.738827</td>\n",
       "    </tr>\n",
       "  </tbody>\n",
       "</table>\n",
       "</div>"
      ],
      "text/plain": [
       "     timestamp    cnt   upper_bound   lower_bound\n",
       "186 2015-07-09  72504  62447.927840  38962.072160\n",
       "214 2015-08-06  63468  58370.261173  34884.405493\n",
       "609 2016-09-04  27512  26001.927840   2516.072160\n",
       "721 2016-12-25  36653  31393.594507   7907.738827"
      ]
     },
     "execution_count": 19,
     "metadata": {},
     "output_type": "execute_result"
    }
   ],
   "source": [
    "df_day.query('cnt > upper_bound')"
   ]
  },
  {
   "cell_type": "markdown",
   "id": "17bc3c11",
   "metadata": {},
   "source": [
    "Наибольшая аномалия наблюдается 9 июля 2015 года. Поискав в открытых источниках, можно сделать вывод, что это связано с \n",
    "забастовкой в метро в Лондоне."
   ]
  },
  {
   "cell_type": "markdown",
   "id": "300b08da",
   "metadata": {},
   "source": [
    "Проделаем аналогичную операцию для дней, когда число аренд оказалось ниже ожидаемого. "
   ]
  },
  {
   "cell_type": "code",
   "execution_count": 20,
   "id": "23b63e6a",
   "metadata": {},
   "outputs": [
    {
     "data": {
      "text/html": [
       "<div>\n",
       "<style scoped>\n",
       "    .dataframe tbody tr th:only-of-type {\n",
       "        vertical-align: middle;\n",
       "    }\n",
       "\n",
       "    .dataframe tbody tr th {\n",
       "        vertical-align: top;\n",
       "    }\n",
       "\n",
       "    .dataframe thead th {\n",
       "        text-align: right;\n",
       "    }\n",
       "</style>\n",
       "<table border=\"1\" class=\"dataframe\">\n",
       "  <thead>\n",
       "    <tr style=\"text-align: right;\">\n",
       "      <th></th>\n",
       "      <th>timestamp</th>\n",
       "      <th>cnt</th>\n",
       "      <th>upper_bound</th>\n",
       "      <th>lower_bound</th>\n",
       "    </tr>\n",
       "  </thead>\n",
       "  <tbody>\n",
       "    <tr>\n",
       "      <th>130</th>\n",
       "      <td>2015-05-14</td>\n",
       "      <td>15609</td>\n",
       "      <td>40452.261173</td>\n",
       "      <td>16966.405493</td>\n",
       "    </tr>\n",
       "    <tr>\n",
       "      <th>189</th>\n",
       "      <td>2015-07-12</td>\n",
       "      <td>23240</td>\n",
       "      <td>47779.594507</td>\n",
       "      <td>24293.738827</td>\n",
       "    </tr>\n",
       "    <tr>\n",
       "      <th>201</th>\n",
       "      <td>2015-07-24</td>\n",
       "      <td>16034</td>\n",
       "      <td>42756.594507</td>\n",
       "      <td>19270.738827</td>\n",
       "    </tr>\n",
       "    <tr>\n",
       "      <th>232</th>\n",
       "      <td>2015-08-24</td>\n",
       "      <td>17400</td>\n",
       "      <td>41272.261173</td>\n",
       "      <td>17786.405493</td>\n",
       "    </tr>\n",
       "    <tr>\n",
       "      <th>314</th>\n",
       "      <td>2015-11-14</td>\n",
       "      <td>8898</td>\n",
       "      <td>32780.261173</td>\n",
       "      <td>9294.405493</td>\n",
       "    </tr>\n",
       "    <tr>\n",
       "      <th>607</th>\n",
       "      <td>2016-09-02</td>\n",
       "      <td>0</td>\n",
       "      <td>37829.261173</td>\n",
       "      <td>14343.405493</td>\n",
       "    </tr>\n",
       "    <tr>\n",
       "      <th>615</th>\n",
       "      <td>2016-09-10</td>\n",
       "      <td>17080</td>\n",
       "      <td>43004.927840</td>\n",
       "      <td>19519.072160</td>\n",
       "    </tr>\n",
       "    <tr>\n",
       "      <th>621</th>\n",
       "      <td>2016-09-16</td>\n",
       "      <td>21967</td>\n",
       "      <td>47936.261173</td>\n",
       "      <td>24450.405493</td>\n",
       "    </tr>\n",
       "    <tr>\n",
       "      <th>678</th>\n",
       "      <td>2016-11-12</td>\n",
       "      <td>8990</td>\n",
       "      <td>32620.927840</td>\n",
       "      <td>9135.072160</td>\n",
       "    </tr>\n",
       "  </tbody>\n",
       "</table>\n",
       "</div>"
      ],
      "text/plain": [
       "     timestamp    cnt   upper_bound   lower_bound\n",
       "130 2015-05-14  15609  40452.261173  16966.405493\n",
       "189 2015-07-12  23240  47779.594507  24293.738827\n",
       "201 2015-07-24  16034  42756.594507  19270.738827\n",
       "232 2015-08-24  17400  41272.261173  17786.405493\n",
       "314 2015-11-14   8898  32780.261173   9294.405493\n",
       "607 2016-09-02      0  37829.261173  14343.405493\n",
       "615 2016-09-10  17080  43004.927840  19519.072160\n",
       "621 2016-09-16  21967  47936.261173  24450.405493\n",
       "678 2016-11-12   8990  32620.927840   9135.072160"
      ]
     },
     "execution_count": 20,
     "metadata": {},
     "output_type": "execute_result"
    }
   ],
   "source": [
    "df_day.query('cnt < lower_bound')"
   ]
  },
  {
   "cell_type": "markdown",
   "id": "553d5693",
   "metadata": {},
   "source": [
    "Сильная аномалия в значениях наблюдается 2 сентября 2016 года, что связано с ошибкой в сборе данных."
   ]
  }
 ],
 "metadata": {
  "kernelspec": {
   "display_name": "Python 3 (ipykernel)",
   "language": "python",
   "name": "python3"
  },
  "language_info": {
   "codemirror_mode": {
    "name": "ipython",
    "version": 3
   },
   "file_extension": ".py",
   "mimetype": "text/x-python",
   "name": "python",
   "nbconvert_exporter": "python",
   "pygments_lexer": "ipython3",
   "version": "3.9.7"
  }
 },
 "nbformat": 4,
 "nbformat_minor": 5
}
