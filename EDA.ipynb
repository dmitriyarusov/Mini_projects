{
 "cells": [
  {
   "cell_type": "markdown",
   "metadata": {},
   "source": [
    "В данном мини-проекте проведем разведочный анализ данных (EDA)."
   ]
  },
  {
   "cell_type": "code",
   "execution_count": 1,
   "metadata": {},
   "outputs": [],
   "source": [
    "import pandas as pd\n",
    "import numpy as np\n",
    "import seaborn as sns\n",
    "import matplotlib.pyplot as plt\n",
    "import warnings\n",
    "warnings.simplefilter(action='ignore', category=FutureWarning)"
   ]
  },
  {
   "cell_type": "markdown",
   "metadata": {},
   "source": [
    "Загружаем и обрабатываем датафрейм."
   ]
  },
  {
   "cell_type": "code",
   "execution_count": 2,
   "metadata": {},
   "outputs": [],
   "source": [
    "df = pd.read_csv(r'C:\\Users\\yarus\\Downloads\\Проект\\Проект\\data\\data.csv', encoding='1251')"
   ]
  },
  {
   "cell_type": "code",
   "execution_count": 3,
   "metadata": {
    "scrolled": true
   },
   "outputs": [
    {
     "data": {
      "text/html": [
       "<div>\n",
       "<style scoped>\n",
       "    .dataframe tbody tr th:only-of-type {\n",
       "        vertical-align: middle;\n",
       "    }\n",
       "\n",
       "    .dataframe tbody tr th {\n",
       "        vertical-align: top;\n",
       "    }\n",
       "\n",
       "    .dataframe thead th {\n",
       "        text-align: right;\n",
       "    }\n",
       "</style>\n",
       "<table border=\"1\" class=\"dataframe\">\n",
       "  <thead>\n",
       "    <tr style=\"text-align: right;\">\n",
       "      <th></th>\n",
       "      <th>DR_Dat</th>\n",
       "      <th>DR_Tim</th>\n",
       "      <th>DR_NChk</th>\n",
       "      <th>DR_NDoc</th>\n",
       "      <th>DR_Apt</th>\n",
       "      <th>DR_Kkm</th>\n",
       "      <th>DR_TDoc</th>\n",
       "      <th>DR_TPay</th>\n",
       "      <th>DR_CDrugs</th>\n",
       "      <th>DR_NDrugs</th>\n",
       "      <th>...</th>\n",
       "      <th>DR_Prod</th>\n",
       "      <th>DR_Kol</th>\n",
       "      <th>DR_CZak</th>\n",
       "      <th>DR_CRoz</th>\n",
       "      <th>DR_SDisc</th>\n",
       "      <th>DR_CDisc</th>\n",
       "      <th>DR_BCDisc</th>\n",
       "      <th>DR_TabEmpl</th>\n",
       "      <th>DR_VZak</th>\n",
       "      <th>DR_Pos</th>\n",
       "    </tr>\n",
       "  </thead>\n",
       "  <tbody>\n",
       "    <tr>\n",
       "      <th>0</th>\n",
       "      <td>2022-08-11</td>\n",
       "      <td>10:15:35</td>\n",
       "      <td>2173</td>\n",
       "      <td>2004598</td>\n",
       "      <td>2</td>\n",
       "      <td>22577</td>\n",
       "      <td>Розничная реализация</td>\n",
       "      <td>18</td>\n",
       "      <td>45399</td>\n",
       "      <td>ЦИПРОЛЕТ 3МГ/МЛ. 5МЛ. №1 ГЛ.КАПЛИ ФЛ./КАП. /Д-...</td>\n",
       "      <td>...</td>\n",
       "      <td>Д-р Редди с Лабораторис Лтд / Dr.REDDY's</td>\n",
       "      <td>1.0</td>\n",
       "      <td>41.08</td>\n",
       "      <td>51.0</td>\n",
       "      <td>12.0</td>\n",
       "      <td>925.0</td>\n",
       "      <td>2.000000e+11</td>\n",
       "      <td>205</td>\n",
       "      <td>1</td>\n",
       "      <td>1.0</td>\n",
       "    </tr>\n",
       "    <tr>\n",
       "      <th>1</th>\n",
       "      <td>2022-08-11</td>\n",
       "      <td>10:27:46</td>\n",
       "      <td>2174</td>\n",
       "      <td>2004598</td>\n",
       "      <td>2</td>\n",
       "      <td>22577</td>\n",
       "      <td>Розничная реализация</td>\n",
       "      <td>15</td>\n",
       "      <td>261519</td>\n",
       "      <td>ПЕРЕКИСЬ ВОДОРОДА 3% 100МЛ. №40 Р-Р ФЛ.</td>\n",
       "      <td>...</td>\n",
       "      <td>ФЛОРА КАВКАЗА ОАО</td>\n",
       "      <td>1.0</td>\n",
       "      <td>18.61</td>\n",
       "      <td>31.0</td>\n",
       "      <td>3.0</td>\n",
       "      <td>9.0</td>\n",
       "      <td>2.000100e+11</td>\n",
       "      <td>205</td>\n",
       "      <td>1</td>\n",
       "      <td>1.0</td>\n",
       "    </tr>\n",
       "    <tr>\n",
       "      <th>2</th>\n",
       "      <td>2022-08-11</td>\n",
       "      <td>10:27:46</td>\n",
       "      <td>2174</td>\n",
       "      <td>2004598</td>\n",
       "      <td>2</td>\n",
       "      <td>22577</td>\n",
       "      <td>Розничная реализация</td>\n",
       "      <td>15</td>\n",
       "      <td>460864</td>\n",
       "      <td>СОФЬЯ ГЕЛЬ Д/НОГ ВЕНОТОНИЗ. ТРОКСЕРУТИН ФОРТЕ ...</td>\n",
       "      <td>...</td>\n",
       "      <td>КОРОЛЕВФАРМ ООО</td>\n",
       "      <td>1.0</td>\n",
       "      <td>132.69</td>\n",
       "      <td>209.0</td>\n",
       "      <td>20.0</td>\n",
       "      <td>9.0</td>\n",
       "      <td>2.000100e+11</td>\n",
       "      <td>205</td>\n",
       "      <td>1</td>\n",
       "      <td>2.0</td>\n",
       "    </tr>\n",
       "    <tr>\n",
       "      <th>3</th>\n",
       "      <td>2022-08-11</td>\n",
       "      <td>10:27:46</td>\n",
       "      <td>2174</td>\n",
       "      <td>2004598</td>\n",
       "      <td>2</td>\n",
       "      <td>22577</td>\n",
       "      <td>Розничная реализация</td>\n",
       "      <td>15</td>\n",
       "      <td>172823</td>\n",
       "      <td>СОФЬЯ ГХК КРЕМ Д/ТЕЛА ХОНДРОИТИН+ГЛЮКОЗАМИН 12...</td>\n",
       "      <td>...</td>\n",
       "      <td>КОРОЛЕВФАРМ ООО</td>\n",
       "      <td>1.0</td>\n",
       "      <td>133.65</td>\n",
       "      <td>210.0</td>\n",
       "      <td>21.0</td>\n",
       "      <td>9.0</td>\n",
       "      <td>2.000100e+11</td>\n",
       "      <td>205</td>\n",
       "      <td>1</td>\n",
       "      <td>3.0</td>\n",
       "    </tr>\n",
       "    <tr>\n",
       "      <th>4</th>\n",
       "      <td>2022-08-11</td>\n",
       "      <td>10:33:56</td>\n",
       "      <td>2175</td>\n",
       "      <td>2004598</td>\n",
       "      <td>2</td>\n",
       "      <td>22577</td>\n",
       "      <td>Розничная реализация</td>\n",
       "      <td>18</td>\n",
       "      <td>79056</td>\n",
       "      <td>ГАЛВУС 50МГ. №28 ТАБ. /НОВАРТИС/</td>\n",
       "      <td>...</td>\n",
       "      <td>Новартис Фарма АГ</td>\n",
       "      <td>1.0</td>\n",
       "      <td>709.95</td>\n",
       "      <td>787.0</td>\n",
       "      <td>49.0</td>\n",
       "      <td>925.0</td>\n",
       "      <td>2.000000e+11</td>\n",
       "      <td>205</td>\n",
       "      <td>1</td>\n",
       "      <td>1.0</td>\n",
       "    </tr>\n",
       "  </tbody>\n",
       "</table>\n",
       "<p>5 rows × 21 columns</p>\n",
       "</div>"
      ],
      "text/plain": [
       "       DR_Dat    DR_Tim  DR_NChk  DR_NDoc  DR_Apt  DR_Kkm  \\\n",
       "0  2022-08-11  10:15:35     2173  2004598       2   22577   \n",
       "1  2022-08-11  10:27:46     2174  2004598       2   22577   \n",
       "2  2022-08-11  10:27:46     2174  2004598       2   22577   \n",
       "3  2022-08-11  10:27:46     2174  2004598       2   22577   \n",
       "4  2022-08-11  10:33:56     2175  2004598       2   22577   \n",
       "\n",
       "                DR_TDoc  DR_TPay  DR_CDrugs  \\\n",
       "0  Розничная реализация       18      45399   \n",
       "1  Розничная реализация       15     261519   \n",
       "2  Розничная реализация       15     460864   \n",
       "3  Розничная реализация       15     172823   \n",
       "4  Розничная реализация       18      79056   \n",
       "\n",
       "                                           DR_NDrugs  ...  \\\n",
       "0  ЦИПРОЛЕТ 3МГ/МЛ. 5МЛ. №1 ГЛ.КАПЛИ ФЛ./КАП. /Д-...  ...   \n",
       "1            ПЕРЕКИСЬ ВОДОРОДА 3% 100МЛ. №40 Р-Р ФЛ.  ...   \n",
       "2  СОФЬЯ ГЕЛЬ Д/НОГ ВЕНОТОНИЗ. ТРОКСЕРУТИН ФОРТЕ ...  ...   \n",
       "3  СОФЬЯ ГХК КРЕМ Д/ТЕЛА ХОНДРОИТИН+ГЛЮКОЗАМИН 12...  ...   \n",
       "4                   ГАЛВУС 50МГ. №28 ТАБ. /НОВАРТИС/  ...   \n",
       "\n",
       "                                    DR_Prod DR_Kol  DR_CZak  DR_CRoz  \\\n",
       "0  Д-р Редди с Лабораторис Лтд / Dr.REDDY's    1.0    41.08     51.0   \n",
       "1                         ФЛОРА КАВКАЗА ОАО    1.0    18.61     31.0   \n",
       "2                           КОРОЛЕВФАРМ ООО    1.0   132.69    209.0   \n",
       "3                           КОРОЛЕВФАРМ ООО    1.0   133.65    210.0   \n",
       "4                         Новартис Фарма АГ    1.0   709.95    787.0   \n",
       "\n",
       "   DR_SDisc  DR_CDisc     DR_BCDisc  DR_TabEmpl  DR_VZak  DR_Pos  \n",
       "0      12.0     925.0  2.000000e+11         205        1     1.0  \n",
       "1       3.0       9.0  2.000100e+11         205        1     1.0  \n",
       "2      20.0       9.0  2.000100e+11         205        1     2.0  \n",
       "3      21.0       9.0  2.000100e+11         205        1     3.0  \n",
       "4      49.0     925.0  2.000000e+11         205        1     1.0  \n",
       "\n",
       "[5 rows x 21 columns]"
      ]
     },
     "execution_count": 3,
     "metadata": {},
     "output_type": "execute_result"
    }
   ],
   "source": [
    "df.head()"
   ]
  },
  {
   "cell_type": "markdown",
   "metadata": {},
   "source": [
    "Настроим максимальное значение отображаемых колонок, а также формат значений с плавающей точкой."
   ]
  },
  {
   "cell_type": "code",
   "execution_count": 4,
   "metadata": {},
   "outputs": [
    {
     "name": "stdout",
     "output_type": "stream",
     "text": [
      "compute.use_bottleneck : bool\n",
      "    Use the bottleneck library to accelerate if it is installed,\n",
      "    the default is True\n",
      "    Valid values: False,True\n",
      "    [default: True] [currently: True]\n",
      "compute.use_numba : bool\n",
      "    Use the numba engine option for select operations if it is installed,\n",
      "    the default is False\n",
      "    Valid values: False,True\n",
      "    [default: False] [currently: False]\n",
      "compute.use_numexpr : bool\n",
      "    Use the numexpr library to accelerate computation if it is installed,\n",
      "    the default is True\n",
      "    Valid values: False,True\n",
      "    [default: True] [currently: True]\n",
      "display.chop_threshold : float or None\n",
      "    if set to a float value, all float values smaller then the given threshold\n",
      "    will be displayed as exactly 0 by repr and friends.\n",
      "    [default: None] [currently: None]\n",
      "display.colheader_justify : 'left'/'right'\n",
      "    Controls the justification of column headers. used by DataFrameFormatter.\n",
      "    [default: right] [currently: right]\n",
      "display.column_space No description available.\n",
      "    [default: 12] [currently: 12]\n",
      "display.date_dayfirst : boolean\n",
      "    When True, prints and parses dates with the day first, eg 20/01/2005\n",
      "    [default: False] [currently: False]\n",
      "display.date_yearfirst : boolean\n",
      "    When True, prints and parses dates with the year first, eg 2005/01/20\n",
      "    [default: False] [currently: False]\n",
      "display.encoding : str/unicode\n",
      "    Defaults to the detected encoding of the console.\n",
      "    Specifies the encoding to be used for strings returned by to_string,\n",
      "    these are generally strings meant to be displayed on the console.\n",
      "    [default: UTF-8] [currently: UTF-8]\n",
      "display.expand_frame_repr : boolean\n",
      "    Whether to print out the full DataFrame repr for wide DataFrames across\n",
      "    multiple lines, `max_columns` is still respected, but the output will\n",
      "    wrap-around across multiple \"pages\" if its width exceeds `display.width`.\n",
      "    [default: True] [currently: True]\n",
      "display.float_format : callable\n",
      "    The callable should accept a floating point number and return\n",
      "    a string with the desired format of the number. This is used\n",
      "    in some places like SeriesFormatter.\n",
      "    See formats.format.EngFormatter for an example.\n",
      "    [default: None] [currently: None]\n",
      "display.html.border : int\n",
      "    A ``border=value`` attribute is inserted in the ``<table>`` tag\n",
      "    for the DataFrame HTML repr.\n",
      "    [default: 1] [currently: 1]\n",
      "display.html.table_schema : boolean\n",
      "    Whether to publish a Table Schema representation for frontends\n",
      "    that support it.\n",
      "    (default: False)\n",
      "    [default: False] [currently: False]\n",
      "display.html.use_mathjax : boolean\n",
      "    When True, Jupyter notebook will process table contents using MathJax,\n",
      "    rendering mathematical expressions enclosed by the dollar symbol.\n",
      "    (default: True)\n",
      "    [default: True] [currently: True]\n",
      "display.large_repr : 'truncate'/'info'\n",
      "    For DataFrames exceeding max_rows/max_cols, the repr (and HTML repr) can\n",
      "    show a truncated table (the default from 0.13), or switch to the view from\n",
      "    df.info() (the behaviour in earlier versions of pandas).\n",
      "    [default: truncate] [currently: truncate]\n",
      "display.latex.escape : bool\n",
      "    This specifies if the to_latex method of a Dataframe uses escapes special\n",
      "    characters.\n",
      "    Valid values: False,True\n",
      "    [default: True] [currently: True]\n",
      "display.latex.longtable :bool\n",
      "    This specifies if the to_latex method of a Dataframe uses the longtable\n",
      "    format.\n",
      "    Valid values: False,True\n",
      "    [default: False] [currently: False]\n",
      "display.latex.multicolumn : bool\n",
      "    This specifies if the to_latex method of a Dataframe uses multicolumns\n",
      "    to pretty-print MultiIndex columns.\n",
      "    Valid values: False,True\n",
      "    [default: True] [currently: True]\n",
      "display.latex.multicolumn_format : bool\n",
      "    This specifies if the to_latex method of a Dataframe uses multicolumns\n",
      "    to pretty-print MultiIndex columns.\n",
      "    Valid values: False,True\n",
      "    [default: l] [currently: l]\n",
      "display.latex.multirow : bool\n",
      "    This specifies if the to_latex method of a Dataframe uses multirows\n",
      "    to pretty-print MultiIndex rows.\n",
      "    Valid values: False,True\n",
      "    [default: False] [currently: False]\n",
      "display.latex.repr : boolean\n",
      "    Whether to produce a latex DataFrame representation for jupyter\n",
      "    environments that support it.\n",
      "    (default: False)\n",
      "    [default: False] [currently: False]\n",
      "display.max_categories : int\n",
      "    This sets the maximum number of categories pandas should output when\n",
      "    printing out a `Categorical` or a Series of dtype \"category\".\n",
      "    [default: 8] [currently: 8]\n",
      "display.max_columns : int\n",
      "    If max_cols is exceeded, switch to truncate view. Depending on\n",
      "    `large_repr`, objects are either centrally truncated or printed as\n",
      "    a summary view. 'None' value means unlimited.\n",
      "\n",
      "    In case python/IPython is running in a terminal and `large_repr`\n",
      "    equals 'truncate' this can be set to 0 and pandas will auto-detect\n",
      "    the width of the terminal and print a truncated object which fits\n",
      "    the screen width. The IPython notebook, IPython qtconsole, or IDLE\n",
      "    do not run in a terminal and hence it is not possible to do\n",
      "    correct auto-detection.\n",
      "    [default: 20] [currently: 20]\n",
      "display.max_colwidth : int or None\n",
      "    The maximum width in characters of a column in the repr of\n",
      "    a pandas data structure. When the column overflows, a \"...\"\n",
      "    placeholder is embedded in the output. A 'None' value means unlimited.\n",
      "    [default: 50] [currently: 50]\n",
      "display.max_info_columns : int\n",
      "    max_info_columns is used in DataFrame.info method to decide if\n",
      "    per column information will be printed.\n",
      "    [default: 100] [currently: 100]\n",
      "display.max_info_rows : int or None\n",
      "    df.info() will usually show null-counts for each column.\n",
      "    For large frames this can be quite slow. max_info_rows and max_info_cols\n",
      "    limit this null check only to frames with smaller dimensions than\n",
      "    specified.\n",
      "    [default: 1690785] [currently: 1690785]\n",
      "display.max_rows : int\n",
      "    If max_rows is exceeded, switch to truncate view. Depending on\n",
      "    `large_repr`, objects are either centrally truncated or printed as\n",
      "    a summary view. 'None' value means unlimited.\n",
      "\n",
      "    In case python/IPython is running in a terminal and `large_repr`\n",
      "    equals 'truncate' this can be set to 0 and pandas will auto-detect\n",
      "    the height of the terminal and print a truncated object which fits\n",
      "    the screen height. The IPython notebook, IPython qtconsole, or\n",
      "    IDLE do not run in a terminal and hence it is not possible to do\n",
      "    correct auto-detection.\n",
      "    [default: 60] [currently: 60]\n",
      "display.max_seq_items : int or None\n",
      "    When pretty-printing a long sequence, no more then `max_seq_items`\n",
      "    will be printed. If items are omitted, they will be denoted by the\n",
      "    addition of \"...\" to the resulting string.\n",
      "\n",
      "    If set to None, the number of items to be printed is unlimited.\n",
      "    [default: 100] [currently: 100]\n",
      "display.memory_usage : bool, string or None\n",
      "    This specifies if the memory usage of a DataFrame should be displayed when\n",
      "    df.info() is called. Valid values True,False,'deep'\n",
      "    [default: True] [currently: True]\n",
      "display.min_rows : int\n",
      "    The numbers of rows to show in a truncated view (when `max_rows` is\n",
      "    exceeded). Ignored when `max_rows` is set to None or 0. When set to\n",
      "    None, follows the value of `max_rows`.\n",
      "    [default: 10] [currently: 10]\n",
      "display.multi_sparse : boolean\n",
      "    \"sparsify\" MultiIndex display (don't display repeated\n",
      "    elements in outer levels within groups)\n",
      "    [default: True] [currently: True]\n",
      "display.notebook_repr_html : boolean\n",
      "    When True, IPython notebook will use html representation for\n",
      "    pandas objects (if it is available).\n",
      "    [default: True] [currently: True]\n",
      "display.pprint_nest_depth : int\n",
      "    Controls the number of nested levels to process when pretty-printing\n",
      "    [default: 3] [currently: 3]\n",
      "display.precision : int\n",
      "    Floating point output precision in terms of number of places after the\n",
      "    decimal, for regular formatting as well as scientific notation. Similar\n",
      "    to ``precision`` in :meth:`numpy.set_printoptions`.\n",
      "    [default: 6] [currently: 6]\n",
      "display.show_dimensions : boolean or 'truncate'\n",
      "    Whether to print out dimensions at the end of DataFrame repr.\n",
      "    If 'truncate' is specified, only print out the dimensions if the\n",
      "    frame is truncated (e.g. not display all rows and/or columns)\n",
      "    [default: truncate] [currently: truncate]\n",
      "display.unicode.ambiguous_as_wide : boolean\n",
      "    Whether to use the Unicode East Asian Width to calculate the display text\n",
      "    width.\n",
      "    Enabling this may affect to the performance (default: False)\n",
      "    [default: False] [currently: False]\n",
      "display.unicode.east_asian_width : boolean\n",
      "    Whether to use the Unicode East Asian Width to calculate the display text\n",
      "    width.\n",
      "    Enabling this may affect to the performance (default: False)\n",
      "    [default: False] [currently: False]\n",
      "display.width : int\n",
      "    Width of the display in characters. In case python/IPython is running in\n",
      "    a terminal this can be set to None and pandas will correctly auto-detect\n",
      "    the width.\n",
      "    Note that the IPython notebook, IPython qtconsole, or IDLE do not run in a\n",
      "    terminal and hence it is not possible to correctly detect the width.\n",
      "    [default: 80] [currently: 80]\n",
      "io.excel.ods.reader : string\n",
      "    The default Excel reader engine for 'ods' files. Available options:\n",
      "    auto, odf.\n",
      "    [default: auto] [currently: auto]\n",
      "io.excel.ods.writer : string\n",
      "    The default Excel writer engine for 'ods' files. Available options:\n",
      "    auto, odf.\n",
      "    [default: auto] [currently: auto]\n",
      "io.excel.xls.reader : string\n",
      "    The default Excel reader engine for 'xls' files. Available options:\n",
      "    auto, xlrd.\n",
      "    [default: auto] [currently: auto]\n",
      "io.excel.xls.writer : string\n",
      "    The default Excel writer engine for 'xls' files. Available options:\n",
      "    auto, xlwt.\n",
      "    [default: auto] [currently: auto]\n",
      "    (Deprecated, use `` instead.)\n",
      "io.excel.xlsb.reader : string\n",
      "    The default Excel reader engine for 'xlsb' files. Available options:\n",
      "    auto, pyxlsb.\n",
      "    [default: auto] [currently: auto]\n",
      "io.excel.xlsm.reader : string\n",
      "    The default Excel reader engine for 'xlsm' files. Available options:\n",
      "    auto, xlrd, openpyxl.\n",
      "    [default: auto] [currently: auto]\n",
      "io.excel.xlsm.writer : string\n",
      "    The default Excel writer engine for 'xlsm' files. Available options:\n",
      "    auto, openpyxl.\n",
      "    [default: auto] [currently: auto]\n",
      "io.excel.xlsx.reader : string\n",
      "    The default Excel reader engine for 'xlsx' files. Available options:\n",
      "    auto, xlrd, openpyxl.\n",
      "    [default: auto] [currently: auto]\n",
      "io.excel.xlsx.writer : string\n",
      "    The default Excel writer engine for 'xlsx' files. Available options:\n",
      "    auto, openpyxl, xlsxwriter.\n",
      "    [default: auto] [currently: auto]\n",
      "io.hdf.default_format : format\n",
      "    default format writing format, if None, then\n",
      "    put will default to 'fixed' and append will default to 'table'\n",
      "    [default: None] [currently: None]\n",
      "io.hdf.dropna_table : boolean\n",
      "    drop ALL nan rows when appending to a table\n",
      "    [default: False] [currently: False]\n",
      "io.parquet.engine : string\n",
      "    The default parquet reader/writer engine. Available options:\n",
      "    'auto', 'pyarrow', 'fastparquet', the default is 'auto'\n",
      "    [default: auto] [currently: auto]\n",
      "io.sql.engine : string\n",
      "    The default sql reader/writer engine. Available options:\n",
      "    'auto', 'sqlalchemy', the default is 'auto'\n",
      "    [default: auto] [currently: auto]\n",
      "mode.chained_assignment : string\n",
      "    Raise an exception, warn, or no action if trying to use chained assignment,\n",
      "    The default is warn\n",
      "    [default: warn] [currently: warn]\n",
      "mode.data_manager : string\n",
      "    Internal data manager type; can be \"block\" or \"array\". Defaults to \"block\",\n",
      "    unless overridden by the 'PANDAS_DATA_MANAGER' environment variable (needs\n",
      "    to be set before pandas is imported).\n",
      "    [default: block] [currently: block]\n",
      "mode.sim_interactive : boolean\n",
      "    Whether to simulate interactive mode for purposes of testing\n",
      "    [default: False] [currently: False]\n",
      "mode.string_storage : string\n",
      "    The default storage for StringDtype.\n",
      "    [default: python] [currently: python]\n",
      "mode.use_inf_as_na : boolean\n",
      "    True means treat None, NaN, INF, -INF as NA (old way),\n",
      "    False means None and NaN are null, but INF, -INF are not NA\n",
      "    (new way).\n",
      "    [default: False] [currently: False]\n",
      "mode.use_inf_as_null : boolean\n",
      "    use_inf_as_null had been deprecated and will be removed in a future\n",
      "    version. Use `use_inf_as_na` instead.\n",
      "    [default: False] [currently: False]\n",
      "    (Deprecated, use `mode.use_inf_as_na` instead.)\n",
      "plotting.backend : str\n",
      "    The plotting backend to use. The default value is \"matplotlib\", the\n",
      "    backend provided with pandas. Other backends can be specified by\n",
      "    providing the name of the module that implements the backend.\n",
      "    [default: matplotlib] [currently: matplotlib]\n",
      "plotting.matplotlib.register_converters : bool or 'auto'.\n",
      "    Whether to register converters with matplotlib's units registry for\n",
      "    dates, times, datetimes, and Periods. Toggling to False will remove\n",
      "    the converters, restoring any converters that pandas overwrote.\n",
      "    [default: auto] [currently: auto]\n",
      "styler.render.max_elements : int\n",
      "    The maximum number of data-cell (<td>) elements that will be rendered before\n",
      "    trimming will occur over columns, rows or both if needed.\n",
      "    [default: 262144] [currently: 262144]\n",
      "styler.sparse.columns : bool\n",
      "    Whether to sparsify the display of hierarchical columns. Setting to False will\n",
      "    display each explicit level element in a hierarchical key for each column.\n",
      "    [default: True] [currently: True]\n",
      "styler.sparse.index : bool\n",
      "    Whether to sparsify the display of a hierarchical index. Setting to False will\n",
      "    display each explicit level element in a hierarchical key for each row.\n",
      "    [default: True] [currently: True]\n"
     ]
    }
   ],
   "source": [
    "pd.describe_option()"
   ]
  },
  {
   "cell_type": "code",
   "execution_count": 5,
   "metadata": {},
   "outputs": [],
   "source": [
    "pd.set_option('display.max_columns', 40)\n",
    "pd.set_option('display.float_format', '{:.2f}'.format)"
   ]
  },
  {
   "cell_type": "markdown",
   "metadata": {},
   "source": [
    "Посмотрим изменился ли параметр."
   ]
  },
  {
   "cell_type": "code",
   "execution_count": 6,
   "metadata": {},
   "outputs": [
    {
     "data": {
      "text/plain": [
       "40"
      ]
     },
     "execution_count": 6,
     "metadata": {},
     "output_type": "execute_result"
    }
   ],
   "source": [
    "pd.get_option('display.max_columns')"
   ]
  },
  {
   "cell_type": "markdown",
   "metadata": {},
   "source": [
    "Посмотрим на типы данных в датафрейме."
   ]
  },
  {
   "cell_type": "code",
   "execution_count": 7,
   "metadata": {
    "scrolled": true
   },
   "outputs": [
    {
     "data": {
      "text/plain": [
       "DR_Dat         object\n",
       "DR_Tim         object\n",
       "DR_NChk         int64\n",
       "DR_NDoc         int64\n",
       "DR_Apt          int64\n",
       "DR_Kkm          int64\n",
       "DR_TDoc        object\n",
       "DR_TPay         int64\n",
       "DR_CDrugs       int64\n",
       "DR_NDrugs      object\n",
       "DR_Suppl       object\n",
       "DR_Prod        object\n",
       "DR_Kol        float64\n",
       "DR_CZak       float64\n",
       "DR_CRoz       float64\n",
       "DR_SDisc      float64\n",
       "DR_CDisc      float64\n",
       "DR_BCDisc     float64\n",
       "DR_TabEmpl      int64\n",
       "DR_VZak         int64\n",
       "DR_Pos        float64\n",
       "dtype: object"
      ]
     },
     "execution_count": 7,
     "metadata": {},
     "output_type": "execute_result"
    }
   ],
   "source": [
    "df.dtypes"
   ]
  },
  {
   "cell_type": "code",
   "execution_count": 8,
   "metadata": {
    "scrolled": false
   },
   "outputs": [
    {
     "name": "stdout",
     "output_type": "stream",
     "text": [
      "<class 'pandas.core.frame.DataFrame'>\n",
      "RangeIndex: 4462 entries, 0 to 4461\n",
      "Data columns (total 21 columns):\n",
      " #   Column      Non-Null Count  Dtype  \n",
      "---  ------      --------------  -----  \n",
      " 0   DR_Dat      4462 non-null   object \n",
      " 1   DR_Tim      4462 non-null   object \n",
      " 2   DR_NChk     4462 non-null   int64  \n",
      " 3   DR_NDoc     4462 non-null   int64  \n",
      " 4   DR_Apt      4462 non-null   int64  \n",
      " 5   DR_Kkm      4462 non-null   int64  \n",
      " 6   DR_TDoc     4462 non-null   object \n",
      " 7   DR_TPay     4462 non-null   int64  \n",
      " 8   DR_CDrugs   4462 non-null   int64  \n",
      " 9   DR_NDrugs   4462 non-null   object \n",
      " 10  DR_Suppl    4462 non-null   object \n",
      " 11  DR_Prod     4462 non-null   object \n",
      " 12  DR_Kol      4462 non-null   float64\n",
      " 13  DR_CZak     4462 non-null   float64\n",
      " 14  DR_CRoz     4462 non-null   float64\n",
      " 15  DR_SDisc    4462 non-null   float64\n",
      " 16  DR_CDisc    1765 non-null   float64\n",
      " 17  DR_BCDisc   1765 non-null   float64\n",
      " 18  DR_TabEmpl  4462 non-null   int64  \n",
      " 19  DR_VZak     4462 non-null   int64  \n",
      " 20  DR_Pos      4462 non-null   float64\n",
      "dtypes: float64(7), int64(8), object(6)\n",
      "memory usage: 732.2+ KB\n"
     ]
    }
   ],
   "source": [
    "df.info()"
   ]
  },
  {
   "cell_type": "markdown",
   "metadata": {},
   "source": [
    "Посмотрим описательную статистику числовых столбцов."
   ]
  },
  {
   "cell_type": "code",
   "execution_count": 9,
   "metadata": {},
   "outputs": [
    {
     "data": {
      "text/html": [
       "<div>\n",
       "<style scoped>\n",
       "    .dataframe tbody tr th:only-of-type {\n",
       "        vertical-align: middle;\n",
       "    }\n",
       "\n",
       "    .dataframe tbody tr th {\n",
       "        vertical-align: top;\n",
       "    }\n",
       "\n",
       "    .dataframe thead th {\n",
       "        text-align: right;\n",
       "    }\n",
       "</style>\n",
       "<table border=\"1\" class=\"dataframe\">\n",
       "  <thead>\n",
       "    <tr style=\"text-align: right;\">\n",
       "      <th></th>\n",
       "      <th>DR_NChk</th>\n",
       "      <th>DR_NDoc</th>\n",
       "      <th>DR_Apt</th>\n",
       "      <th>DR_Kkm</th>\n",
       "      <th>DR_TPay</th>\n",
       "      <th>DR_CDrugs</th>\n",
       "      <th>DR_Kol</th>\n",
       "      <th>DR_CZak</th>\n",
       "      <th>DR_CRoz</th>\n",
       "      <th>DR_SDisc</th>\n",
       "      <th>DR_CDisc</th>\n",
       "      <th>DR_BCDisc</th>\n",
       "      <th>DR_TabEmpl</th>\n",
       "      <th>DR_VZak</th>\n",
       "      <th>DR_Pos</th>\n",
       "    </tr>\n",
       "  </thead>\n",
       "  <tbody>\n",
       "    <tr>\n",
       "      <th>count</th>\n",
       "      <td>4462.00</td>\n",
       "      <td>4462.00</td>\n",
       "      <td>4462.00</td>\n",
       "      <td>4462.00</td>\n",
       "      <td>4462.00</td>\n",
       "      <td>4462.00</td>\n",
       "      <td>4462.00</td>\n",
       "      <td>4462.00</td>\n",
       "      <td>4462.00</td>\n",
       "      <td>4462.00</td>\n",
       "      <td>1765.00</td>\n",
       "      <td>1765.00</td>\n",
       "      <td>4462.00</td>\n",
       "      <td>4462.00</td>\n",
       "      <td>4462.00</td>\n",
       "    </tr>\n",
       "    <tr>\n",
       "      <th>mean</th>\n",
       "      <td>4903.14</td>\n",
       "      <td>10842995.33</td>\n",
       "      <td>10.84</td>\n",
       "      <td>18654.94</td>\n",
       "      <td>16.90</td>\n",
       "      <td>259227.09</td>\n",
       "      <td>1.03</td>\n",
       "      <td>241.64</td>\n",
       "      <td>306.05</td>\n",
       "      <td>10.56</td>\n",
       "      <td>156.56</td>\n",
       "      <td>200005828567.16</td>\n",
       "      <td>91.74</td>\n",
       "      <td>1.04</td>\n",
       "      <td>2.68</td>\n",
       "    </tr>\n",
       "    <tr>\n",
       "      <th>std</th>\n",
       "      <td>1839.70</td>\n",
       "      <td>6107181.40</td>\n",
       "      <td>6.11</td>\n",
       "      <td>6235.13</td>\n",
       "      <td>1.45</td>\n",
       "      <td>299073.90</td>\n",
       "      <td>0.54</td>\n",
       "      <td>454.56</td>\n",
       "      <td>532.17</td>\n",
       "      <td>31.37</td>\n",
       "      <td>327.36</td>\n",
       "      <td>4942136.81</td>\n",
       "      <td>108.08</td>\n",
       "      <td>0.18</td>\n",
       "      <td>2.75</td>\n",
       "    </tr>\n",
       "    <tr>\n",
       "      <th>min</th>\n",
       "      <td>1698.00</td>\n",
       "      <td>2004595.00</td>\n",
       "      <td>2.00</td>\n",
       "      <td>8712.00</td>\n",
       "      <td>15.00</td>\n",
       "      <td>3.00</td>\n",
       "      <td>0.01</td>\n",
       "      <td>0.01</td>\n",
       "      <td>0.01</td>\n",
       "      <td>0.00</td>\n",
       "      <td>9.00</td>\n",
       "      <td>200000000022.00</td>\n",
       "      <td>25.00</td>\n",
       "      <td>1.00</td>\n",
       "      <td>1.00</td>\n",
       "    </tr>\n",
       "    <tr>\n",
       "      <th>25%</th>\n",
       "      <td>4187.00</td>\n",
       "      <td>6003620.00</td>\n",
       "      <td>6.00</td>\n",
       "      <td>9907.00</td>\n",
       "      <td>15.00</td>\n",
       "      <td>29060.00</td>\n",
       "      <td>1.00</td>\n",
       "      <td>36.64</td>\n",
       "      <td>52.00</td>\n",
       "      <td>0.00</td>\n",
       "      <td>9.00</td>\n",
       "      <td>200000000022.00</td>\n",
       "      <td>37.00</td>\n",
       "      <td>1.00</td>\n",
       "      <td>1.00</td>\n",
       "    </tr>\n",
       "    <tr>\n",
       "      <th>50%</th>\n",
       "      <td>4877.50</td>\n",
       "      <td>11007039.00</td>\n",
       "      <td>11.00</td>\n",
       "      <td>22569.00</td>\n",
       "      <td>18.00</td>\n",
       "      <td>187304.00</td>\n",
       "      <td>1.00</td>\n",
       "      <td>103.78</td>\n",
       "      <td>137.00</td>\n",
       "      <td>0.00</td>\n",
       "      <td>9.00</td>\n",
       "      <td>200010003934.00</td>\n",
       "      <td>53.00</td>\n",
       "      <td>1.00</td>\n",
       "      <td>2.00</td>\n",
       "    </tr>\n",
       "    <tr>\n",
       "      <th>75%</th>\n",
       "      <td>5472.75</td>\n",
       "      <td>18002536.00</td>\n",
       "      <td>18.00</td>\n",
       "      <td>22589.00</td>\n",
       "      <td>18.00</td>\n",
       "      <td>377589.00</td>\n",
       "      <td>1.00</td>\n",
       "      <td>299.06</td>\n",
       "      <td>391.75</td>\n",
       "      <td>7.00</td>\n",
       "      <td>35.00</td>\n",
       "      <td>200010020692.00</td>\n",
       "      <td>123.00</td>\n",
       "      <td>1.00</td>\n",
       "      <td>3.00</td>\n",
       "    </tr>\n",
       "    <tr>\n",
       "      <th>max</th>\n",
       "      <td>8490.00</td>\n",
       "      <td>18002543.00</td>\n",
       "      <td>18.00</td>\n",
       "      <td>23925.00</td>\n",
       "      <td>18.00</td>\n",
       "      <td>1504498.00</td>\n",
       "      <td>20.00</td>\n",
       "      <td>11851.13</td>\n",
       "      <td>12345.00</td>\n",
       "      <td>650.00</td>\n",
       "      <td>941.00</td>\n",
       "      <td>200010027972.00</td>\n",
       "      <td>605.00</td>\n",
       "      <td>2.00</td>\n",
       "      <td>24.00</td>\n",
       "    </tr>\n",
       "  </tbody>\n",
       "</table>\n",
       "</div>"
      ],
      "text/plain": [
       "       DR_NChk     DR_NDoc  DR_Apt   DR_Kkm  DR_TPay  DR_CDrugs  DR_Kol  \\\n",
       "count  4462.00     4462.00 4462.00  4462.00  4462.00    4462.00 4462.00   \n",
       "mean   4903.14 10842995.33   10.84 18654.94    16.90  259227.09    1.03   \n",
       "std    1839.70  6107181.40    6.11  6235.13     1.45  299073.90    0.54   \n",
       "min    1698.00  2004595.00    2.00  8712.00    15.00       3.00    0.01   \n",
       "25%    4187.00  6003620.00    6.00  9907.00    15.00   29060.00    1.00   \n",
       "50%    4877.50 11007039.00   11.00 22569.00    18.00  187304.00    1.00   \n",
       "75%    5472.75 18002536.00   18.00 22589.00    18.00  377589.00    1.00   \n",
       "max    8490.00 18002543.00   18.00 23925.00    18.00 1504498.00   20.00   \n",
       "\n",
       "       DR_CZak  DR_CRoz  DR_SDisc  DR_CDisc       DR_BCDisc  DR_TabEmpl  \\\n",
       "count  4462.00  4462.00   4462.00   1765.00         1765.00     4462.00   \n",
       "mean    241.64   306.05     10.56    156.56 200005828567.16       91.74   \n",
       "std     454.56   532.17     31.37    327.36      4942136.81      108.08   \n",
       "min       0.01     0.01      0.00      9.00 200000000022.00       25.00   \n",
       "25%      36.64    52.00      0.00      9.00 200000000022.00       37.00   \n",
       "50%     103.78   137.00      0.00      9.00 200010003934.00       53.00   \n",
       "75%     299.06   391.75      7.00     35.00 200010020692.00      123.00   \n",
       "max   11851.13 12345.00    650.00    941.00 200010027972.00      605.00   \n",
       "\n",
       "       DR_VZak  DR_Pos  \n",
       "count  4462.00 4462.00  \n",
       "mean      1.04    2.68  \n",
       "std       0.18    2.75  \n",
       "min       1.00    1.00  \n",
       "25%       1.00    1.00  \n",
       "50%       1.00    2.00  \n",
       "75%       1.00    3.00  \n",
       "max       2.00   24.00  "
      ]
     },
     "execution_count": 9,
     "metadata": {},
     "output_type": "execute_result"
    }
   ],
   "source": [
    "df.describe()"
   ]
  },
  {
   "cell_type": "markdown",
   "metadata": {},
   "source": [
    "На количество столбцов и строк."
   ]
  },
  {
   "cell_type": "code",
   "execution_count": 10,
   "metadata": {},
   "outputs": [
    {
     "data": {
      "text/plain": [
       "(4462, 21)"
      ]
     },
     "execution_count": 10,
     "metadata": {},
     "output_type": "execute_result"
    }
   ],
   "source": [
    "df.shape"
   ]
  },
  {
   "cell_type": "code",
   "execution_count": 11,
   "metadata": {},
   "outputs": [
    {
     "data": {
      "text/plain": [
       "93702"
      ]
     },
     "execution_count": 11,
     "metadata": {},
     "output_type": "execute_result"
    }
   ],
   "source": [
    "df.size"
   ]
  },
  {
   "cell_type": "code",
   "execution_count": 12,
   "metadata": {
    "scrolled": true
   },
   "outputs": [
    {
     "data": {
      "text/plain": [
       "RangeIndex(start=0, stop=4462, step=1)"
      ]
     },
     "execution_count": 12,
     "metadata": {},
     "output_type": "execute_result"
    }
   ],
   "source": [
    "df.index"
   ]
  },
  {
   "cell_type": "markdown",
   "metadata": {},
   "source": [
    "Выведем список наименований колонок."
   ]
  },
  {
   "cell_type": "code",
   "execution_count": 13,
   "metadata": {
    "scrolled": true
   },
   "outputs": [
    {
     "data": {
      "text/plain": [
       "Index(['DR_Dat', 'DR_Tim', 'DR_NChk', 'DR_NDoc', 'DR_Apt', 'DR_Kkm', 'DR_TDoc',\n",
       "       'DR_TPay', 'DR_CDrugs', 'DR_NDrugs', 'DR_Suppl', 'DR_Prod', 'DR_Kol',\n",
       "       'DR_CZak', 'DR_CRoz', 'DR_SDisc', 'DR_CDisc', 'DR_BCDisc', 'DR_TabEmpl',\n",
       "       'DR_VZak', 'DR_Pos'],\n",
       "      dtype='object')"
      ]
     },
     "execution_count": 13,
     "metadata": {},
     "output_type": "execute_result"
    }
   ],
   "source": [
    "df.columns"
   ]
  },
  {
   "cell_type": "markdown",
   "metadata": {},
   "source": [
    "Оставим только интересующие нас столбцы с данными."
   ]
  },
  {
   "cell_type": "code",
   "execution_count": 14,
   "metadata": {},
   "outputs": [],
   "source": [
    "our_cols = ['DR_Dat', 'DR_Tim', 'DR_NChk', 'DR_NDoc', 'DR_Apt', 'DR_NDrugs', 'DR_Kol',\n",
    "       'DR_CZak', 'DR_CRoz', 'DR_SDisc', 'DR_TPay', 'DR_CDrugs', 'DR_Suppl', 'DR_CDisc', 'DR_BCDisc', 'DR_TabEmpl', 'DR_VZak', 'DR_Pos', 'DR_CDisc']"
   ]
  },
  {
   "cell_type": "code",
   "execution_count": 15,
   "metadata": {},
   "outputs": [],
   "source": [
    "df = df[our_cols]"
   ]
  },
  {
   "cell_type": "code",
   "execution_count": 16,
   "metadata": {},
   "outputs": [
    {
     "data": {
      "text/html": [
       "<div>\n",
       "<style scoped>\n",
       "    .dataframe tbody tr th:only-of-type {\n",
       "        vertical-align: middle;\n",
       "    }\n",
       "\n",
       "    .dataframe tbody tr th {\n",
       "        vertical-align: top;\n",
       "    }\n",
       "\n",
       "    .dataframe thead th {\n",
       "        text-align: right;\n",
       "    }\n",
       "</style>\n",
       "<table border=\"1\" class=\"dataframe\">\n",
       "  <thead>\n",
       "    <tr style=\"text-align: right;\">\n",
       "      <th></th>\n",
       "      <th>DR_Dat</th>\n",
       "      <th>DR_Tim</th>\n",
       "      <th>DR_NChk</th>\n",
       "      <th>DR_NDoc</th>\n",
       "      <th>DR_Apt</th>\n",
       "      <th>DR_NDrugs</th>\n",
       "      <th>DR_Kol</th>\n",
       "      <th>DR_CZak</th>\n",
       "      <th>DR_CRoz</th>\n",
       "      <th>DR_SDisc</th>\n",
       "      <th>DR_TPay</th>\n",
       "      <th>DR_CDrugs</th>\n",
       "      <th>DR_Suppl</th>\n",
       "      <th>DR_CDisc</th>\n",
       "      <th>DR_BCDisc</th>\n",
       "      <th>DR_TabEmpl</th>\n",
       "      <th>DR_VZak</th>\n",
       "      <th>DR_Pos</th>\n",
       "      <th>DR_CDisc</th>\n",
       "    </tr>\n",
       "  </thead>\n",
       "  <tbody>\n",
       "    <tr>\n",
       "      <th>0</th>\n",
       "      <td>2022-08-11</td>\n",
       "      <td>10:15:35</td>\n",
       "      <td>2173</td>\n",
       "      <td>2004598</td>\n",
       "      <td>2</td>\n",
       "      <td>ЦИПРОЛЕТ 3МГ/МЛ. 5МЛ. №1 ГЛ.КАПЛИ ФЛ./КАП. /Д-...</td>\n",
       "      <td>1.00</td>\n",
       "      <td>41.08</td>\n",
       "      <td>51.00</td>\n",
       "      <td>12.00</td>\n",
       "      <td>18</td>\n",
       "      <td>45399</td>\n",
       "      <td>Катрен г.Химки</td>\n",
       "      <td>925.00</td>\n",
       "      <td>200000000492.00</td>\n",
       "      <td>205</td>\n",
       "      <td>1</td>\n",
       "      <td>1.00</td>\n",
       "      <td>925.00</td>\n",
       "    </tr>\n",
       "    <tr>\n",
       "      <th>1</th>\n",
       "      <td>2022-08-11</td>\n",
       "      <td>10:27:46</td>\n",
       "      <td>2174</td>\n",
       "      <td>2004598</td>\n",
       "      <td>2</td>\n",
       "      <td>ПЕРЕКИСЬ ВОДОРОДА 3% 100МЛ. №40 Р-Р ФЛ.</td>\n",
       "      <td>1.00</td>\n",
       "      <td>18.61</td>\n",
       "      <td>31.00</td>\n",
       "      <td>3.00</td>\n",
       "      <td>15</td>\n",
       "      <td>261519</td>\n",
       "      <td>Катрен г.Химки</td>\n",
       "      <td>9.00</td>\n",
       "      <td>200010010204.00</td>\n",
       "      <td>205</td>\n",
       "      <td>1</td>\n",
       "      <td>1.00</td>\n",
       "      <td>9.00</td>\n",
       "    </tr>\n",
       "    <tr>\n",
       "      <th>2</th>\n",
       "      <td>2022-08-11</td>\n",
       "      <td>10:27:46</td>\n",
       "      <td>2174</td>\n",
       "      <td>2004598</td>\n",
       "      <td>2</td>\n",
       "      <td>СОФЬЯ ГЕЛЬ Д/НОГ ВЕНОТОНИЗ. ТРОКСЕРУТИН ФОРТЕ ...</td>\n",
       "      <td>1.00</td>\n",
       "      <td>132.69</td>\n",
       "      <td>209.00</td>\n",
       "      <td>20.00</td>\n",
       "      <td>15</td>\n",
       "      <td>460864</td>\n",
       "      <td>Катрен г.Химки</td>\n",
       "      <td>9.00</td>\n",
       "      <td>200010010204.00</td>\n",
       "      <td>205</td>\n",
       "      <td>1</td>\n",
       "      <td>2.00</td>\n",
       "      <td>9.00</td>\n",
       "    </tr>\n",
       "    <tr>\n",
       "      <th>3</th>\n",
       "      <td>2022-08-11</td>\n",
       "      <td>10:27:46</td>\n",
       "      <td>2174</td>\n",
       "      <td>2004598</td>\n",
       "      <td>2</td>\n",
       "      <td>СОФЬЯ ГХК КРЕМ Д/ТЕЛА ХОНДРОИТИН+ГЛЮКОЗАМИН 12...</td>\n",
       "      <td>1.00</td>\n",
       "      <td>133.65</td>\n",
       "      <td>210.00</td>\n",
       "      <td>21.00</td>\n",
       "      <td>15</td>\n",
       "      <td>172823</td>\n",
       "      <td>Катрен г.Химки</td>\n",
       "      <td>9.00</td>\n",
       "      <td>200010010204.00</td>\n",
       "      <td>205</td>\n",
       "      <td>1</td>\n",
       "      <td>3.00</td>\n",
       "      <td>9.00</td>\n",
       "    </tr>\n",
       "    <tr>\n",
       "      <th>4</th>\n",
       "      <td>2022-08-11</td>\n",
       "      <td>10:33:56</td>\n",
       "      <td>2175</td>\n",
       "      <td>2004598</td>\n",
       "      <td>2</td>\n",
       "      <td>ГАЛВУС 50МГ. №28 ТАБ. /НОВАРТИС/</td>\n",
       "      <td>1.00</td>\n",
       "      <td>709.95</td>\n",
       "      <td>787.00</td>\n",
       "      <td>49.00</td>\n",
       "      <td>18</td>\n",
       "      <td>79056</td>\n",
       "      <td>Катрен г.Химки</td>\n",
       "      <td>925.00</td>\n",
       "      <td>200000000492.00</td>\n",
       "      <td>205</td>\n",
       "      <td>1</td>\n",
       "      <td>1.00</td>\n",
       "      <td>925.00</td>\n",
       "    </tr>\n",
       "  </tbody>\n",
       "</table>\n",
       "</div>"
      ],
      "text/plain": [
       "       DR_Dat    DR_Tim  DR_NChk  DR_NDoc  DR_Apt  \\\n",
       "0  2022-08-11  10:15:35     2173  2004598       2   \n",
       "1  2022-08-11  10:27:46     2174  2004598       2   \n",
       "2  2022-08-11  10:27:46     2174  2004598       2   \n",
       "3  2022-08-11  10:27:46     2174  2004598       2   \n",
       "4  2022-08-11  10:33:56     2175  2004598       2   \n",
       "\n",
       "                                           DR_NDrugs  DR_Kol  DR_CZak  \\\n",
       "0  ЦИПРОЛЕТ 3МГ/МЛ. 5МЛ. №1 ГЛ.КАПЛИ ФЛ./КАП. /Д-...    1.00    41.08   \n",
       "1            ПЕРЕКИСЬ ВОДОРОДА 3% 100МЛ. №40 Р-Р ФЛ.    1.00    18.61   \n",
       "2  СОФЬЯ ГЕЛЬ Д/НОГ ВЕНОТОНИЗ. ТРОКСЕРУТИН ФОРТЕ ...    1.00   132.69   \n",
       "3  СОФЬЯ ГХК КРЕМ Д/ТЕЛА ХОНДРОИТИН+ГЛЮКОЗАМИН 12...    1.00   133.65   \n",
       "4                   ГАЛВУС 50МГ. №28 ТАБ. /НОВАРТИС/    1.00   709.95   \n",
       "\n",
       "   DR_CRoz  DR_SDisc  DR_TPay  DR_CDrugs        DR_Suppl  DR_CDisc  \\\n",
       "0    51.00     12.00       18      45399  Катрен г.Химки    925.00   \n",
       "1    31.00      3.00       15     261519  Катрен г.Химки      9.00   \n",
       "2   209.00     20.00       15     460864  Катрен г.Химки      9.00   \n",
       "3   210.00     21.00       15     172823  Катрен г.Химки      9.00   \n",
       "4   787.00     49.00       18      79056  Катрен г.Химки    925.00   \n",
       "\n",
       "        DR_BCDisc  DR_TabEmpl  DR_VZak  DR_Pos  DR_CDisc  \n",
       "0 200000000492.00         205        1    1.00    925.00  \n",
       "1 200010010204.00         205        1    1.00      9.00  \n",
       "2 200010010204.00         205        1    2.00      9.00  \n",
       "3 200010010204.00         205        1    3.00      9.00  \n",
       "4 200000000492.00         205        1    1.00    925.00  "
      ]
     },
     "execution_count": 16,
     "metadata": {},
     "output_type": "execute_result"
    }
   ],
   "source": [
    "df.head()"
   ]
  },
  {
   "cell_type": "code",
   "execution_count": 17,
   "metadata": {},
   "outputs": [
    {
     "data": {
      "text/plain": [
       "(4462, 19)"
      ]
     },
     "execution_count": 17,
     "metadata": {},
     "output_type": "execute_result"
    }
   ],
   "source": [
    "df.shape"
   ]
  },
  {
   "cell_type": "markdown",
   "metadata": {},
   "source": [
    "Переименнуем название столбцов, для более удобного взаимодействия."
   ]
  },
  {
   "cell_type": "code",
   "execution_count": 18,
   "metadata": {},
   "outputs": [],
   "source": [
    "df.columns = ['dt', 'c_time', 'nchk', 'ndoc', 'apt', 'drug', 'kol',\n",
    "       'zak', 'roz', 'disc', 'pay_type', 'drug_id', 'suppl', 'disc_id', 'disc_barcode', 'empl', 'vzak', 'pos', 'cdisc']"
   ]
  },
  {
   "cell_type": "code",
   "execution_count": 19,
   "metadata": {},
   "outputs": [
    {
     "data": {
      "text/html": [
       "<div>\n",
       "<style scoped>\n",
       "    .dataframe tbody tr th:only-of-type {\n",
       "        vertical-align: middle;\n",
       "    }\n",
       "\n",
       "    .dataframe tbody tr th {\n",
       "        vertical-align: top;\n",
       "    }\n",
       "\n",
       "    .dataframe thead th {\n",
       "        text-align: right;\n",
       "    }\n",
       "</style>\n",
       "<table border=\"1\" class=\"dataframe\">\n",
       "  <thead>\n",
       "    <tr style=\"text-align: right;\">\n",
       "      <th></th>\n",
       "      <th>dt</th>\n",
       "      <th>c_time</th>\n",
       "      <th>nchk</th>\n",
       "      <th>ndoc</th>\n",
       "      <th>apt</th>\n",
       "      <th>drug</th>\n",
       "      <th>kol</th>\n",
       "      <th>zak</th>\n",
       "      <th>roz</th>\n",
       "      <th>disc</th>\n",
       "      <th>pay_type</th>\n",
       "      <th>drug_id</th>\n",
       "      <th>suppl</th>\n",
       "      <th>disc_id</th>\n",
       "      <th>disc_barcode</th>\n",
       "      <th>empl</th>\n",
       "      <th>vzak</th>\n",
       "      <th>pos</th>\n",
       "      <th>cdisc</th>\n",
       "    </tr>\n",
       "  </thead>\n",
       "  <tbody>\n",
       "    <tr>\n",
       "      <th>0</th>\n",
       "      <td>2022-08-11</td>\n",
       "      <td>10:15:35</td>\n",
       "      <td>2173</td>\n",
       "      <td>2004598</td>\n",
       "      <td>2</td>\n",
       "      <td>ЦИПРОЛЕТ 3МГ/МЛ. 5МЛ. №1 ГЛ.КАПЛИ ФЛ./КАП. /Д-...</td>\n",
       "      <td>1.00</td>\n",
       "      <td>41.08</td>\n",
       "      <td>51.00</td>\n",
       "      <td>12.00</td>\n",
       "      <td>18</td>\n",
       "      <td>45399</td>\n",
       "      <td>Катрен г.Химки</td>\n",
       "      <td>925.00</td>\n",
       "      <td>200000000492.00</td>\n",
       "      <td>205</td>\n",
       "      <td>1</td>\n",
       "      <td>1.00</td>\n",
       "      <td>925.00</td>\n",
       "    </tr>\n",
       "    <tr>\n",
       "      <th>1</th>\n",
       "      <td>2022-08-11</td>\n",
       "      <td>10:27:46</td>\n",
       "      <td>2174</td>\n",
       "      <td>2004598</td>\n",
       "      <td>2</td>\n",
       "      <td>ПЕРЕКИСЬ ВОДОРОДА 3% 100МЛ. №40 Р-Р ФЛ.</td>\n",
       "      <td>1.00</td>\n",
       "      <td>18.61</td>\n",
       "      <td>31.00</td>\n",
       "      <td>3.00</td>\n",
       "      <td>15</td>\n",
       "      <td>261519</td>\n",
       "      <td>Катрен г.Химки</td>\n",
       "      <td>9.00</td>\n",
       "      <td>200010010204.00</td>\n",
       "      <td>205</td>\n",
       "      <td>1</td>\n",
       "      <td>1.00</td>\n",
       "      <td>9.00</td>\n",
       "    </tr>\n",
       "    <tr>\n",
       "      <th>2</th>\n",
       "      <td>2022-08-11</td>\n",
       "      <td>10:27:46</td>\n",
       "      <td>2174</td>\n",
       "      <td>2004598</td>\n",
       "      <td>2</td>\n",
       "      <td>СОФЬЯ ГЕЛЬ Д/НОГ ВЕНОТОНИЗ. ТРОКСЕРУТИН ФОРТЕ ...</td>\n",
       "      <td>1.00</td>\n",
       "      <td>132.69</td>\n",
       "      <td>209.00</td>\n",
       "      <td>20.00</td>\n",
       "      <td>15</td>\n",
       "      <td>460864</td>\n",
       "      <td>Катрен г.Химки</td>\n",
       "      <td>9.00</td>\n",
       "      <td>200010010204.00</td>\n",
       "      <td>205</td>\n",
       "      <td>1</td>\n",
       "      <td>2.00</td>\n",
       "      <td>9.00</td>\n",
       "    </tr>\n",
       "    <tr>\n",
       "      <th>3</th>\n",
       "      <td>2022-08-11</td>\n",
       "      <td>10:27:46</td>\n",
       "      <td>2174</td>\n",
       "      <td>2004598</td>\n",
       "      <td>2</td>\n",
       "      <td>СОФЬЯ ГХК КРЕМ Д/ТЕЛА ХОНДРОИТИН+ГЛЮКОЗАМИН 12...</td>\n",
       "      <td>1.00</td>\n",
       "      <td>133.65</td>\n",
       "      <td>210.00</td>\n",
       "      <td>21.00</td>\n",
       "      <td>15</td>\n",
       "      <td>172823</td>\n",
       "      <td>Катрен г.Химки</td>\n",
       "      <td>9.00</td>\n",
       "      <td>200010010204.00</td>\n",
       "      <td>205</td>\n",
       "      <td>1</td>\n",
       "      <td>3.00</td>\n",
       "      <td>9.00</td>\n",
       "    </tr>\n",
       "    <tr>\n",
       "      <th>4</th>\n",
       "      <td>2022-08-11</td>\n",
       "      <td>10:33:56</td>\n",
       "      <td>2175</td>\n",
       "      <td>2004598</td>\n",
       "      <td>2</td>\n",
       "      <td>ГАЛВУС 50МГ. №28 ТАБ. /НОВАРТИС/</td>\n",
       "      <td>1.00</td>\n",
       "      <td>709.95</td>\n",
       "      <td>787.00</td>\n",
       "      <td>49.00</td>\n",
       "      <td>18</td>\n",
       "      <td>79056</td>\n",
       "      <td>Катрен г.Химки</td>\n",
       "      <td>925.00</td>\n",
       "      <td>200000000492.00</td>\n",
       "      <td>205</td>\n",
       "      <td>1</td>\n",
       "      <td>1.00</td>\n",
       "      <td>925.00</td>\n",
       "    </tr>\n",
       "  </tbody>\n",
       "</table>\n",
       "</div>"
      ],
      "text/plain": [
       "           dt    c_time  nchk     ndoc  apt  \\\n",
       "0  2022-08-11  10:15:35  2173  2004598    2   \n",
       "1  2022-08-11  10:27:46  2174  2004598    2   \n",
       "2  2022-08-11  10:27:46  2174  2004598    2   \n",
       "3  2022-08-11  10:27:46  2174  2004598    2   \n",
       "4  2022-08-11  10:33:56  2175  2004598    2   \n",
       "\n",
       "                                                drug  kol    zak    roz  disc  \\\n",
       "0  ЦИПРОЛЕТ 3МГ/МЛ. 5МЛ. №1 ГЛ.КАПЛИ ФЛ./КАП. /Д-... 1.00  41.08  51.00 12.00   \n",
       "1            ПЕРЕКИСЬ ВОДОРОДА 3% 100МЛ. №40 Р-Р ФЛ. 1.00  18.61  31.00  3.00   \n",
       "2  СОФЬЯ ГЕЛЬ Д/НОГ ВЕНОТОНИЗ. ТРОКСЕРУТИН ФОРТЕ ... 1.00 132.69 209.00 20.00   \n",
       "3  СОФЬЯ ГХК КРЕМ Д/ТЕЛА ХОНДРОИТИН+ГЛЮКОЗАМИН 12... 1.00 133.65 210.00 21.00   \n",
       "4                   ГАЛВУС 50МГ. №28 ТАБ. /НОВАРТИС/ 1.00 709.95 787.00 49.00   \n",
       "\n",
       "   pay_type  drug_id           suppl  disc_id    disc_barcode  empl  vzak  \\\n",
       "0        18    45399  Катрен г.Химки   925.00 200000000492.00   205     1   \n",
       "1        15   261519  Катрен г.Химки     9.00 200010010204.00   205     1   \n",
       "2        15   460864  Катрен г.Химки     9.00 200010010204.00   205     1   \n",
       "3        15   172823  Катрен г.Химки     9.00 200010010204.00   205     1   \n",
       "4        18    79056  Катрен г.Химки   925.00 200000000492.00   205     1   \n",
       "\n",
       "   pos  cdisc  \n",
       "0 1.00 925.00  \n",
       "1 1.00   9.00  \n",
       "2 2.00   9.00  \n",
       "3 3.00   9.00  \n",
       "4 1.00 925.00  "
      ]
     },
     "execution_count": 19,
     "metadata": {},
     "output_type": "execute_result"
    }
   ],
   "source": [
    "df.head()"
   ]
  },
  {
   "cell_type": "markdown",
   "metadata": {},
   "source": [
    "Приведем тип данных полей к необходимым."
   ]
  },
  {
   "cell_type": "code",
   "execution_count": 20,
   "metadata": {
    "scrolled": true
   },
   "outputs": [
    {
     "data": {
      "text/plain": [
       "dt               object\n",
       "c_time           object\n",
       "nchk              int64\n",
       "ndoc              int64\n",
       "apt               int64\n",
       "drug             object\n",
       "kol             float64\n",
       "zak             float64\n",
       "roz             float64\n",
       "disc            float64\n",
       "pay_type          int64\n",
       "drug_id           int64\n",
       "suppl            object\n",
       "disc_id         float64\n",
       "disc_barcode    float64\n",
       "empl              int64\n",
       "vzak              int64\n",
       "pos             float64\n",
       "cdisc           float64\n",
       "dtype: object"
      ]
     },
     "execution_count": 20,
     "metadata": {},
     "output_type": "execute_result"
    }
   ],
   "source": [
    "df.dtypes"
   ]
  },
  {
   "cell_type": "code",
   "execution_count": 21,
   "metadata": {},
   "outputs": [
    {
     "data": {
      "text/plain": [
       "dtype('float64')"
      ]
     },
     "execution_count": 21,
     "metadata": {},
     "output_type": "execute_result"
    }
   ],
   "source": [
    "df['disc_barcode'].dtype"
   ]
  },
  {
   "cell_type": "code",
   "execution_count": 22,
   "metadata": {},
   "outputs": [],
   "source": [
    "df['disc_barcode'] = df['disc_barcode'].astype('str').replace('\\.0', '', regex=True)"
   ]
  },
  {
   "cell_type": "code",
   "execution_count": 23,
   "metadata": {},
   "outputs": [
    {
     "data": {
      "text/plain": [
       "dt               object\n",
       "c_time           object\n",
       "nchk              int64\n",
       "ndoc              int64\n",
       "apt               int64\n",
       "drug             object\n",
       "kol             float64\n",
       "zak             float64\n",
       "roz             float64\n",
       "disc            float64\n",
       "pay_type          int64\n",
       "drug_id           int64\n",
       "suppl            object\n",
       "disc_id         float64\n",
       "disc_barcode     object\n",
       "empl              int64\n",
       "vzak              int64\n",
       "pos             float64\n",
       "cdisc           float64\n",
       "dtype: object"
      ]
     },
     "execution_count": 23,
     "metadata": {},
     "output_type": "execute_result"
    }
   ],
   "source": [
    "df.dtypes"
   ]
  },
  {
   "cell_type": "code",
   "execution_count": 24,
   "metadata": {},
   "outputs": [],
   "source": [
    "df['disc_id'] = df['disc_id'].astype('str').replace('\\.0', '', regex=True)"
   ]
  },
  {
   "cell_type": "code",
   "execution_count": 25,
   "metadata": {},
   "outputs": [
    {
     "data": {
      "text/html": [
       "<div>\n",
       "<style scoped>\n",
       "    .dataframe tbody tr th:only-of-type {\n",
       "        vertical-align: middle;\n",
       "    }\n",
       "\n",
       "    .dataframe tbody tr th {\n",
       "        vertical-align: top;\n",
       "    }\n",
       "\n",
       "    .dataframe thead th {\n",
       "        text-align: right;\n",
       "    }\n",
       "</style>\n",
       "<table border=\"1\" class=\"dataframe\">\n",
       "  <thead>\n",
       "    <tr style=\"text-align: right;\">\n",
       "      <th></th>\n",
       "      <th>dt</th>\n",
       "      <th>c_time</th>\n",
       "      <th>nchk</th>\n",
       "      <th>ndoc</th>\n",
       "      <th>apt</th>\n",
       "      <th>drug</th>\n",
       "      <th>kol</th>\n",
       "      <th>zak</th>\n",
       "      <th>roz</th>\n",
       "      <th>disc</th>\n",
       "      <th>pay_type</th>\n",
       "      <th>drug_id</th>\n",
       "      <th>suppl</th>\n",
       "      <th>disc_id</th>\n",
       "      <th>disc_barcode</th>\n",
       "      <th>empl</th>\n",
       "      <th>vzak</th>\n",
       "      <th>pos</th>\n",
       "      <th>cdisc</th>\n",
       "    </tr>\n",
       "  </thead>\n",
       "  <tbody>\n",
       "    <tr>\n",
       "      <th>0</th>\n",
       "      <td>2022-08-11</td>\n",
       "      <td>10:15:35</td>\n",
       "      <td>2173</td>\n",
       "      <td>2004598</td>\n",
       "      <td>2</td>\n",
       "      <td>ЦИПРОЛЕТ 3МГ/МЛ. 5МЛ. №1 ГЛ.КАПЛИ ФЛ./КАП. /Д-...</td>\n",
       "      <td>1.00</td>\n",
       "      <td>41.08</td>\n",
       "      <td>51.00</td>\n",
       "      <td>12.00</td>\n",
       "      <td>18</td>\n",
       "      <td>45399</td>\n",
       "      <td>Катрен г.Химки</td>\n",
       "      <td>925</td>\n",
       "      <td>200000000492</td>\n",
       "      <td>205</td>\n",
       "      <td>1</td>\n",
       "      <td>1.00</td>\n",
       "      <td>925.00</td>\n",
       "    </tr>\n",
       "    <tr>\n",
       "      <th>1</th>\n",
       "      <td>2022-08-11</td>\n",
       "      <td>10:27:46</td>\n",
       "      <td>2174</td>\n",
       "      <td>2004598</td>\n",
       "      <td>2</td>\n",
       "      <td>ПЕРЕКИСЬ ВОДОРОДА 3% 100МЛ. №40 Р-Р ФЛ.</td>\n",
       "      <td>1.00</td>\n",
       "      <td>18.61</td>\n",
       "      <td>31.00</td>\n",
       "      <td>3.00</td>\n",
       "      <td>15</td>\n",
       "      <td>261519</td>\n",
       "      <td>Катрен г.Химки</td>\n",
       "      <td>9</td>\n",
       "      <td>200010010204</td>\n",
       "      <td>205</td>\n",
       "      <td>1</td>\n",
       "      <td>1.00</td>\n",
       "      <td>9.00</td>\n",
       "    </tr>\n",
       "    <tr>\n",
       "      <th>2</th>\n",
       "      <td>2022-08-11</td>\n",
       "      <td>10:27:46</td>\n",
       "      <td>2174</td>\n",
       "      <td>2004598</td>\n",
       "      <td>2</td>\n",
       "      <td>СОФЬЯ ГЕЛЬ Д/НОГ ВЕНОТОНИЗ. ТРОКСЕРУТИН ФОРТЕ ...</td>\n",
       "      <td>1.00</td>\n",
       "      <td>132.69</td>\n",
       "      <td>209.00</td>\n",
       "      <td>20.00</td>\n",
       "      <td>15</td>\n",
       "      <td>460864</td>\n",
       "      <td>Катрен г.Химки</td>\n",
       "      <td>9</td>\n",
       "      <td>200010010204</td>\n",
       "      <td>205</td>\n",
       "      <td>1</td>\n",
       "      <td>2.00</td>\n",
       "      <td>9.00</td>\n",
       "    </tr>\n",
       "    <tr>\n",
       "      <th>3</th>\n",
       "      <td>2022-08-11</td>\n",
       "      <td>10:27:46</td>\n",
       "      <td>2174</td>\n",
       "      <td>2004598</td>\n",
       "      <td>2</td>\n",
       "      <td>СОФЬЯ ГХК КРЕМ Д/ТЕЛА ХОНДРОИТИН+ГЛЮКОЗАМИН 12...</td>\n",
       "      <td>1.00</td>\n",
       "      <td>133.65</td>\n",
       "      <td>210.00</td>\n",
       "      <td>21.00</td>\n",
       "      <td>15</td>\n",
       "      <td>172823</td>\n",
       "      <td>Катрен г.Химки</td>\n",
       "      <td>9</td>\n",
       "      <td>200010010204</td>\n",
       "      <td>205</td>\n",
       "      <td>1</td>\n",
       "      <td>3.00</td>\n",
       "      <td>9.00</td>\n",
       "    </tr>\n",
       "    <tr>\n",
       "      <th>4</th>\n",
       "      <td>2022-08-11</td>\n",
       "      <td>10:33:56</td>\n",
       "      <td>2175</td>\n",
       "      <td>2004598</td>\n",
       "      <td>2</td>\n",
       "      <td>ГАЛВУС 50МГ. №28 ТАБ. /НОВАРТИС/</td>\n",
       "      <td>1.00</td>\n",
       "      <td>709.95</td>\n",
       "      <td>787.00</td>\n",
       "      <td>49.00</td>\n",
       "      <td>18</td>\n",
       "      <td>79056</td>\n",
       "      <td>Катрен г.Химки</td>\n",
       "      <td>925</td>\n",
       "      <td>200000000492</td>\n",
       "      <td>205</td>\n",
       "      <td>1</td>\n",
       "      <td>1.00</td>\n",
       "      <td>925.00</td>\n",
       "    </tr>\n",
       "  </tbody>\n",
       "</table>\n",
       "</div>"
      ],
      "text/plain": [
       "           dt    c_time  nchk     ndoc  apt  \\\n",
       "0  2022-08-11  10:15:35  2173  2004598    2   \n",
       "1  2022-08-11  10:27:46  2174  2004598    2   \n",
       "2  2022-08-11  10:27:46  2174  2004598    2   \n",
       "3  2022-08-11  10:27:46  2174  2004598    2   \n",
       "4  2022-08-11  10:33:56  2175  2004598    2   \n",
       "\n",
       "                                                drug  kol    zak    roz  disc  \\\n",
       "0  ЦИПРОЛЕТ 3МГ/МЛ. 5МЛ. №1 ГЛ.КАПЛИ ФЛ./КАП. /Д-... 1.00  41.08  51.00 12.00   \n",
       "1            ПЕРЕКИСЬ ВОДОРОДА 3% 100МЛ. №40 Р-Р ФЛ. 1.00  18.61  31.00  3.00   \n",
       "2  СОФЬЯ ГЕЛЬ Д/НОГ ВЕНОТОНИЗ. ТРОКСЕРУТИН ФОРТЕ ... 1.00 132.69 209.00 20.00   \n",
       "3  СОФЬЯ ГХК КРЕМ Д/ТЕЛА ХОНДРОИТИН+ГЛЮКОЗАМИН 12... 1.00 133.65 210.00 21.00   \n",
       "4                   ГАЛВУС 50МГ. №28 ТАБ. /НОВАРТИС/ 1.00 709.95 787.00 49.00   \n",
       "\n",
       "   pay_type  drug_id           suppl disc_id  disc_barcode  empl  vzak  pos  \\\n",
       "0        18    45399  Катрен г.Химки     925  200000000492   205     1 1.00   \n",
       "1        15   261519  Катрен г.Химки       9  200010010204   205     1 1.00   \n",
       "2        15   460864  Катрен г.Химки       9  200010010204   205     1 2.00   \n",
       "3        15   172823  Катрен г.Химки       9  200010010204   205     1 3.00   \n",
       "4        18    79056  Катрен г.Химки     925  200000000492   205     1 1.00   \n",
       "\n",
       "   cdisc  \n",
       "0 925.00  \n",
       "1   9.00  \n",
       "2   9.00  \n",
       "3   9.00  \n",
       "4 925.00  "
      ]
     },
     "execution_count": 25,
     "metadata": {},
     "output_type": "execute_result"
    }
   ],
   "source": [
    "df.head()"
   ]
  },
  {
   "cell_type": "markdown",
   "metadata": {},
   "source": [
    "Поля с датами также приведем к временному и более читаемому типу данных. "
   ]
  },
  {
   "cell_type": "code",
   "execution_count": 26,
   "metadata": {},
   "outputs": [],
   "source": [
    "df['dt'] = pd.to_datetime(df['dt']).dt.strftime('%d.%m.%Y')"
   ]
  },
  {
   "cell_type": "code",
   "execution_count": 27,
   "metadata": {},
   "outputs": [
    {
     "data": {
      "text/plain": [
       "0    312\n",
       "1    312\n",
       "2    312\n",
       "3    312\n",
       "4    312\n",
       "Name: dt, dtype: int64"
      ]
     },
     "execution_count": 27,
     "metadata": {},
     "output_type": "execute_result"
    }
   ],
   "source": [
    "pd.to_datetime(df['dt']).dt.day_of_year.head()"
   ]
  },
  {
   "cell_type": "code",
   "execution_count": 28,
   "metadata": {},
   "outputs": [
    {
     "data": {
      "text/plain": [
       "dt               object\n",
       "c_time           object\n",
       "nchk              int64\n",
       "ndoc              int64\n",
       "apt               int64\n",
       "drug             object\n",
       "kol             float64\n",
       "zak             float64\n",
       "roz             float64\n",
       "disc            float64\n",
       "pay_type          int64\n",
       "drug_id           int64\n",
       "suppl            object\n",
       "disc_id          object\n",
       "disc_barcode     object\n",
       "empl              int64\n",
       "vzak              int64\n",
       "pos             float64\n",
       "cdisc           float64\n",
       "dtype: object"
      ]
     },
     "execution_count": 28,
     "metadata": {},
     "output_type": "execute_result"
    }
   ],
   "source": [
    "df.dtypes"
   ]
  },
  {
   "cell_type": "code",
   "execution_count": 29,
   "metadata": {
    "scrolled": true
   },
   "outputs": [
    {
     "data": {
      "text/html": [
       "<div>\n",
       "<style scoped>\n",
       "    .dataframe tbody tr th:only-of-type {\n",
       "        vertical-align: middle;\n",
       "    }\n",
       "\n",
       "    .dataframe tbody tr th {\n",
       "        vertical-align: top;\n",
       "    }\n",
       "\n",
       "    .dataframe thead th {\n",
       "        text-align: right;\n",
       "    }\n",
       "</style>\n",
       "<table border=\"1\" class=\"dataframe\">\n",
       "  <thead>\n",
       "    <tr style=\"text-align: right;\">\n",
       "      <th></th>\n",
       "      <th>dt</th>\n",
       "      <th>c_time</th>\n",
       "      <th>nchk</th>\n",
       "      <th>ndoc</th>\n",
       "      <th>apt</th>\n",
       "      <th>drug</th>\n",
       "      <th>kol</th>\n",
       "      <th>zak</th>\n",
       "      <th>roz</th>\n",
       "      <th>disc</th>\n",
       "      <th>pay_type</th>\n",
       "      <th>drug_id</th>\n",
       "      <th>suppl</th>\n",
       "      <th>disc_id</th>\n",
       "      <th>disc_barcode</th>\n",
       "      <th>empl</th>\n",
       "      <th>vzak</th>\n",
       "      <th>pos</th>\n",
       "      <th>cdisc</th>\n",
       "    </tr>\n",
       "  </thead>\n",
       "  <tbody>\n",
       "    <tr>\n",
       "      <th>0</th>\n",
       "      <td>11.08.2022</td>\n",
       "      <td>10:15:35</td>\n",
       "      <td>2173</td>\n",
       "      <td>2004598</td>\n",
       "      <td>2</td>\n",
       "      <td>ЦИПРОЛЕТ 3МГ/МЛ. 5МЛ. №1 ГЛ.КАПЛИ ФЛ./КАП. /Д-...</td>\n",
       "      <td>1.00</td>\n",
       "      <td>41.08</td>\n",
       "      <td>51.00</td>\n",
       "      <td>12.00</td>\n",
       "      <td>18</td>\n",
       "      <td>45399</td>\n",
       "      <td>Катрен г.Химки</td>\n",
       "      <td>925</td>\n",
       "      <td>200000000492</td>\n",
       "      <td>205</td>\n",
       "      <td>1</td>\n",
       "      <td>1.00</td>\n",
       "      <td>925.00</td>\n",
       "    </tr>\n",
       "    <tr>\n",
       "      <th>1</th>\n",
       "      <td>11.08.2022</td>\n",
       "      <td>10:27:46</td>\n",
       "      <td>2174</td>\n",
       "      <td>2004598</td>\n",
       "      <td>2</td>\n",
       "      <td>ПЕРЕКИСЬ ВОДОРОДА 3% 100МЛ. №40 Р-Р ФЛ.</td>\n",
       "      <td>1.00</td>\n",
       "      <td>18.61</td>\n",
       "      <td>31.00</td>\n",
       "      <td>3.00</td>\n",
       "      <td>15</td>\n",
       "      <td>261519</td>\n",
       "      <td>Катрен г.Химки</td>\n",
       "      <td>9</td>\n",
       "      <td>200010010204</td>\n",
       "      <td>205</td>\n",
       "      <td>1</td>\n",
       "      <td>1.00</td>\n",
       "      <td>9.00</td>\n",
       "    </tr>\n",
       "    <tr>\n",
       "      <th>2</th>\n",
       "      <td>11.08.2022</td>\n",
       "      <td>10:27:46</td>\n",
       "      <td>2174</td>\n",
       "      <td>2004598</td>\n",
       "      <td>2</td>\n",
       "      <td>СОФЬЯ ГЕЛЬ Д/НОГ ВЕНОТОНИЗ. ТРОКСЕРУТИН ФОРТЕ ...</td>\n",
       "      <td>1.00</td>\n",
       "      <td>132.69</td>\n",
       "      <td>209.00</td>\n",
       "      <td>20.00</td>\n",
       "      <td>15</td>\n",
       "      <td>460864</td>\n",
       "      <td>Катрен г.Химки</td>\n",
       "      <td>9</td>\n",
       "      <td>200010010204</td>\n",
       "      <td>205</td>\n",
       "      <td>1</td>\n",
       "      <td>2.00</td>\n",
       "      <td>9.00</td>\n",
       "    </tr>\n",
       "    <tr>\n",
       "      <th>3</th>\n",
       "      <td>11.08.2022</td>\n",
       "      <td>10:27:46</td>\n",
       "      <td>2174</td>\n",
       "      <td>2004598</td>\n",
       "      <td>2</td>\n",
       "      <td>СОФЬЯ ГХК КРЕМ Д/ТЕЛА ХОНДРОИТИН+ГЛЮКОЗАМИН 12...</td>\n",
       "      <td>1.00</td>\n",
       "      <td>133.65</td>\n",
       "      <td>210.00</td>\n",
       "      <td>21.00</td>\n",
       "      <td>15</td>\n",
       "      <td>172823</td>\n",
       "      <td>Катрен г.Химки</td>\n",
       "      <td>9</td>\n",
       "      <td>200010010204</td>\n",
       "      <td>205</td>\n",
       "      <td>1</td>\n",
       "      <td>3.00</td>\n",
       "      <td>9.00</td>\n",
       "    </tr>\n",
       "    <tr>\n",
       "      <th>4</th>\n",
       "      <td>11.08.2022</td>\n",
       "      <td>10:33:56</td>\n",
       "      <td>2175</td>\n",
       "      <td>2004598</td>\n",
       "      <td>2</td>\n",
       "      <td>ГАЛВУС 50МГ. №28 ТАБ. /НОВАРТИС/</td>\n",
       "      <td>1.00</td>\n",
       "      <td>709.95</td>\n",
       "      <td>787.00</td>\n",
       "      <td>49.00</td>\n",
       "      <td>18</td>\n",
       "      <td>79056</td>\n",
       "      <td>Катрен г.Химки</td>\n",
       "      <td>925</td>\n",
       "      <td>200000000492</td>\n",
       "      <td>205</td>\n",
       "      <td>1</td>\n",
       "      <td>1.00</td>\n",
       "      <td>925.00</td>\n",
       "    </tr>\n",
       "  </tbody>\n",
       "</table>\n",
       "</div>"
      ],
      "text/plain": [
       "           dt    c_time  nchk     ndoc  apt  \\\n",
       "0  11.08.2022  10:15:35  2173  2004598    2   \n",
       "1  11.08.2022  10:27:46  2174  2004598    2   \n",
       "2  11.08.2022  10:27:46  2174  2004598    2   \n",
       "3  11.08.2022  10:27:46  2174  2004598    2   \n",
       "4  11.08.2022  10:33:56  2175  2004598    2   \n",
       "\n",
       "                                                drug  kol    zak    roz  disc  \\\n",
       "0  ЦИПРОЛЕТ 3МГ/МЛ. 5МЛ. №1 ГЛ.КАПЛИ ФЛ./КАП. /Д-... 1.00  41.08  51.00 12.00   \n",
       "1            ПЕРЕКИСЬ ВОДОРОДА 3% 100МЛ. №40 Р-Р ФЛ. 1.00  18.61  31.00  3.00   \n",
       "2  СОФЬЯ ГЕЛЬ Д/НОГ ВЕНОТОНИЗ. ТРОКСЕРУТИН ФОРТЕ ... 1.00 132.69 209.00 20.00   \n",
       "3  СОФЬЯ ГХК КРЕМ Д/ТЕЛА ХОНДРОИТИН+ГЛЮКОЗАМИН 12... 1.00 133.65 210.00 21.00   \n",
       "4                   ГАЛВУС 50МГ. №28 ТАБ. /НОВАРТИС/ 1.00 709.95 787.00 49.00   \n",
       "\n",
       "   pay_type  drug_id           suppl disc_id  disc_barcode  empl  vzak  pos  \\\n",
       "0        18    45399  Катрен г.Химки     925  200000000492   205     1 1.00   \n",
       "1        15   261519  Катрен г.Химки       9  200010010204   205     1 1.00   \n",
       "2        15   460864  Катрен г.Химки       9  200010010204   205     1 2.00   \n",
       "3        15   172823  Катрен г.Химки       9  200010010204   205     1 3.00   \n",
       "4        18    79056  Катрен г.Химки     925  200000000492   205     1 1.00   \n",
       "\n",
       "   cdisc  \n",
       "0 925.00  \n",
       "1   9.00  \n",
       "2   9.00  \n",
       "3   9.00  \n",
       "4 925.00  "
      ]
     },
     "execution_count": 29,
     "metadata": {},
     "output_type": "execute_result"
    }
   ],
   "source": [
    "df.head()"
   ]
  },
  {
   "cell_type": "markdown",
   "metadata": {},
   "source": [
    "Заменим цифровые значения в столбце вида закупки на именованный. "
   ]
  },
  {
   "cell_type": "code",
   "execution_count": 30,
   "metadata": {},
   "outputs": [
    {
     "data": {
      "text/plain": [
       "array([1, 2], dtype=int64)"
      ]
     },
     "execution_count": 30,
     "metadata": {},
     "output_type": "execute_result"
    }
   ],
   "source": [
    "df['vzak'].unique()"
   ]
  },
  {
   "cell_type": "code",
   "execution_count": 31,
   "metadata": {},
   "outputs": [
    {
     "data": {
      "text/plain": [
       "0       Обычный\n",
       "1       Обычный\n",
       "2       Обычный\n",
       "3       Обычный\n",
       "4       Обычный\n",
       "         ...   \n",
       "4457    Обычный\n",
       "4458    Обычный\n",
       "4459    Обычный\n",
       "4460    Обычный\n",
       "4461    Обычный\n",
       "Name: vzak, Length: 4462, dtype: object"
      ]
     },
     "execution_count": 31,
     "metadata": {},
     "output_type": "execute_result"
    }
   ],
   "source": [
    "df['vzak'].astype('str').replace('1', 'Обычный').replace('2', 'Интернет')"
   ]
  },
  {
   "cell_type": "code",
   "execution_count": 32,
   "metadata": {},
   "outputs": [
    {
     "data": {
      "text/plain": [
       "0       NaN\n",
       "1       NaN\n",
       "2       NaN\n",
       "3       NaN\n",
       "4       NaN\n",
       "       ... \n",
       "4457    NaN\n",
       "4458    NaN\n",
       "4459    NaN\n",
       "4460    NaN\n",
       "4461    NaN\n",
       "Name: vzak, Length: 4462, dtype: object"
      ]
     },
     "execution_count": 32,
     "metadata": {},
     "output_type": "execute_result"
    }
   ],
   "source": [
    "d ={\n",
    "    '1': 'Обычный',\n",
    "    '2': 'Интернет'\n",
    "}\n",
    "\n",
    "df['vzak'].map(d)"
   ]
  },
  {
   "cell_type": "code",
   "execution_count": 33,
   "metadata": {
    "scrolled": true
   },
   "outputs": [
    {
     "data": {
      "text/html": [
       "<div>\n",
       "<style scoped>\n",
       "    .dataframe tbody tr th:only-of-type {\n",
       "        vertical-align: middle;\n",
       "    }\n",
       "\n",
       "    .dataframe tbody tr th {\n",
       "        vertical-align: top;\n",
       "    }\n",
       "\n",
       "    .dataframe thead th {\n",
       "        text-align: right;\n",
       "    }\n",
       "</style>\n",
       "<table border=\"1\" class=\"dataframe\">\n",
       "  <thead>\n",
       "    <tr style=\"text-align: right;\">\n",
       "      <th></th>\n",
       "      <th>dt</th>\n",
       "      <th>c_time</th>\n",
       "      <th>nchk</th>\n",
       "      <th>ndoc</th>\n",
       "      <th>apt</th>\n",
       "      <th>drug</th>\n",
       "      <th>kol</th>\n",
       "      <th>zak</th>\n",
       "      <th>roz</th>\n",
       "      <th>disc</th>\n",
       "      <th>pay_type</th>\n",
       "      <th>drug_id</th>\n",
       "      <th>suppl</th>\n",
       "      <th>disc_id</th>\n",
       "      <th>disc_barcode</th>\n",
       "      <th>empl</th>\n",
       "      <th>vzak</th>\n",
       "      <th>pos</th>\n",
       "      <th>cdisc</th>\n",
       "    </tr>\n",
       "  </thead>\n",
       "  <tbody>\n",
       "    <tr>\n",
       "      <th>0</th>\n",
       "      <td>11.08.2022</td>\n",
       "      <td>10:15:35</td>\n",
       "      <td>2173</td>\n",
       "      <td>2004598</td>\n",
       "      <td>2</td>\n",
       "      <td>ЦИПРОЛЕТ 3МГ/МЛ. 5МЛ. №1 ГЛ.КАПЛИ ФЛ./КАП. /Д-...</td>\n",
       "      <td>1.00</td>\n",
       "      <td>41.08</td>\n",
       "      <td>51.00</td>\n",
       "      <td>12.00</td>\n",
       "      <td>18</td>\n",
       "      <td>45399</td>\n",
       "      <td>Катрен г.Химки</td>\n",
       "      <td>925</td>\n",
       "      <td>200000000492</td>\n",
       "      <td>205</td>\n",
       "      <td>1</td>\n",
       "      <td>1.00</td>\n",
       "      <td>925.00</td>\n",
       "    </tr>\n",
       "    <tr>\n",
       "      <th>1</th>\n",
       "      <td>11.08.2022</td>\n",
       "      <td>10:27:46</td>\n",
       "      <td>2174</td>\n",
       "      <td>2004598</td>\n",
       "      <td>2</td>\n",
       "      <td>ПЕРЕКИСЬ ВОДОРОДА 3% 100МЛ. №40 Р-Р ФЛ.</td>\n",
       "      <td>1.00</td>\n",
       "      <td>18.61</td>\n",
       "      <td>31.00</td>\n",
       "      <td>3.00</td>\n",
       "      <td>15</td>\n",
       "      <td>261519</td>\n",
       "      <td>Катрен г.Химки</td>\n",
       "      <td>9</td>\n",
       "      <td>200010010204</td>\n",
       "      <td>205</td>\n",
       "      <td>1</td>\n",
       "      <td>1.00</td>\n",
       "      <td>9.00</td>\n",
       "    </tr>\n",
       "    <tr>\n",
       "      <th>2</th>\n",
       "      <td>11.08.2022</td>\n",
       "      <td>10:27:46</td>\n",
       "      <td>2174</td>\n",
       "      <td>2004598</td>\n",
       "      <td>2</td>\n",
       "      <td>СОФЬЯ ГЕЛЬ Д/НОГ ВЕНОТОНИЗ. ТРОКСЕРУТИН ФОРТЕ ...</td>\n",
       "      <td>1.00</td>\n",
       "      <td>132.69</td>\n",
       "      <td>209.00</td>\n",
       "      <td>20.00</td>\n",
       "      <td>15</td>\n",
       "      <td>460864</td>\n",
       "      <td>Катрен г.Химки</td>\n",
       "      <td>9</td>\n",
       "      <td>200010010204</td>\n",
       "      <td>205</td>\n",
       "      <td>1</td>\n",
       "      <td>2.00</td>\n",
       "      <td>9.00</td>\n",
       "    </tr>\n",
       "    <tr>\n",
       "      <th>3</th>\n",
       "      <td>11.08.2022</td>\n",
       "      <td>10:27:46</td>\n",
       "      <td>2174</td>\n",
       "      <td>2004598</td>\n",
       "      <td>2</td>\n",
       "      <td>СОФЬЯ ГХК КРЕМ Д/ТЕЛА ХОНДРОИТИН+ГЛЮКОЗАМИН 12...</td>\n",
       "      <td>1.00</td>\n",
       "      <td>133.65</td>\n",
       "      <td>210.00</td>\n",
       "      <td>21.00</td>\n",
       "      <td>15</td>\n",
       "      <td>172823</td>\n",
       "      <td>Катрен г.Химки</td>\n",
       "      <td>9</td>\n",
       "      <td>200010010204</td>\n",
       "      <td>205</td>\n",
       "      <td>1</td>\n",
       "      <td>3.00</td>\n",
       "      <td>9.00</td>\n",
       "    </tr>\n",
       "    <tr>\n",
       "      <th>4</th>\n",
       "      <td>11.08.2022</td>\n",
       "      <td>10:33:56</td>\n",
       "      <td>2175</td>\n",
       "      <td>2004598</td>\n",
       "      <td>2</td>\n",
       "      <td>ГАЛВУС 50МГ. №28 ТАБ. /НОВАРТИС/</td>\n",
       "      <td>1.00</td>\n",
       "      <td>709.95</td>\n",
       "      <td>787.00</td>\n",
       "      <td>49.00</td>\n",
       "      <td>18</td>\n",
       "      <td>79056</td>\n",
       "      <td>Катрен г.Химки</td>\n",
       "      <td>925</td>\n",
       "      <td>200000000492</td>\n",
       "      <td>205</td>\n",
       "      <td>1</td>\n",
       "      <td>1.00</td>\n",
       "      <td>925.00</td>\n",
       "    </tr>\n",
       "  </tbody>\n",
       "</table>\n",
       "</div>"
      ],
      "text/plain": [
       "           dt    c_time  nchk     ndoc  apt  \\\n",
       "0  11.08.2022  10:15:35  2173  2004598    2   \n",
       "1  11.08.2022  10:27:46  2174  2004598    2   \n",
       "2  11.08.2022  10:27:46  2174  2004598    2   \n",
       "3  11.08.2022  10:27:46  2174  2004598    2   \n",
       "4  11.08.2022  10:33:56  2175  2004598    2   \n",
       "\n",
       "                                                drug  kol    zak    roz  disc  \\\n",
       "0  ЦИПРОЛЕТ 3МГ/МЛ. 5МЛ. №1 ГЛ.КАПЛИ ФЛ./КАП. /Д-... 1.00  41.08  51.00 12.00   \n",
       "1            ПЕРЕКИСЬ ВОДОРОДА 3% 100МЛ. №40 Р-Р ФЛ. 1.00  18.61  31.00  3.00   \n",
       "2  СОФЬЯ ГЕЛЬ Д/НОГ ВЕНОТОНИЗ. ТРОКСЕРУТИН ФОРТЕ ... 1.00 132.69 209.00 20.00   \n",
       "3  СОФЬЯ ГХК КРЕМ Д/ТЕЛА ХОНДРОИТИН+ГЛЮКОЗАМИН 12... 1.00 133.65 210.00 21.00   \n",
       "4                   ГАЛВУС 50МГ. №28 ТАБ. /НОВАРТИС/ 1.00 709.95 787.00 49.00   \n",
       "\n",
       "   pay_type  drug_id           suppl disc_id  disc_barcode  empl  vzak  pos  \\\n",
       "0        18    45399  Катрен г.Химки     925  200000000492   205     1 1.00   \n",
       "1        15   261519  Катрен г.Химки       9  200010010204   205     1 1.00   \n",
       "2        15   460864  Катрен г.Химки       9  200010010204   205     1 2.00   \n",
       "3        15   172823  Катрен г.Химки       9  200010010204   205     1 3.00   \n",
       "4        18    79056  Катрен г.Химки     925  200000000492   205     1 1.00   \n",
       "\n",
       "   cdisc  \n",
       "0 925.00  \n",
       "1   9.00  \n",
       "2   9.00  \n",
       "3   9.00  \n",
       "4 925.00  "
      ]
     },
     "execution_count": 33,
     "metadata": {},
     "output_type": "execute_result"
    }
   ],
   "source": [
    "df.head()"
   ]
  },
  {
   "cell_type": "markdown",
   "metadata": {},
   "source": [
    "Проверим на наличие пропусков в данных."
   ]
  },
  {
   "cell_type": "code",
   "execution_count": 34,
   "metadata": {},
   "outputs": [
    {
     "data": {
      "text/plain": [
       "dt              False\n",
       "c_time          False\n",
       "nchk            False\n",
       "ndoc            False\n",
       "apt             False\n",
       "drug            False\n",
       "kol             False\n",
       "zak             False\n",
       "roz             False\n",
       "disc            False\n",
       "pay_type        False\n",
       "drug_id         False\n",
       "suppl           False\n",
       "disc_id         False\n",
       "disc_barcode    False\n",
       "empl            False\n",
       "vzak            False\n",
       "pos             False\n",
       "cdisc            True\n",
       "dtype: bool"
      ]
     },
     "execution_count": 34,
     "metadata": {},
     "output_type": "execute_result"
    }
   ],
   "source": [
    "df.isna().any()"
   ]
  },
  {
   "cell_type": "code",
   "execution_count": 35,
   "metadata": {
    "scrolled": false
   },
   "outputs": [
    {
     "data": {
      "text/html": [
       "<div>\n",
       "<style scoped>\n",
       "    .dataframe tbody tr th:only-of-type {\n",
       "        vertical-align: middle;\n",
       "    }\n",
       "\n",
       "    .dataframe tbody tr th {\n",
       "        vertical-align: top;\n",
       "    }\n",
       "\n",
       "    .dataframe thead th {\n",
       "        text-align: right;\n",
       "    }\n",
       "</style>\n",
       "<table border=\"1\" class=\"dataframe\">\n",
       "  <thead>\n",
       "    <tr style=\"text-align: right;\">\n",
       "      <th></th>\n",
       "      <th>dt</th>\n",
       "      <th>c_time</th>\n",
       "      <th>nchk</th>\n",
       "      <th>ndoc</th>\n",
       "      <th>apt</th>\n",
       "      <th>drug</th>\n",
       "      <th>kol</th>\n",
       "      <th>zak</th>\n",
       "      <th>roz</th>\n",
       "      <th>disc</th>\n",
       "      <th>pay_type</th>\n",
       "      <th>drug_id</th>\n",
       "      <th>suppl</th>\n",
       "      <th>disc_id</th>\n",
       "      <th>disc_barcode</th>\n",
       "      <th>empl</th>\n",
       "      <th>vzak</th>\n",
       "      <th>pos</th>\n",
       "      <th>cdisc</th>\n",
       "    </tr>\n",
       "  </thead>\n",
       "  <tbody>\n",
       "    <tr>\n",
       "      <th>15</th>\n",
       "      <td>11.08.2022</td>\n",
       "      <td>11:00:23</td>\n",
       "      <td>2178</td>\n",
       "      <td>2004598</td>\n",
       "      <td>2</td>\n",
       "      <td>НАФТИЗИН 0,1% 15МЛ. НАЗАЛ.КАПЛИ ФЛ./КАП. /ЛЕККО/</td>\n",
       "      <td>1.00</td>\n",
       "      <td>12.94</td>\n",
       "      <td>18.00</td>\n",
       "      <td>0.00</td>\n",
       "      <td>18</td>\n",
       "      <td>496504</td>\n",
       "      <td>Катрен г.Химки</td>\n",
       "      <td>nan</td>\n",
       "      <td>nan</td>\n",
       "      <td>205</td>\n",
       "      <td>1</td>\n",
       "      <td>1.00</td>\n",
       "      <td>NaN</td>\n",
       "    </tr>\n",
       "    <tr>\n",
       "      <th>16</th>\n",
       "      <td>11.08.2022</td>\n",
       "      <td>11:00:23</td>\n",
       "      <td>2178</td>\n",
       "      <td>2004598</td>\n",
       "      <td>2</td>\n",
       "      <td>НАФТИЗИН 0,1% 15МЛ. НАЗАЛ.КАПЛИ ФЛ./КАП. /ЛЕККО/</td>\n",
       "      <td>1.00</td>\n",
       "      <td>12.94</td>\n",
       "      <td>18.00</td>\n",
       "      <td>0.00</td>\n",
       "      <td>18</td>\n",
       "      <td>496504</td>\n",
       "      <td>Катрен г.Химки</td>\n",
       "      <td>nan</td>\n",
       "      <td>nan</td>\n",
       "      <td>205</td>\n",
       "      <td>1</td>\n",
       "      <td>2.00</td>\n",
       "      <td>NaN</td>\n",
       "    </tr>\n",
       "    <tr>\n",
       "      <th>20</th>\n",
       "      <td>11.08.2022</td>\n",
       "      <td>11:31:34</td>\n",
       "      <td>2181</td>\n",
       "      <td>2004598</td>\n",
       "      <td>2</td>\n",
       "      <td>ЛАКТОФИЛЬТРУМ 500МГ. №60 ТАБ.</td>\n",
       "      <td>1.00</td>\n",
       "      <td>408.63</td>\n",
       "      <td>560.00</td>\n",
       "      <td>0.00</td>\n",
       "      <td>18</td>\n",
       "      <td>14120</td>\n",
       "      <td>Пульс</td>\n",
       "      <td>nan</td>\n",
       "      <td>nan</td>\n",
       "      <td>205</td>\n",
       "      <td>1</td>\n",
       "      <td>1.00</td>\n",
       "      <td>NaN</td>\n",
       "    </tr>\n",
       "    <tr>\n",
       "      <th>21</th>\n",
       "      <td>11.08.2022</td>\n",
       "      <td>11:31:34</td>\n",
       "      <td>2181</td>\n",
       "      <td>2004598</td>\n",
       "      <td>2</td>\n",
       "      <td>ФЕСТАЛ №40 ДРАЖЕ</td>\n",
       "      <td>1.00</td>\n",
       "      <td>333.74</td>\n",
       "      <td>458.00</td>\n",
       "      <td>0.00</td>\n",
       "      <td>18</td>\n",
       "      <td>78641</td>\n",
       "      <td>ВИТТА КОМПАНИ ООО</td>\n",
       "      <td>nan</td>\n",
       "      <td>nan</td>\n",
       "      <td>205</td>\n",
       "      <td>1</td>\n",
       "      <td>2.00</td>\n",
       "      <td>NaN</td>\n",
       "    </tr>\n",
       "    <tr>\n",
       "      <th>22</th>\n",
       "      <td>11.08.2022</td>\n",
       "      <td>11:36:05</td>\n",
       "      <td>2182</td>\n",
       "      <td>2004598</td>\n",
       "      <td>2</td>\n",
       "      <td>ДОКТОР МОМ №20 ПАСТИЛКИ МАЛИНА</td>\n",
       "      <td>1.00</td>\n",
       "      <td>141.55</td>\n",
       "      <td>200.00</td>\n",
       "      <td>0.00</td>\n",
       "      <td>15</td>\n",
       "      <td>18849</td>\n",
       "      <td>Пульс</td>\n",
       "      <td>nan</td>\n",
       "      <td>nan</td>\n",
       "      <td>205</td>\n",
       "      <td>1</td>\n",
       "      <td>1.00</td>\n",
       "      <td>NaN</td>\n",
       "    </tr>\n",
       "  </tbody>\n",
       "</table>\n",
       "</div>"
      ],
      "text/plain": [
       "            dt    c_time  nchk     ndoc  apt  \\\n",
       "15  11.08.2022  11:00:23  2178  2004598    2   \n",
       "16  11.08.2022  11:00:23  2178  2004598    2   \n",
       "20  11.08.2022  11:31:34  2181  2004598    2   \n",
       "21  11.08.2022  11:31:34  2181  2004598    2   \n",
       "22  11.08.2022  11:36:05  2182  2004598    2   \n",
       "\n",
       "                                                drug  kol    zak    roz  disc  \\\n",
       "15  НАФТИЗИН 0,1% 15МЛ. НАЗАЛ.КАПЛИ ФЛ./КАП. /ЛЕККО/ 1.00  12.94  18.00  0.00   \n",
       "16  НАФТИЗИН 0,1% 15МЛ. НАЗАЛ.КАПЛИ ФЛ./КАП. /ЛЕККО/ 1.00  12.94  18.00  0.00   \n",
       "20                     ЛАКТОФИЛЬТРУМ 500МГ. №60 ТАБ. 1.00 408.63 560.00  0.00   \n",
       "21                                  ФЕСТАЛ №40 ДРАЖЕ 1.00 333.74 458.00  0.00   \n",
       "22                    ДОКТОР МОМ №20 ПАСТИЛКИ МАЛИНА 1.00 141.55 200.00  0.00   \n",
       "\n",
       "    pay_type  drug_id              suppl disc_id disc_barcode  empl  vzak  \\\n",
       "15        18   496504     Катрен г.Химки     nan          nan   205     1   \n",
       "16        18   496504     Катрен г.Химки     nan          nan   205     1   \n",
       "20        18    14120              Пульс     nan          nan   205     1   \n",
       "21        18    78641  ВИТТА КОМПАНИ ООО     nan          nan   205     1   \n",
       "22        15    18849              Пульс     nan          nan   205     1   \n",
       "\n",
       "    pos  cdisc  \n",
       "15 1.00    NaN  \n",
       "16 2.00    NaN  \n",
       "20 1.00    NaN  \n",
       "21 2.00    NaN  \n",
       "22 1.00    NaN  "
      ]
     },
     "execution_count": 35,
     "metadata": {},
     "output_type": "execute_result"
    }
   ],
   "source": [
    "df[df.isna().values.any(axis=1)].head()"
   ]
  },
  {
   "cell_type": "code",
   "execution_count": 36,
   "metadata": {},
   "outputs": [
    {
     "data": {
      "text/plain": [
       "dt                                                    11.08.2022\n",
       "c_time                                                  11:00:23\n",
       "nchk                                                        2178\n",
       "ndoc                                                     2004598\n",
       "apt                                                            2\n",
       "drug            НАФТИЗИН 0,1% 15МЛ. НАЗАЛ.КАПЛИ ФЛ./КАП. /ЛЕККО/\n",
       "kol                                                         1.00\n",
       "zak                                                        12.94\n",
       "roz                                                        18.00\n",
       "disc                                                        0.00\n",
       "pay_type                                                      18\n",
       "drug_id                                                   496504\n",
       "suppl                                             Катрен г.Химки\n",
       "disc_id                                                      nan\n",
       "disc_barcode                                                 nan\n",
       "empl                                                         205\n",
       "vzak                                                           1\n",
       "pos                                                         1.00\n",
       "cdisc                                                        NaN\n",
       "Name: 15, dtype: object"
      ]
     },
     "execution_count": 36,
     "metadata": {},
     "output_type": "execute_result"
    }
   ],
   "source": [
    "df.iloc[15]"
   ]
  },
  {
   "cell_type": "markdown",
   "metadata": {},
   "source": [
    "1. Заполним все пропуски одиаковым значением, нулем."
   ]
  },
  {
   "cell_type": "code",
   "execution_count": 37,
   "metadata": {},
   "outputs": [
    {
     "data": {
      "text/plain": [
       "dt                                                    11.08.2022\n",
       "c_time                                                  11:00:23\n",
       "nchk                                                        2178\n",
       "ndoc                                                     2004598\n",
       "apt                                                            2\n",
       "drug            НАФТИЗИН 0,1% 15МЛ. НАЗАЛ.КАПЛИ ФЛ./КАП. /ЛЕККО/\n",
       "kol                                                         1.00\n",
       "zak                                                        12.94\n",
       "roz                                                        18.00\n",
       "disc                                                        0.00\n",
       "pay_type                                                      18\n",
       "drug_id                                                   496504\n",
       "suppl                                             Катрен г.Химки\n",
       "disc_id                                                      nan\n",
       "disc_barcode                                                 nan\n",
       "empl                                                         205\n",
       "vzak                                                           1\n",
       "pos                                                         1.00\n",
       "cdisc                                                       0.00\n",
       "Name: 15, dtype: object"
      ]
     },
     "execution_count": 37,
     "metadata": {},
     "output_type": "execute_result"
    }
   ],
   "source": [
    "df.fillna(0).iloc[15]"
   ]
  },
  {
   "cell_type": "markdown",
   "metadata": {},
   "source": [
    "2. Заполним пропуски методом интерполяции."
   ]
  },
  {
   "cell_type": "code",
   "execution_count": 38,
   "metadata": {},
   "outputs": [
    {
     "data": {
      "text/plain": [
       "9.0"
      ]
     },
     "execution_count": 38,
     "metadata": {},
     "output_type": "execute_result"
    }
   ],
   "source": [
    "df['cdisc'].interpolate(method='linear').iloc[15]"
   ]
  },
  {
   "cell_type": "markdown",
   "metadata": {},
   "source": [
    "3. Удалим все пропуски."
   ]
  },
  {
   "cell_type": "code",
   "execution_count": 39,
   "metadata": {},
   "outputs": [
    {
     "data": {
      "text/plain": [
       "(4462, 18)"
      ]
     },
     "execution_count": 39,
     "metadata": {},
     "output_type": "execute_result"
    }
   ],
   "source": [
    "df.dropna(axis=1).shape"
   ]
  },
  {
   "cell_type": "markdown",
   "metadata": {},
   "source": [
    "Посмотрим на количество значений в датафрейме в разрезе некоторых значений."
   ]
  },
  {
   "cell_type": "code",
   "execution_count": 40,
   "metadata": {},
   "outputs": [
    {
     "data": {
      "text/plain": [
       "18    2820\n",
       "15    1642\n",
       "Name: pay_type, dtype: int64"
      ]
     },
     "execution_count": 40,
     "metadata": {},
     "output_type": "execute_result"
    }
   ],
   "source": [
    "df['pay_type'].value_counts()"
   ]
  },
  {
   "cell_type": "code",
   "execution_count": 41,
   "metadata": {},
   "outputs": [
    {
     "data": {
      "text/plain": [
       "18    1207\n",
       "2      979\n",
       "11     870\n",
       "6      511\n",
       "13     322\n",
       "17     243\n",
       "15     177\n",
       "7      153\n",
       "Name: apt, dtype: int64"
      ]
     },
     "execution_count": 41,
     "metadata": {},
     "output_type": "execute_result"
    }
   ],
   "source": [
    "df.apt.value_counts()"
   ]
  },
  {
   "cell_type": "code",
   "execution_count": 42,
   "metadata": {
    "scrolled": true
   },
   "outputs": [
    {
     "data": {
      "text/plain": [
       "18   0.27\n",
       "2    0.22\n",
       "11   0.19\n",
       "6    0.11\n",
       "13   0.07\n",
       "17   0.05\n",
       "15   0.04\n",
       "7    0.03\n",
       "Name: apt, dtype: float64"
      ]
     },
     "execution_count": 42,
     "metadata": {},
     "output_type": "execute_result"
    }
   ],
   "source": [
    "df.apt.value_counts(normalize=True)"
   ]
  },
  {
   "cell_type": "markdown",
   "metadata": {},
   "source": [
    "Посмотрим на уникальные значения в одном из столбцов."
   ]
  },
  {
   "cell_type": "code",
   "execution_count": 43,
   "metadata": {},
   "outputs": [
    {
     "data": {
      "text/plain": [
       "array([ 1.,  2.,  3.,  4.,  5.,  6.,  7.,  8.,  9., 10., 11., 12., 13.,\n",
       "       14., 15., 16., 17., 18., 19., 20., 21., 23., 24., 22.])"
      ]
     },
     "execution_count": 43,
     "metadata": {},
     "output_type": "execute_result"
    }
   ],
   "source": [
    "df.pos.unique()"
   ]
  },
  {
   "cell_type": "code",
   "execution_count": 44,
   "metadata": {
    "scrolled": true
   },
   "outputs": [
    {
     "data": {
      "text/plain": [
       "1.00    2019\n",
       "2.00     971\n",
       "3.00     528\n",
       "4.00     301\n",
       "5.00     178\n",
       "Name: pos, dtype: int64"
      ]
     },
     "execution_count": 44,
     "metadata": {},
     "output_type": "execute_result"
    }
   ],
   "source": [
    "df.pos.value_counts().head()"
   ]
  },
  {
   "cell_type": "markdown",
   "metadata": {},
   "source": [
    "Построим распределение для этого столбца."
   ]
  },
  {
   "cell_type": "code",
   "execution_count": 45,
   "metadata": {},
   "outputs": [
    {
     "data": {
      "text/plain": [
       "<AxesSubplot:>"
      ]
     },
     "execution_count": 45,
     "metadata": {},
     "output_type": "execute_result"
    },
    {
     "data": {
      "image/png": "[encoded data removed]",
      "text/plain": [
       "<Figure size 432x288 with 1 Axes>"
      ]
     },
     "metadata": {
      "needs_background": "light"
     },
     "output_type": "display_data"
    }
   ],
   "source": [
    "df.pos.hist(bins=24)"
   ]
  },
  {
   "cell_type": "markdown",
   "metadata": {},
   "source": [
    "Построим также тепловую карту для корреляций, используя библиотеку seaborn."
   ]
  },
  {
   "cell_type": "code",
   "execution_count": 46,
   "metadata": {
    "scrolled": true
   },
   "outputs": [
    {
     "data": {
      "text/plain": [
       "<AxesSubplot:>"
      ]
     },
     "execution_count": 46,
     "metadata": {},
     "output_type": "execute_result"
    },
    {
     "data": {
      "image/png": "[encoded data removed]",
      "text/plain": [
       "<Figure size 864x576 with 2 Axes>"
      ]
     },
     "metadata": {
      "needs_background": "light"
     },
     "output_type": "display_data"
    }
   ],
   "source": [
    "plt.figure(figsize=(12, 8))\n",
    "sns.heatmap(df.corr(), vmax=1, vmin=-1, annot=True)"
   ]
  },
  {
   "cell_type": "markdown",
   "metadata": {},
   "source": [
    "Рассмотрим также иной вариант задания габаритов графика."
   ]
  },
  {
   "cell_type": "code",
   "execution_count": 47,
   "metadata": {},
   "outputs": [],
   "source": [
    "plt.rcParams['figure.figsize'] = (16, 6)"
   ]
  },
  {
   "cell_type": "code",
   "execution_count": 48,
   "metadata": {
    "scrolled": true
   },
   "outputs": [
    {
     "data": {
      "text/plain": [
       "<AxesSubplot:>"
      ]
     },
     "execution_count": 48,
     "metadata": {},
     "output_type": "execute_result"
    },
    {
     "data": {
      "image/png": "[encoded data removed]",
      "text/plain": [
       "<Figure size 1152x432 with 2 Axes>"
      ]
     },
     "metadata": {
      "needs_background": "light"
     },
     "output_type": "display_data"
    }
   ],
   "source": [
    "sns.heatmap(df.corr(), vmax=1, vmin=-1, annot=True)"
   ]
  },
  {
   "cell_type": "markdown",
   "metadata": {},
   "source": [
    "Выделем в отдельный столбец час покупки."
   ]
  },
  {
   "cell_type": "code",
   "execution_count": 49,
   "metadata": {},
   "outputs": [],
   "source": [
    "df['hour'] = pd.to_datetime(df.c_time).dt.hour"
   ]
  },
  {
   "cell_type": "code",
   "execution_count": 50,
   "metadata": {},
   "outputs": [
    {
     "data": {
      "text/plain": [
       "0    10\n",
       "1    10\n",
       "2    10\n",
       "3    10\n",
       "4    10\n",
       "Name: hour, dtype: int64"
      ]
     },
     "execution_count": 50,
     "metadata": {},
     "output_type": "execute_result"
    }
   ],
   "source": [
    "df['hour'].head()"
   ]
  },
  {
   "cell_type": "code",
   "execution_count": 51,
   "metadata": {
    "scrolled": true
   },
   "outputs": [
    {
     "data": {
      "text/html": [
       "<div>\n",
       "<style scoped>\n",
       "    .dataframe tbody tr th:only-of-type {\n",
       "        vertical-align: middle;\n",
       "    }\n",
       "\n",
       "    .dataframe tbody tr th {\n",
       "        vertical-align: top;\n",
       "    }\n",
       "\n",
       "    .dataframe thead th {\n",
       "        text-align: right;\n",
       "    }\n",
       "</style>\n",
       "<table border=\"1\" class=\"dataframe\">\n",
       "  <thead>\n",
       "    <tr style=\"text-align: right;\">\n",
       "      <th></th>\n",
       "      <th>dt</th>\n",
       "      <th>c_time</th>\n",
       "      <th>nchk</th>\n",
       "      <th>ndoc</th>\n",
       "      <th>apt</th>\n",
       "      <th>drug</th>\n",
       "      <th>kol</th>\n",
       "      <th>zak</th>\n",
       "      <th>roz</th>\n",
       "      <th>disc</th>\n",
       "      <th>pay_type</th>\n",
       "      <th>drug_id</th>\n",
       "      <th>suppl</th>\n",
       "      <th>disc_id</th>\n",
       "      <th>disc_barcode</th>\n",
       "      <th>empl</th>\n",
       "      <th>vzak</th>\n",
       "      <th>pos</th>\n",
       "      <th>cdisc</th>\n",
       "      <th>hour</th>\n",
       "    </tr>\n",
       "  </thead>\n",
       "  <tbody>\n",
       "    <tr>\n",
       "      <th>0</th>\n",
       "      <td>11.08.2022</td>\n",
       "      <td>10:15:35</td>\n",
       "      <td>2173</td>\n",
       "      <td>2004598</td>\n",
       "      <td>2</td>\n",
       "      <td>ЦИПРОЛЕТ 3МГ/МЛ. 5МЛ. №1 ГЛ.КАПЛИ ФЛ./КАП. /Д-...</td>\n",
       "      <td>1.00</td>\n",
       "      <td>41.08</td>\n",
       "      <td>51.00</td>\n",
       "      <td>12.00</td>\n",
       "      <td>18</td>\n",
       "      <td>45399</td>\n",
       "      <td>Катрен г.Химки</td>\n",
       "      <td>925</td>\n",
       "      <td>200000000492</td>\n",
       "      <td>205</td>\n",
       "      <td>1</td>\n",
       "      <td>1.00</td>\n",
       "      <td>925.00</td>\n",
       "      <td>10</td>\n",
       "    </tr>\n",
       "    <tr>\n",
       "      <th>1</th>\n",
       "      <td>11.08.2022</td>\n",
       "      <td>10:27:46</td>\n",
       "      <td>2174</td>\n",
       "      <td>2004598</td>\n",
       "      <td>2</td>\n",
       "      <td>ПЕРЕКИСЬ ВОДОРОДА 3% 100МЛ. №40 Р-Р ФЛ.</td>\n",
       "      <td>1.00</td>\n",
       "      <td>18.61</td>\n",
       "      <td>31.00</td>\n",
       "      <td>3.00</td>\n",
       "      <td>15</td>\n",
       "      <td>261519</td>\n",
       "      <td>Катрен г.Химки</td>\n",
       "      <td>9</td>\n",
       "      <td>200010010204</td>\n",
       "      <td>205</td>\n",
       "      <td>1</td>\n",
       "      <td>1.00</td>\n",
       "      <td>9.00</td>\n",
       "      <td>10</td>\n",
       "    </tr>\n",
       "    <tr>\n",
       "      <th>2</th>\n",
       "      <td>11.08.2022</td>\n",
       "      <td>10:27:46</td>\n",
       "      <td>2174</td>\n",
       "      <td>2004598</td>\n",
       "      <td>2</td>\n",
       "      <td>СОФЬЯ ГЕЛЬ Д/НОГ ВЕНОТОНИЗ. ТРОКСЕРУТИН ФОРТЕ ...</td>\n",
       "      <td>1.00</td>\n",
       "      <td>132.69</td>\n",
       "      <td>209.00</td>\n",
       "      <td>20.00</td>\n",
       "      <td>15</td>\n",
       "      <td>460864</td>\n",
       "      <td>Катрен г.Химки</td>\n",
       "      <td>9</td>\n",
       "      <td>200010010204</td>\n",
       "      <td>205</td>\n",
       "      <td>1</td>\n",
       "      <td>2.00</td>\n",
       "      <td>9.00</td>\n",
       "      <td>10</td>\n",
       "    </tr>\n",
       "    <tr>\n",
       "      <th>3</th>\n",
       "      <td>11.08.2022</td>\n",
       "      <td>10:27:46</td>\n",
       "      <td>2174</td>\n",
       "      <td>2004598</td>\n",
       "      <td>2</td>\n",
       "      <td>СОФЬЯ ГХК КРЕМ Д/ТЕЛА ХОНДРОИТИН+ГЛЮКОЗАМИН 12...</td>\n",
       "      <td>1.00</td>\n",
       "      <td>133.65</td>\n",
       "      <td>210.00</td>\n",
       "      <td>21.00</td>\n",
       "      <td>15</td>\n",
       "      <td>172823</td>\n",
       "      <td>Катрен г.Химки</td>\n",
       "      <td>9</td>\n",
       "      <td>200010010204</td>\n",
       "      <td>205</td>\n",
       "      <td>1</td>\n",
       "      <td>3.00</td>\n",
       "      <td>9.00</td>\n",
       "      <td>10</td>\n",
       "    </tr>\n",
       "    <tr>\n",
       "      <th>4</th>\n",
       "      <td>11.08.2022</td>\n",
       "      <td>10:33:56</td>\n",
       "      <td>2175</td>\n",
       "      <td>2004598</td>\n",
       "      <td>2</td>\n",
       "      <td>ГАЛВУС 50МГ. №28 ТАБ. /НОВАРТИС/</td>\n",
       "      <td>1.00</td>\n",
       "      <td>709.95</td>\n",
       "      <td>787.00</td>\n",
       "      <td>49.00</td>\n",
       "      <td>18</td>\n",
       "      <td>79056</td>\n",
       "      <td>Катрен г.Химки</td>\n",
       "      <td>925</td>\n",
       "      <td>200000000492</td>\n",
       "      <td>205</td>\n",
       "      <td>1</td>\n",
       "      <td>1.00</td>\n",
       "      <td>925.00</td>\n",
       "      <td>10</td>\n",
       "    </tr>\n",
       "  </tbody>\n",
       "</table>\n",
       "</div>"
      ],
      "text/plain": [
       "           dt    c_time  nchk     ndoc  apt  \\\n",
       "0  11.08.2022  10:15:35  2173  2004598    2   \n",
       "1  11.08.2022  10:27:46  2174  2004598    2   \n",
       "2  11.08.2022  10:27:46  2174  2004598    2   \n",
       "3  11.08.2022  10:27:46  2174  2004598    2   \n",
       "4  11.08.2022  10:33:56  2175  2004598    2   \n",
       "\n",
       "                                                drug  kol    zak    roz  disc  \\\n",
       "0  ЦИПРОЛЕТ 3МГ/МЛ. 5МЛ. №1 ГЛ.КАПЛИ ФЛ./КАП. /Д-... 1.00  41.08  51.00 12.00   \n",
       "1            ПЕРЕКИСЬ ВОДОРОДА 3% 100МЛ. №40 Р-Р ФЛ. 1.00  18.61  31.00  3.00   \n",
       "2  СОФЬЯ ГЕЛЬ Д/НОГ ВЕНОТОНИЗ. ТРОКСЕРУТИН ФОРТЕ ... 1.00 132.69 209.00 20.00   \n",
       "3  СОФЬЯ ГХК КРЕМ Д/ТЕЛА ХОНДРОИТИН+ГЛЮКОЗАМИН 12... 1.00 133.65 210.00 21.00   \n",
       "4                   ГАЛВУС 50МГ. №28 ТАБ. /НОВАРТИС/ 1.00 709.95 787.00 49.00   \n",
       "\n",
       "   pay_type  drug_id           suppl disc_id  disc_barcode  empl  vzak  pos  \\\n",
       "0        18    45399  Катрен г.Химки     925  200000000492   205     1 1.00   \n",
       "1        15   261519  Катрен г.Химки       9  200010010204   205     1 1.00   \n",
       "2        15   460864  Катрен г.Химки       9  200010010204   205     1 2.00   \n",
       "3        15   172823  Катрен г.Химки       9  200010010204   205     1 3.00   \n",
       "4        18    79056  Катрен г.Химки     925  200000000492   205     1 1.00   \n",
       "\n",
       "   cdisc  hour  \n",
       "0 925.00    10  \n",
       "1   9.00    10  \n",
       "2   9.00    10  \n",
       "3   9.00    10  \n",
       "4 925.00    10  "
      ]
     },
     "execution_count": 51,
     "metadata": {},
     "output_type": "execute_result"
    }
   ],
   "source": [
    "df.head()"
   ]
  },
  {
   "cell_type": "markdown",
   "metadata": {},
   "source": [
    "Посмотрим на распределение кол-ва покупок по часам."
   ]
  },
  {
   "cell_type": "code",
   "execution_count": 52,
   "metadata": {},
   "outputs": [],
   "source": [
    "gr = df.groupby(['hour'])['kol'].agg(sum)"
   ]
  },
  {
   "cell_type": "code",
   "execution_count": 53,
   "metadata": {
    "scrolled": true
   },
   "outputs": [
    {
     "data": {
      "text/plain": [
       "hour\n",
       "8     20.10\n",
       "9    236.50\n",
       "10   361.65\n",
       "11   326.55\n",
       "12   311.59\n",
       "Name: kol, dtype: float64"
      ]
     },
     "execution_count": 53,
     "metadata": {},
     "output_type": "execute_result"
    }
   ],
   "source": [
    "gr.head()"
   ]
  },
  {
   "cell_type": "markdown",
   "metadata": {},
   "source": [
    "Постром боксплот для данных значений."
   ]
  },
  {
   "cell_type": "code",
   "execution_count": 54,
   "metadata": {},
   "outputs": [
    {
     "data": {
      "text/plain": [
       "<AxesSubplot:xlabel='kol'>"
      ]
     },
     "execution_count": 54,
     "metadata": {},
     "output_type": "execute_result"
    },
    {
     "data": {
      "image/png": "[encoded data removed]",
      "text/plain": [
       "<Figure size 1152x432 with 1 Axes>"
      ]
     },
     "metadata": {
      "needs_background": "light"
     },
     "output_type": "display_data"
    }
   ],
   "source": [
    "sns.boxplot(gr)"
   ]
  },
  {
   "cell_type": "markdown",
   "metadata": {},
   "source": [
    "Сделаем группировку по нескольким полям."
   ]
  },
  {
   "cell_type": "code",
   "execution_count": 55,
   "metadata": {},
   "outputs": [],
   "source": [
    "df2 = df.groupby(['dt', 'nchk'])['kol', 'roz', 'zak'].agg({\n",
    "    'kol': sum, \n",
    "    'roz': ['sum', 'max'],\n",
    "    'zak': sum\n",
    "})"
   ]
  },
  {
   "cell_type": "code",
   "execution_count": 56,
   "metadata": {},
   "outputs": [
    {
     "data": {
      "text/html": [
       "<div>\n",
       "<style scoped>\n",
       "    .dataframe tbody tr th:only-of-type {\n",
       "        vertical-align: middle;\n",
       "    }\n",
       "\n",
       "    .dataframe tbody tr th {\n",
       "        vertical-align: top;\n",
       "    }\n",
       "\n",
       "    .dataframe thead tr th {\n",
       "        text-align: left;\n",
       "    }\n",
       "\n",
       "    .dataframe thead tr:last-of-type th {\n",
       "        text-align: right;\n",
       "    }\n",
       "</style>\n",
       "<table border=\"1\" class=\"dataframe\">\n",
       "  <thead>\n",
       "    <tr>\n",
       "      <th></th>\n",
       "      <th></th>\n",
       "      <th>kol</th>\n",
       "      <th colspan=\"2\" halign=\"left\">roz</th>\n",
       "      <th>zak</th>\n",
       "    </tr>\n",
       "    <tr>\n",
       "      <th></th>\n",
       "      <th></th>\n",
       "      <th>sum</th>\n",
       "      <th>sum</th>\n",
       "      <th>max</th>\n",
       "      <th>sum</th>\n",
       "    </tr>\n",
       "    <tr>\n",
       "      <th>dt</th>\n",
       "      <th>nchk</th>\n",
       "      <th></th>\n",
       "      <th></th>\n",
       "      <th></th>\n",
       "      <th></th>\n",
       "    </tr>\n",
       "  </thead>\n",
       "  <tbody>\n",
       "    <tr>\n",
       "      <th rowspan=\"5\" valign=\"top\">11.08.2022</th>\n",
       "      <th>1698</th>\n",
       "      <td>1.00</td>\n",
       "      <td>463.00</td>\n",
       "      <td>463.00</td>\n",
       "      <td>342.30</td>\n",
       "    </tr>\n",
       "    <tr>\n",
       "      <th>1699</th>\n",
       "      <td>1.00</td>\n",
       "      <td>720.00</td>\n",
       "      <td>720.00</td>\n",
       "      <td>545.27</td>\n",
       "    </tr>\n",
       "    <tr>\n",
       "      <th>1700</th>\n",
       "      <td>1.00</td>\n",
       "      <td>60.00</td>\n",
       "      <td>60.00</td>\n",
       "      <td>36.68</td>\n",
       "    </tr>\n",
       "    <tr>\n",
       "      <th>1701</th>\n",
       "      <td>4.00</td>\n",
       "      <td>955.00</td>\n",
       "      <td>443.00</td>\n",
       "      <td>756.12</td>\n",
       "    </tr>\n",
       "    <tr>\n",
       "      <th>1702</th>\n",
       "      <td>1.00</td>\n",
       "      <td>94.00</td>\n",
       "      <td>94.00</td>\n",
       "      <td>76.55</td>\n",
       "    </tr>\n",
       "  </tbody>\n",
       "</table>\n",
       "</div>"
      ],
      "text/plain": [
       "                 kol    roz           zak\n",
       "                 sum    sum    max    sum\n",
       "dt         nchk                          \n",
       "11.08.2022 1698 1.00 463.00 463.00 342.30\n",
       "           1699 1.00 720.00 720.00 545.27\n",
       "           1700 1.00  60.00  60.00  36.68\n",
       "           1701 4.00 955.00 443.00 756.12\n",
       "           1702 1.00  94.00  94.00  76.55"
      ]
     },
     "execution_count": 56,
     "metadata": {},
     "output_type": "execute_result"
    }
   ],
   "source": [
    "df2.head()"
   ]
  },
  {
   "cell_type": "code",
   "execution_count": 57,
   "metadata": {
    "scrolled": true
   },
   "outputs": [
    {
     "data": {
      "text/html": [
       "<div>\n",
       "<style scoped>\n",
       "    .dataframe tbody tr th:only-of-type {\n",
       "        vertical-align: middle;\n",
       "    }\n",
       "\n",
       "    .dataframe tbody tr th {\n",
       "        vertical-align: top;\n",
       "    }\n",
       "\n",
       "    .dataframe thead tr th {\n",
       "        text-align: left;\n",
       "    }\n",
       "</style>\n",
       "<table border=\"1\" class=\"dataframe\">\n",
       "  <thead>\n",
       "    <tr>\n",
       "      <th></th>\n",
       "      <th>dt</th>\n",
       "      <th>nchk</th>\n",
       "      <th>kol</th>\n",
       "      <th colspan=\"2\" halign=\"left\">roz</th>\n",
       "      <th>zak</th>\n",
       "    </tr>\n",
       "    <tr>\n",
       "      <th></th>\n",
       "      <th></th>\n",
       "      <th></th>\n",
       "      <th>sum</th>\n",
       "      <th>sum</th>\n",
       "      <th>max</th>\n",
       "      <th>sum</th>\n",
       "    </tr>\n",
       "  </thead>\n",
       "  <tbody>\n",
       "    <tr>\n",
       "      <th>0</th>\n",
       "      <td>11.08.2022</td>\n",
       "      <td>1698</td>\n",
       "      <td>1.00</td>\n",
       "      <td>463.00</td>\n",
       "      <td>463.00</td>\n",
       "      <td>342.30</td>\n",
       "    </tr>\n",
       "    <tr>\n",
       "      <th>1</th>\n",
       "      <td>11.08.2022</td>\n",
       "      <td>1699</td>\n",
       "      <td>1.00</td>\n",
       "      <td>720.00</td>\n",
       "      <td>720.00</td>\n",
       "      <td>545.27</td>\n",
       "    </tr>\n",
       "    <tr>\n",
       "      <th>2</th>\n",
       "      <td>11.08.2022</td>\n",
       "      <td>1700</td>\n",
       "      <td>1.00</td>\n",
       "      <td>60.00</td>\n",
       "      <td>60.00</td>\n",
       "      <td>36.68</td>\n",
       "    </tr>\n",
       "    <tr>\n",
       "      <th>3</th>\n",
       "      <td>11.08.2022</td>\n",
       "      <td>1701</td>\n",
       "      <td>4.00</td>\n",
       "      <td>955.00</td>\n",
       "      <td>443.00</td>\n",
       "      <td>756.12</td>\n",
       "    </tr>\n",
       "    <tr>\n",
       "      <th>4</th>\n",
       "      <td>11.08.2022</td>\n",
       "      <td>1702</td>\n",
       "      <td>1.00</td>\n",
       "      <td>94.00</td>\n",
       "      <td>94.00</td>\n",
       "      <td>76.55</td>\n",
       "    </tr>\n",
       "  </tbody>\n",
       "</table>\n",
       "</div>"
      ],
      "text/plain": [
       "           dt  nchk  kol    roz           zak\n",
       "                     sum    sum    max    sum\n",
       "0  11.08.2022  1698 1.00 463.00 463.00 342.30\n",
       "1  11.08.2022  1699 1.00 720.00 720.00 545.27\n",
       "2  11.08.2022  1700 1.00  60.00  60.00  36.68\n",
       "3  11.08.2022  1701 4.00 955.00 443.00 756.12\n",
       "4  11.08.2022  1702 1.00  94.00  94.00  76.55"
      ]
     },
     "execution_count": 57,
     "metadata": {},
     "output_type": "execute_result"
    }
   ],
   "source": [
    "df2.reset_index().head()"
   ]
  },
  {
   "cell_type": "markdown",
   "metadata": {},
   "source": [
    "Попробуем посчитать доход от продаж в день на сотрудника."
   ]
  },
  {
   "cell_type": "code",
   "execution_count": 58,
   "metadata": {},
   "outputs": [],
   "source": [
    "revenue_df = df.groupby(['dt', 'empl'])['zak', 'roz'].agg(sum)"
   ]
  },
  {
   "cell_type": "code",
   "execution_count": 59,
   "metadata": {},
   "outputs": [],
   "source": [
    "revenue_df['revenue'] = revenue_df['roz'] - revenue_df['zak']"
   ]
  },
  {
   "cell_type": "code",
   "execution_count": 60,
   "metadata": {
    "scrolled": true
   },
   "outputs": [
    {
     "data": {
      "text/html": [
       "<div>\n",
       "<style scoped>\n",
       "    .dataframe tbody tr th:only-of-type {\n",
       "        vertical-align: middle;\n",
       "    }\n",
       "\n",
       "    .dataframe tbody tr th {\n",
       "        vertical-align: top;\n",
       "    }\n",
       "\n",
       "    .dataframe thead th {\n",
       "        text-align: right;\n",
       "    }\n",
       "</style>\n",
       "<table border=\"1\" class=\"dataframe\">\n",
       "  <thead>\n",
       "    <tr style=\"text-align: right;\">\n",
       "      <th></th>\n",
       "      <th></th>\n",
       "      <th>zak</th>\n",
       "      <th>roz</th>\n",
       "      <th>revenue</th>\n",
       "    </tr>\n",
       "    <tr>\n",
       "      <th>dt</th>\n",
       "      <th>empl</th>\n",
       "      <th></th>\n",
       "      <th></th>\n",
       "      <th></th>\n",
       "    </tr>\n",
       "  </thead>\n",
       "  <tbody>\n",
       "    <tr>\n",
       "      <th rowspan=\"5\" valign=\"top\">11.08.2022</th>\n",
       "      <th>25</th>\n",
       "      <td>72004.24</td>\n",
       "      <td>93030.00</td>\n",
       "      <td>21025.76</td>\n",
       "    </tr>\n",
       "    <tr>\n",
       "      <th>30</th>\n",
       "      <td>90350.41</td>\n",
       "      <td>111916.97</td>\n",
       "      <td>21566.56</td>\n",
       "    </tr>\n",
       "    <tr>\n",
       "      <th>36</th>\n",
       "      <td>62425.32</td>\n",
       "      <td>77368.03</td>\n",
       "      <td>14942.71</td>\n",
       "    </tr>\n",
       "    <tr>\n",
       "      <th>47</th>\n",
       "      <td>68458.33</td>\n",
       "      <td>86626.01</td>\n",
       "      <td>18167.68</td>\n",
       "    </tr>\n",
       "    <tr>\n",
       "      <th>50</th>\n",
       "      <td>72304.41</td>\n",
       "      <td>90830.01</td>\n",
       "      <td>18525.60</td>\n",
       "    </tr>\n",
       "  </tbody>\n",
       "</table>\n",
       "</div>"
      ],
      "text/plain": [
       "                     zak       roz  revenue\n",
       "dt         empl                            \n",
       "11.08.2022 25   72004.24  93030.00 21025.76\n",
       "           30   90350.41 111916.97 21566.56\n",
       "           36   62425.32  77368.03 14942.71\n",
       "           47   68458.33  86626.01 18167.68\n",
       "           50   72304.41  90830.01 18525.60"
      ]
     },
     "execution_count": 60,
     "metadata": {},
     "output_type": "execute_result"
    }
   ],
   "source": [
    "revenue_df.head()"
   ]
  },
  {
   "cell_type": "markdown",
   "metadata": {},
   "source": [
    "Рассчитаем доход с учетом количества, используя лямбда-функцию."
   ]
  },
  {
   "cell_type": "code",
   "execution_count": 61,
   "metadata": {},
   "outputs": [
    {
     "data": {
      "text/html": [
       "<div>\n",
       "<style scoped>\n",
       "    .dataframe tbody tr th:only-of-type {\n",
       "        vertical-align: middle;\n",
       "    }\n",
       "\n",
       "    .dataframe tbody tr th {\n",
       "        vertical-align: top;\n",
       "    }\n",
       "\n",
       "    .dataframe thead th {\n",
       "        text-align: right;\n",
       "    }\n",
       "</style>\n",
       "<table border=\"1\" class=\"dataframe\">\n",
       "  <thead>\n",
       "    <tr style=\"text-align: right;\">\n",
       "      <th></th>\n",
       "      <th>dt</th>\n",
       "      <th>empl</th>\n",
       "      <th>0</th>\n",
       "    </tr>\n",
       "  </thead>\n",
       "  <tbody>\n",
       "    <tr>\n",
       "      <th>0</th>\n",
       "      <td>11.08.2022</td>\n",
       "      <td>25</td>\n",
       "      <td>20642.29</td>\n",
       "    </tr>\n",
       "    <tr>\n",
       "      <th>1</th>\n",
       "      <td>11.08.2022</td>\n",
       "      <td>30</td>\n",
       "      <td>20328.67</td>\n",
       "    </tr>\n",
       "    <tr>\n",
       "      <th>2</th>\n",
       "      <td>11.08.2022</td>\n",
       "      <td>36</td>\n",
       "      <td>14090.04</td>\n",
       "    </tr>\n",
       "    <tr>\n",
       "      <th>3</th>\n",
       "      <td>11.08.2022</td>\n",
       "      <td>47</td>\n",
       "      <td>16983.79</td>\n",
       "    </tr>\n",
       "    <tr>\n",
       "      <th>4</th>\n",
       "      <td>11.08.2022</td>\n",
       "      <td>50</td>\n",
       "      <td>17384.41</td>\n",
       "    </tr>\n",
       "  </tbody>\n",
       "</table>\n",
       "</div>"
      ],
      "text/plain": [
       "           dt  empl        0\n",
       "0  11.08.2022    25 20642.29\n",
       "1  11.08.2022    30 20328.67\n",
       "2  11.08.2022    36 14090.04\n",
       "3  11.08.2022    47 16983.79\n",
       "4  11.08.2022    50 17384.41"
      ]
     },
     "execution_count": 61,
     "metadata": {},
     "output_type": "execute_result"
    }
   ],
   "source": [
    "df.groupby(['dt', 'empl'])['zak', 'roz', 'kol'].apply(lambda x: sum(x['kol']*(x['roz'] - x['zak']))).reset_index().head()"
   ]
  },
  {
   "cell_type": "markdown",
   "metadata": {},
   "source": [
    "Используя библиотеку numpy рассчитаем среднее значение розничной цены для каждого препарата в течении дня."
   ]
  },
  {
   "cell_type": "code",
   "execution_count": 62,
   "metadata": {
    "scrolled": true
   },
   "outputs": [
    {
     "data": {
      "text/html": [
       "<div>\n",
       "<style scoped>\n",
       "    .dataframe tbody tr th:only-of-type {\n",
       "        vertical-align: middle;\n",
       "    }\n",
       "\n",
       "    .dataframe tbody tr th {\n",
       "        vertical-align: top;\n",
       "    }\n",
       "\n",
       "    .dataframe thead th {\n",
       "        text-align: right;\n",
       "    }\n",
       "</style>\n",
       "<table border=\"1\" class=\"dataframe\">\n",
       "  <thead>\n",
       "    <tr style=\"text-align: right;\">\n",
       "      <th></th>\n",
       "      <th></th>\n",
       "      <th>roz</th>\n",
       "      <th>kol</th>\n",
       "    </tr>\n",
       "    <tr>\n",
       "      <th>dt</th>\n",
       "      <th>drug</th>\n",
       "      <th></th>\n",
       "      <th></th>\n",
       "    </tr>\n",
       "  </thead>\n",
       "  <tbody>\n",
       "    <tr>\n",
       "      <th rowspan=\"5\" valign=\"top\">11.08.2022</th>\n",
       "      <th>911-ГЕЛЬ-БАЛЬЗАМ Д/СУСТАВОВ ОКОПНИК 100МЛ. ТУБА</th>\n",
       "      <td>111.00</td>\n",
       "      <td>1.00</td>\n",
       "    </tr>\n",
       "    <tr>\n",
       "      <th>911-ГЕЛЬ-БАЛЬЗАМ Д/СУСТАВОВ САБЕЛЬНИК 100МЛ.</th>\n",
       "      <td>104.00</td>\n",
       "      <td>1.00</td>\n",
       "    </tr>\n",
       "    <tr>\n",
       "      <th>L-ТИРОКСИН 150МКГ. №100 ТАБ. /БЕРЛИН ХЕМИ/</th>\n",
       "      <td>170.00</td>\n",
       "      <td>1.00</td>\n",
       "    </tr>\n",
       "    <tr>\n",
       "      <th>L-ТИРОКСИН 50МКГ. №50 ТАБ. /БЕРЛИН ХЕМИ/</th>\n",
       "      <td>93.00</td>\n",
       "      <td>1.00</td>\n",
       "    </tr>\n",
       "    <tr>\n",
       "      <th>ZD ТЕЙМУРОВА СПРЕЙ Д/НОГ П/ПОТА И ЗАПАХА 150МЛ. ФЛ. /ЗЕЛЕНАЯ ДУБРАВА/</th>\n",
       "      <td>96.00</td>\n",
       "      <td>1.00</td>\n",
       "    </tr>\n",
       "  </tbody>\n",
       "</table>\n",
       "</div>"
      ],
      "text/plain": [
       "                                                                 roz  kol\n",
       "dt         drug                                                          \n",
       "11.08.2022 911-ГЕЛЬ-БАЛЬЗАМ Д/СУСТАВОВ ОКОПНИК 100МЛ. ТУБА    111.00 1.00\n",
       "           911-ГЕЛЬ-БАЛЬЗАМ Д/СУСТАВОВ САБЕЛЬНИК 100МЛ.       104.00 1.00\n",
       "           L-ТИРОКСИН 150МКГ. №100 ТАБ. /БЕРЛИН ХЕМИ/         170.00 1.00\n",
       "           L-ТИРОКСИН 50МКГ. №50 ТАБ. /БЕРЛИН ХЕМИ/            93.00 1.00\n",
       "           ZD ТЕЙМУРОВА СПРЕЙ Д/НОГ П/ПОТА И ЗАПАХА 150МЛ....  96.00 1.00"
      ]
     },
     "execution_count": 62,
     "metadata": {},
     "output_type": "execute_result"
    }
   ],
   "source": [
    "df.groupby(['dt', 'drug'])['roz', 'kol'].agg({\n",
    "    'roz': np.mean, \n",
    "    'kol': sum\n",
    "}).head()"
   ]
  },
  {
   "cell_type": "markdown",
   "metadata": {},
   "source": [
    "Посмотрим как распределяется объем продаж в разрезе розничных цен препаратов (округлим значения до сотен)."
   ]
  },
  {
   "cell_type": "code",
   "execution_count": 63,
   "metadata": {},
   "outputs": [],
   "source": [
    "df['rroz'] = df.roz.apply(lambda x: round(x, -2))"
   ]
  },
  {
   "cell_type": "code",
   "execution_count": 64,
   "metadata": {},
   "outputs": [],
   "source": [
    "df3 = df.groupby(['dt','rroz'])['kol'].agg(sum).reset_index()"
   ]
  },
  {
   "cell_type": "code",
   "execution_count": 65,
   "metadata": {},
   "outputs": [
    {
     "data": {
      "text/html": [
       "<div>\n",
       "<style scoped>\n",
       "    .dataframe tbody tr th:only-of-type {\n",
       "        vertical-align: middle;\n",
       "    }\n",
       "\n",
       "    .dataframe tbody tr th {\n",
       "        vertical-align: top;\n",
       "    }\n",
       "\n",
       "    .dataframe thead th {\n",
       "        text-align: right;\n",
       "    }\n",
       "</style>\n",
       "<table border=\"1\" class=\"dataframe\">\n",
       "  <thead>\n",
       "    <tr style=\"text-align: right;\">\n",
       "      <th></th>\n",
       "      <th>dt</th>\n",
       "      <th>rroz</th>\n",
       "      <th>kol</th>\n",
       "    </tr>\n",
       "  </thead>\n",
       "  <tbody>\n",
       "    <tr>\n",
       "      <th>0</th>\n",
       "      <td>11.08.2022</td>\n",
       "      <td>0.00</td>\n",
       "      <td>770.00</td>\n",
       "    </tr>\n",
       "    <tr>\n",
       "      <th>1</th>\n",
       "      <td>11.08.2022</td>\n",
       "      <td>100.00</td>\n",
       "      <td>742.00</td>\n",
       "    </tr>\n",
       "    <tr>\n",
       "      <th>2</th>\n",
       "      <td>11.08.2022</td>\n",
       "      <td>200.00</td>\n",
       "      <td>328.43</td>\n",
       "    </tr>\n",
       "    <tr>\n",
       "      <th>3</th>\n",
       "      <td>11.08.2022</td>\n",
       "      <td>300.00</td>\n",
       "      <td>196.20</td>\n",
       "    </tr>\n",
       "    <tr>\n",
       "      <th>4</th>\n",
       "      <td>11.08.2022</td>\n",
       "      <td>400.00</td>\n",
       "      <td>133.00</td>\n",
       "    </tr>\n",
       "  </tbody>\n",
       "</table>\n",
       "</div>"
      ],
      "text/plain": [
       "           dt   rroz    kol\n",
       "0  11.08.2022   0.00 770.00\n",
       "1  11.08.2022 100.00 742.00\n",
       "2  11.08.2022 200.00 328.43\n",
       "3  11.08.2022 300.00 196.20\n",
       "4  11.08.2022 400.00 133.00"
      ]
     },
     "execution_count": 65,
     "metadata": {},
     "output_type": "execute_result"
    }
   ],
   "source": [
    "df3.head()"
   ]
  },
  {
   "cell_type": "code",
   "execution_count": 66,
   "metadata": {},
   "outputs": [],
   "source": [
    "df3 = df3[df3.loc[:, 'rroz'] < 2000]"
   ]
  },
  {
   "cell_type": "code",
   "execution_count": 67,
   "metadata": {},
   "outputs": [
    {
     "data": {
      "text/plain": [
       "<AxesSubplot:xlabel='rroz', ylabel='kol'>"
      ]
     },
     "execution_count": 67,
     "metadata": {},
     "output_type": "execute_result"
    },
    {
     "data": {
      "image/png": "[encoded data removed]",
      "text/plain": [
       "<Figure size 1152x432 with 1 Axes>"
      ]
     },
     "metadata": {
      "needs_background": "light"
     },
     "output_type": "display_data"
    }
   ],
   "source": [
    "sns.scatterplot(df3.rroz, df3.kol,hue = df3.dt)"
   ]
  },
  {
   "cell_type": "code",
   "execution_count": 68,
   "metadata": {
    "scrolled": true
   },
   "outputs": [
    {
     "data": {
      "text/plain": [
       "<seaborn.axisgrid.JointGrid at 0x2d437e8eee0>"
      ]
     },
     "execution_count": 68,
     "metadata": {},
     "output_type": "execute_result"
    },
    {
     "data": {
      "image/png": "[encoded data removed]",
      "text/plain": [
       "<Figure size 432x432 with 3 Axes>"
      ]
     },
     "metadata": {
      "needs_background": "light"
     },
     "output_type": "display_data"
    }
   ],
   "source": [
    "sns.jointplot(df3.rroz, df3.kol,hue = df3.dt)"
   ]
  },
  {
   "cell_type": "markdown",
   "metadata": {},
   "source": [
    "Поработаем немного со сводными таблицами."
   ]
  },
  {
   "cell_type": "code",
   "execution_count": 69,
   "metadata": {},
   "outputs": [],
   "source": [
    "df4 = df.groupby(['dt','apt','empl', 'pay_type'], as_index = False)['kol'].agg(sum)"
   ]
  },
  {
   "cell_type": "code",
   "execution_count": 70,
   "metadata": {},
   "outputs": [
    {
     "data": {
      "text/html": [
       "<div>\n",
       "<style scoped>\n",
       "    .dataframe tbody tr th:only-of-type {\n",
       "        vertical-align: middle;\n",
       "    }\n",
       "\n",
       "    .dataframe tbody tr th {\n",
       "        vertical-align: top;\n",
       "    }\n",
       "\n",
       "    .dataframe thead th {\n",
       "        text-align: right;\n",
       "    }\n",
       "</style>\n",
       "<table border=\"1\" class=\"dataframe\">\n",
       "  <thead>\n",
       "    <tr style=\"text-align: right;\">\n",
       "      <th></th>\n",
       "      <th>dt</th>\n",
       "      <th>apt</th>\n",
       "      <th>empl</th>\n",
       "      <th>pay_type</th>\n",
       "      <th>kol</th>\n",
       "    </tr>\n",
       "  </thead>\n",
       "  <tbody>\n",
       "    <tr>\n",
       "      <th>0</th>\n",
       "      <td>11.08.2022</td>\n",
       "      <td>2</td>\n",
       "      <td>123</td>\n",
       "      <td>15</td>\n",
       "      <td>151.05</td>\n",
       "    </tr>\n",
       "    <tr>\n",
       "      <th>1</th>\n",
       "      <td>11.08.2022</td>\n",
       "      <td>2</td>\n",
       "      <td>123</td>\n",
       "      <td>18</td>\n",
       "      <td>164.13</td>\n",
       "    </tr>\n",
       "    <tr>\n",
       "      <th>2</th>\n",
       "      <td>11.08.2022</td>\n",
       "      <td>2</td>\n",
       "      <td>205</td>\n",
       "      <td>15</td>\n",
       "      <td>65.11</td>\n",
       "    </tr>\n",
       "    <tr>\n",
       "      <th>3</th>\n",
       "      <td>11.08.2022</td>\n",
       "      <td>2</td>\n",
       "      <td>205</td>\n",
       "      <td>18</td>\n",
       "      <td>66.00</td>\n",
       "    </tr>\n",
       "    <tr>\n",
       "      <th>4</th>\n",
       "      <td>11.08.2022</td>\n",
       "      <td>6</td>\n",
       "      <td>25</td>\n",
       "      <td>15</td>\n",
       "      <td>95.00</td>\n",
       "    </tr>\n",
       "  </tbody>\n",
       "</table>\n",
       "</div>"
      ],
      "text/plain": [
       "           dt  apt  empl  pay_type    kol\n",
       "0  11.08.2022    2   123        15 151.05\n",
       "1  11.08.2022    2   123        18 164.13\n",
       "2  11.08.2022    2   205        15  65.11\n",
       "3  11.08.2022    2   205        18  66.00\n",
       "4  11.08.2022    6    25        15  95.00"
      ]
     },
     "execution_count": 70,
     "metadata": {},
     "output_type": "execute_result"
    }
   ],
   "source": [
    "df4.head()"
   ]
  },
  {
   "cell_type": "code",
   "execution_count": 71,
   "metadata": {},
   "outputs": [
    {
     "data": {
      "text/html": [
       "<div>\n",
       "<style scoped>\n",
       "    .dataframe tbody tr th:only-of-type {\n",
       "        vertical-align: middle;\n",
       "    }\n",
       "\n",
       "    .dataframe tbody tr th {\n",
       "        vertical-align: top;\n",
       "    }\n",
       "\n",
       "    .dataframe thead th {\n",
       "        text-align: right;\n",
       "    }\n",
       "</style>\n",
       "<table border=\"1\" class=\"dataframe\">\n",
       "  <thead>\n",
       "    <tr style=\"text-align: right;\">\n",
       "      <th></th>\n",
       "      <th></th>\n",
       "      <th>pay_type</th>\n",
       "      <th>15</th>\n",
       "      <th>18</th>\n",
       "    </tr>\n",
       "    <tr>\n",
       "      <th>dt</th>\n",
       "      <th>apt</th>\n",
       "      <th>empl</th>\n",
       "      <th></th>\n",
       "      <th></th>\n",
       "    </tr>\n",
       "  </thead>\n",
       "  <tbody>\n",
       "    <tr>\n",
       "      <th rowspan=\"5\" valign=\"top\">11.08.2022</th>\n",
       "      <th rowspan=\"2\" valign=\"top\">2</th>\n",
       "      <th>123</th>\n",
       "      <td>151.05</td>\n",
       "      <td>164.13</td>\n",
       "    </tr>\n",
       "    <tr>\n",
       "      <th>205</th>\n",
       "      <td>65.11</td>\n",
       "      <td>66.00</td>\n",
       "    </tr>\n",
       "    <tr>\n",
       "      <th>6</th>\n",
       "      <th>25</th>\n",
       "      <td>95.00</td>\n",
       "      <td>142.53</td>\n",
       "    </tr>\n",
       "    <tr>\n",
       "      <th>7</th>\n",
       "      <th>605</th>\n",
       "      <td>67.04</td>\n",
       "      <td>101.85</td>\n",
       "    </tr>\n",
       "    <tr>\n",
       "      <th>11</th>\n",
       "      <th>30</th>\n",
       "      <td>179.00</td>\n",
       "      <td>310.48</td>\n",
       "    </tr>\n",
       "  </tbody>\n",
       "</table>\n",
       "</div>"
      ],
      "text/plain": [
       "pay_type                15     18\n",
       "dt         apt empl              \n",
       "11.08.2022 2   123  151.05 164.13\n",
       "               205   65.11  66.00\n",
       "           6   25    95.00 142.53\n",
       "           7   605   67.04 101.85\n",
       "           11  30   179.00 310.48"
      ]
     },
     "execution_count": 71,
     "metadata": {},
     "output_type": "execute_result"
    }
   ],
   "source": [
    "df4.pivot_table(values= 'kol', index = ['dt','apt','empl'], columns= 'pay_type').head()"
   ]
  },
  {
   "cell_type": "code",
   "execution_count": 72,
   "metadata": {},
   "outputs": [],
   "source": [
    "df5 = df.pivot_table(values= 'roz', index = ['dt','apt','empl'], columns= 'pay_type', aggfunc= sum)"
   ]
  },
  {
   "cell_type": "code",
   "execution_count": 73,
   "metadata": {
    "scrolled": true
   },
   "outputs": [
    {
     "data": {
      "text/html": [
       "<div>\n",
       "<style scoped>\n",
       "    .dataframe tbody tr th:only-of-type {\n",
       "        vertical-align: middle;\n",
       "    }\n",
       "\n",
       "    .dataframe tbody tr th {\n",
       "        vertical-align: top;\n",
       "    }\n",
       "\n",
       "    .dataframe thead th {\n",
       "        text-align: right;\n",
       "    }\n",
       "</style>\n",
       "<table border=\"1\" class=\"dataframe\">\n",
       "  <thead>\n",
       "    <tr style=\"text-align: right;\">\n",
       "      <th></th>\n",
       "      <th></th>\n",
       "      <th>pay_type</th>\n",
       "      <th>15</th>\n",
       "      <th>18</th>\n",
       "    </tr>\n",
       "    <tr>\n",
       "      <th>dt</th>\n",
       "      <th>apt</th>\n",
       "      <th>empl</th>\n",
       "      <th></th>\n",
       "      <th></th>\n",
       "    </tr>\n",
       "  </thead>\n",
       "  <tbody>\n",
       "    <tr>\n",
       "      <th rowspan=\"5\" valign=\"top\">11.08.2022</th>\n",
       "      <th rowspan=\"2\" valign=\"top\">2</th>\n",
       "      <th>123</th>\n",
       "      <td>55981.01</td>\n",
       "      <td>60697.02</td>\n",
       "    </tr>\n",
       "    <tr>\n",
       "      <th>205</th>\n",
       "      <td>27403.00</td>\n",
       "      <td>32068.00</td>\n",
       "    </tr>\n",
       "    <tr>\n",
       "      <th>6</th>\n",
       "      <th>25</th>\n",
       "      <td>27402.00</td>\n",
       "      <td>65628.00</td>\n",
       "    </tr>\n",
       "    <tr>\n",
       "      <th>7</th>\n",
       "      <th>605</th>\n",
       "      <td>17618.00</td>\n",
       "      <td>19336.01</td>\n",
       "    </tr>\n",
       "    <tr>\n",
       "      <th>11</th>\n",
       "      <th>30</th>\n",
       "      <td>38692.32</td>\n",
       "      <td>73224.65</td>\n",
       "    </tr>\n",
       "  </tbody>\n",
       "</table>\n",
       "</div>"
      ],
      "text/plain": [
       "pay_type                  15       18\n",
       "dt         apt empl                  \n",
       "11.08.2022 2   123  55981.01 60697.02\n",
       "               205  27403.00 32068.00\n",
       "           6   25   27402.00 65628.00\n",
       "           7   605  17618.00 19336.01\n",
       "           11  30   38692.32 73224.65"
      ]
     },
     "execution_count": 73,
     "metadata": {},
     "output_type": "execute_result"
    }
   ],
   "source": [
    "df5.head()"
   ]
  },
  {
   "cell_type": "code",
   "execution_count": 74,
   "metadata": {},
   "outputs": [
    {
     "data": {
      "text/html": [
       "<div>\n",
       "<style scoped>\n",
       "    .dataframe tbody tr th:only-of-type {\n",
       "        vertical-align: middle;\n",
       "    }\n",
       "\n",
       "    .dataframe tbody tr th {\n",
       "        vertical-align: top;\n",
       "    }\n",
       "\n",
       "    .dataframe thead th {\n",
       "        text-align: right;\n",
       "    }\n",
       "</style>\n",
       "<table border=\"1\" class=\"dataframe\">\n",
       "  <thead>\n",
       "    <tr style=\"text-align: right;\">\n",
       "      <th>pay_type</th>\n",
       "      <th>dt</th>\n",
       "      <th>apt</th>\n",
       "      <th>empl</th>\n",
       "      <th>15</th>\n",
       "      <th>18</th>\n",
       "    </tr>\n",
       "  </thead>\n",
       "  <tbody>\n",
       "    <tr>\n",
       "      <th>0</th>\n",
       "      <td>11.08.2022</td>\n",
       "      <td>2</td>\n",
       "      <td>123</td>\n",
       "      <td>55981.01</td>\n",
       "      <td>60697.02</td>\n",
       "    </tr>\n",
       "    <tr>\n",
       "      <th>1</th>\n",
       "      <td>11.08.2022</td>\n",
       "      <td>2</td>\n",
       "      <td>205</td>\n",
       "      <td>27403.00</td>\n",
       "      <td>32068.00</td>\n",
       "    </tr>\n",
       "    <tr>\n",
       "      <th>2</th>\n",
       "      <td>11.08.2022</td>\n",
       "      <td>6</td>\n",
       "      <td>25</td>\n",
       "      <td>27402.00</td>\n",
       "      <td>65628.00</td>\n",
       "    </tr>\n",
       "    <tr>\n",
       "      <th>3</th>\n",
       "      <td>11.08.2022</td>\n",
       "      <td>7</td>\n",
       "      <td>605</td>\n",
       "      <td>17618.00</td>\n",
       "      <td>19336.01</td>\n",
       "    </tr>\n",
       "    <tr>\n",
       "      <th>4</th>\n",
       "      <td>11.08.2022</td>\n",
       "      <td>11</td>\n",
       "      <td>30</td>\n",
       "      <td>38692.32</td>\n",
       "      <td>73224.65</td>\n",
       "    </tr>\n",
       "  </tbody>\n",
       "</table>\n",
       "</div>"
      ],
      "text/plain": [
       "pay_type          dt  apt  empl       15       18\n",
       "0         11.08.2022    2   123 55981.01 60697.02\n",
       "1         11.08.2022    2   205 27403.00 32068.00\n",
       "2         11.08.2022    6    25 27402.00 65628.00\n",
       "3         11.08.2022    7   605 17618.00 19336.01\n",
       "4         11.08.2022   11    30 38692.32 73224.65"
      ]
     },
     "execution_count": 74,
     "metadata": {},
     "output_type": "execute_result"
    }
   ],
   "source": [
    "df5 = df5.reset_index()\n",
    "df5.head()"
   ]
  },
  {
   "cell_type": "code",
   "execution_count": 75,
   "metadata": {},
   "outputs": [
    {
     "data": {
      "text/html": [
       "<div>\n",
       "<style scoped>\n",
       "    .dataframe tbody tr th:only-of-type {\n",
       "        vertical-align: middle;\n",
       "    }\n",
       "\n",
       "    .dataframe tbody tr th {\n",
       "        vertical-align: top;\n",
       "    }\n",
       "\n",
       "    .dataframe thead th {\n",
       "        text-align: right;\n",
       "    }\n",
       "</style>\n",
       "<table border=\"1\" class=\"dataframe\">\n",
       "  <thead>\n",
       "    <tr style=\"text-align: right;\">\n",
       "      <th></th>\n",
       "      <th>dt</th>\n",
       "      <th>apt</th>\n",
       "      <th>empl</th>\n",
       "      <th>p_type</th>\n",
       "      <th>value</th>\n",
       "    </tr>\n",
       "  </thead>\n",
       "  <tbody>\n",
       "    <tr>\n",
       "      <th>0</th>\n",
       "      <td>11.08.2022</td>\n",
       "      <td>2</td>\n",
       "      <td>123</td>\n",
       "      <td>15</td>\n",
       "      <td>55981.01</td>\n",
       "    </tr>\n",
       "    <tr>\n",
       "      <th>1</th>\n",
       "      <td>11.08.2022</td>\n",
       "      <td>2</td>\n",
       "      <td>205</td>\n",
       "      <td>15</td>\n",
       "      <td>27403.00</td>\n",
       "    </tr>\n",
       "    <tr>\n",
       "      <th>2</th>\n",
       "      <td>11.08.2022</td>\n",
       "      <td>6</td>\n",
       "      <td>25</td>\n",
       "      <td>15</td>\n",
       "      <td>27402.00</td>\n",
       "    </tr>\n",
       "    <tr>\n",
       "      <th>3</th>\n",
       "      <td>11.08.2022</td>\n",
       "      <td>7</td>\n",
       "      <td>605</td>\n",
       "      <td>15</td>\n",
       "      <td>17618.00</td>\n",
       "    </tr>\n",
       "    <tr>\n",
       "      <th>4</th>\n",
       "      <td>11.08.2022</td>\n",
       "      <td>11</td>\n",
       "      <td>30</td>\n",
       "      <td>15</td>\n",
       "      <td>38692.32</td>\n",
       "    </tr>\n",
       "  </tbody>\n",
       "</table>\n",
       "</div>"
      ],
      "text/plain": [
       "           dt  apt  empl p_type    value\n",
       "0  11.08.2022    2   123     15 55981.01\n",
       "1  11.08.2022    2   205     15 27403.00\n",
       "2  11.08.2022    6    25     15 27402.00\n",
       "3  11.08.2022    7   605     15 17618.00\n",
       "4  11.08.2022   11    30     15 38692.32"
      ]
     },
     "execution_count": 75,
     "metadata": {},
     "output_type": "execute_result"
    }
   ],
   "source": [
    "pd.melt(df5, id_vars=['dt','apt','empl'], value_vars= [15, 18], var_name= 'p_type').head()"
   ]
  },
  {
   "cell_type": "code",
   "execution_count": 76,
   "metadata": {},
   "outputs": [
    {
     "data": {
      "text/html": [
       "<div>\n",
       "<style scoped>\n",
       "    .dataframe tbody tr th:only-of-type {\n",
       "        vertical-align: middle;\n",
       "    }\n",
       "\n",
       "    .dataframe tbody tr th {\n",
       "        vertical-align: top;\n",
       "    }\n",
       "\n",
       "    .dataframe thead th {\n",
       "        text-align: right;\n",
       "    }\n",
       "</style>\n",
       "<table border=\"1\" class=\"dataframe\">\n",
       "  <thead>\n",
       "    <tr style=\"text-align: right;\">\n",
       "      <th></th>\n",
       "      <th>zak</th>\n",
       "      <th>roz</th>\n",
       "    </tr>\n",
       "  </thead>\n",
       "  <tbody>\n",
       "    <tr>\n",
       "      <th>0</th>\n",
       "      <td>41.08</td>\n",
       "      <td>51.00</td>\n",
       "    </tr>\n",
       "    <tr>\n",
       "      <th>1</th>\n",
       "      <td>18.61</td>\n",
       "      <td>31.00</td>\n",
       "    </tr>\n",
       "    <tr>\n",
       "      <th>2</th>\n",
       "      <td>132.69</td>\n",
       "      <td>209.00</td>\n",
       "    </tr>\n",
       "  </tbody>\n",
       "</table>\n",
       "</div>"
      ],
      "text/plain": [
       "     zak    roz\n",
       "0  41.08  51.00\n",
       "1  18.61  31.00\n",
       "2 132.69 209.00"
      ]
     },
     "execution_count": 76,
     "metadata": {},
     "output_type": "execute_result"
    }
   ],
   "source": [
    "df.loc[:2, ['zak', 'roz'] ]"
   ]
  },
  {
   "cell_type": "code",
   "execution_count": 77,
   "metadata": {},
   "outputs": [
    {
     "data": {
      "text/html": [
       "<div>\n",
       "<style scoped>\n",
       "    .dataframe tbody tr th:only-of-type {\n",
       "        vertical-align: middle;\n",
       "    }\n",
       "\n",
       "    .dataframe tbody tr th {\n",
       "        vertical-align: top;\n",
       "    }\n",
       "\n",
       "    .dataframe thead th {\n",
       "        text-align: right;\n",
       "    }\n",
       "</style>\n",
       "<table border=\"1\" class=\"dataframe\">\n",
       "  <thead>\n",
       "    <tr style=\"text-align: right;\">\n",
       "      <th></th>\n",
       "      <th>dt</th>\n",
       "      <th>c_time</th>\n",
       "      <th>nchk</th>\n",
       "      <th>ndoc</th>\n",
       "      <th>apt</th>\n",
       "      <th>drug</th>\n",
       "      <th>kol</th>\n",
       "      <th>zak</th>\n",
       "      <th>roz</th>\n",
       "      <th>disc</th>\n",
       "      <th>pay_type</th>\n",
       "      <th>drug_id</th>\n",
       "      <th>suppl</th>\n",
       "      <th>disc_id</th>\n",
       "      <th>disc_barcode</th>\n",
       "      <th>empl</th>\n",
       "      <th>vzak</th>\n",
       "      <th>pos</th>\n",
       "      <th>cdisc</th>\n",
       "      <th>hour</th>\n",
       "      <th>rroz</th>\n",
       "    </tr>\n",
       "  </thead>\n",
       "  <tbody>\n",
       "    <tr>\n",
       "      <th>27</th>\n",
       "      <td>11.08.2022</td>\n",
       "      <td>11:50:16</td>\n",
       "      <td>2184</td>\n",
       "      <td>2004598</td>\n",
       "      <td>2</td>\n",
       "      <td>АКАТИНОЛ МЕМАНТИН 20МГ. №28 ТАБ. П/П/О /МЕРЦ Ф...</td>\n",
       "      <td>1.00</td>\n",
       "      <td>2545.84</td>\n",
       "      <td>2824.00</td>\n",
       "      <td>141.00</td>\n",
       "      <td>15</td>\n",
       "      <td>153467</td>\n",
       "      <td>ВИТТА КОМПАНИ ООО</td>\n",
       "      <td>9</td>\n",
       "      <td>200010014079</td>\n",
       "      <td>205</td>\n",
       "      <td>1</td>\n",
       "      <td>1.00</td>\n",
       "      <td>9.00</td>\n",
       "      <td>11</td>\n",
       "      <td>2800.00</td>\n",
       "    </tr>\n",
       "    <tr>\n",
       "      <th>29</th>\n",
       "      <td>11.08.2022</td>\n",
       "      <td>11:50:16</td>\n",
       "      <td>2184</td>\n",
       "      <td>2004598</td>\n",
       "      <td>2</td>\n",
       "      <td>ПРАДАКСА 110МГ. №60 КАПС. /БЕРИНГЕР/</td>\n",
       "      <td>1.00</td>\n",
       "      <td>3076.03</td>\n",
       "      <td>3432.00</td>\n",
       "      <td>171.00</td>\n",
       "      <td>15</td>\n",
       "      <td>154600</td>\n",
       "      <td>Протек</td>\n",
       "      <td>9</td>\n",
       "      <td>200010014079</td>\n",
       "      <td>205</td>\n",
       "      <td>1</td>\n",
       "      <td>5.00</td>\n",
       "      <td>9.00</td>\n",
       "      <td>11</td>\n",
       "      <td>3400.00</td>\n",
       "    </tr>\n",
       "    <tr>\n",
       "      <th>45</th>\n",
       "      <td>11.08.2022</td>\n",
       "      <td>13:10:54</td>\n",
       "      <td>2192</td>\n",
       "      <td>2004598</td>\n",
       "      <td>2</td>\n",
       "      <td>ЦЕФАЛИ АППАРАТ Д/ТЕРАПИИ МИГРЕНИ С ПРИНАДЛ.</td>\n",
       "      <td>1.00</td>\n",
       "      <td>11851.13</td>\n",
       "      <td>12345.00</td>\n",
       "      <td>0.00</td>\n",
       "      <td>18</td>\n",
       "      <td>455413</td>\n",
       "      <td>Протек</td>\n",
       "      <td>nan</td>\n",
       "      <td>nan</td>\n",
       "      <td>205</td>\n",
       "      <td>2</td>\n",
       "      <td>1.00</td>\n",
       "      <td>NaN</td>\n",
       "      <td>13</td>\n",
       "      <td>12300.00</td>\n",
       "    </tr>\n",
       "    <tr>\n",
       "      <th>62</th>\n",
       "      <td>11.08.2022</td>\n",
       "      <td>14:47:12</td>\n",
       "      <td>2201</td>\n",
       "      <td>2004598</td>\n",
       "      <td>2</td>\n",
       "      <td>ДЖАРДИНС 10МГ. №30 ТАБ. П/П/О /БЕРИНГЕР/</td>\n",
       "      <td>1.00</td>\n",
       "      <td>2669.94</td>\n",
       "      <td>2945.00</td>\n",
       "      <td>147.00</td>\n",
       "      <td>15</td>\n",
       "      <td>296849</td>\n",
       "      <td>Катрен г.Химки</td>\n",
       "      <td>9</td>\n",
       "      <td>200010024690</td>\n",
       "      <td>205</td>\n",
       "      <td>1</td>\n",
       "      <td>1.00</td>\n",
       "      <td>9.00</td>\n",
       "      <td>14</td>\n",
       "      <td>2900.00</td>\n",
       "    </tr>\n",
       "    <tr>\n",
       "      <th>65</th>\n",
       "      <td>11.08.2022</td>\n",
       "      <td>14:52:33</td>\n",
       "      <td>2203</td>\n",
       "      <td>2004598</td>\n",
       "      <td>2</td>\n",
       "      <td>АКСАМОН 15МГ/МЛ. 1МЛ. №10 Р-Р Д/В/М,П/К АМП.</td>\n",
       "      <td>1.00</td>\n",
       "      <td>1559.37</td>\n",
       "      <td>2106.00</td>\n",
       "      <td>147.00</td>\n",
       "      <td>15</td>\n",
       "      <td>254247</td>\n",
       "      <td>Здравсервис</td>\n",
       "      <td>9</td>\n",
       "      <td>200010018590</td>\n",
       "      <td>205</td>\n",
       "      <td>1</td>\n",
       "      <td>1.00</td>\n",
       "      <td>9.00</td>\n",
       "      <td>14</td>\n",
       "      <td>2100.00</td>\n",
       "    </tr>\n",
       "  </tbody>\n",
       "</table>\n",
       "</div>"
      ],
      "text/plain": [
       "            dt    c_time  nchk     ndoc  apt  \\\n",
       "27  11.08.2022  11:50:16  2184  2004598    2   \n",
       "29  11.08.2022  11:50:16  2184  2004598    2   \n",
       "45  11.08.2022  13:10:54  2192  2004598    2   \n",
       "62  11.08.2022  14:47:12  2201  2004598    2   \n",
       "65  11.08.2022  14:52:33  2203  2004598    2   \n",
       "\n",
       "                                                 drug  kol      zak      roz  \\\n",
       "27  АКАТИНОЛ МЕМАНТИН 20МГ. №28 ТАБ. П/П/О /МЕРЦ Ф... 1.00  2545.84  2824.00   \n",
       "29               ПРАДАКСА 110МГ. №60 КАПС. /БЕРИНГЕР/ 1.00  3076.03  3432.00   \n",
       "45        ЦЕФАЛИ АППАРАТ Д/ТЕРАПИИ МИГРЕНИ С ПРИНАДЛ. 1.00 11851.13 12345.00   \n",
       "62           ДЖАРДИНС 10МГ. №30 ТАБ. П/П/О /БЕРИНГЕР/ 1.00  2669.94  2945.00   \n",
       "65       АКСАМОН 15МГ/МЛ. 1МЛ. №10 Р-Р Д/В/М,П/К АМП. 1.00  1559.37  2106.00   \n",
       "\n",
       "     disc  pay_type  drug_id              suppl disc_id  disc_barcode  empl  \\\n",
       "27 141.00        15   153467  ВИТТА КОМПАНИ ООО       9  200010014079   205   \n",
       "29 171.00        15   154600             Протек       9  200010014079   205   \n",
       "45   0.00        18   455413             Протек     nan           nan   205   \n",
       "62 147.00        15   296849     Катрен г.Химки       9  200010024690   205   \n",
       "65 147.00        15   254247        Здравсервис       9  200010018590   205   \n",
       "\n",
       "    vzak  pos  cdisc  hour     rroz  \n",
       "27     1 1.00   9.00    11  2800.00  \n",
       "29     1 5.00   9.00    11  3400.00  \n",
       "45     2 1.00    NaN    13 12300.00  \n",
       "62     1 1.00   9.00    14  2900.00  \n",
       "65     1 1.00   9.00    14  2100.00  "
      ]
     },
     "execution_count": 77,
     "metadata": {},
     "output_type": "execute_result"
    }
   ],
   "source": [
    "df[(df['kol'] > 5) | (df['roz'] > 2000)].head()"
   ]
  },
  {
   "cell_type": "code",
   "execution_count": 78,
   "metadata": {},
   "outputs": [
    {
     "data": {
      "text/html": [
       "<div>\n",
       "<style scoped>\n",
       "    .dataframe tbody tr th:only-of-type {\n",
       "        vertical-align: middle;\n",
       "    }\n",
       "\n",
       "    .dataframe tbody tr th {\n",
       "        vertical-align: top;\n",
       "    }\n",
       "\n",
       "    .dataframe thead th {\n",
       "        text-align: right;\n",
       "    }\n",
       "</style>\n",
       "<table border=\"1\" class=\"dataframe\">\n",
       "  <thead>\n",
       "    <tr style=\"text-align: right;\">\n",
       "      <th></th>\n",
       "      <th>dt</th>\n",
       "      <th>c_time</th>\n",
       "      <th>nchk</th>\n",
       "      <th>ndoc</th>\n",
       "      <th>apt</th>\n",
       "      <th>drug</th>\n",
       "      <th>kol</th>\n",
       "      <th>zak</th>\n",
       "      <th>roz</th>\n",
       "      <th>disc</th>\n",
       "      <th>pay_type</th>\n",
       "      <th>drug_id</th>\n",
       "      <th>suppl</th>\n",
       "      <th>disc_id</th>\n",
       "      <th>disc_barcode</th>\n",
       "      <th>empl</th>\n",
       "      <th>vzak</th>\n",
       "      <th>pos</th>\n",
       "      <th>cdisc</th>\n",
       "      <th>hour</th>\n",
       "      <th>rroz</th>\n",
       "    </tr>\n",
       "  </thead>\n",
       "  <tbody>\n",
       "    <tr>\n",
       "      <th>0</th>\n",
       "      <td>11.08.2022</td>\n",
       "      <td>10:15:35</td>\n",
       "      <td>2173</td>\n",
       "      <td>2004598</td>\n",
       "      <td>2</td>\n",
       "      <td>ЦИПРОЛЕТ 3МГ/МЛ. 5МЛ. №1 ГЛ.КАПЛИ ФЛ./КАП. /Д-...</td>\n",
       "      <td>1.00</td>\n",
       "      <td>41.08</td>\n",
       "      <td>51.00</td>\n",
       "      <td>12.00</td>\n",
       "      <td>18</td>\n",
       "      <td>45399</td>\n",
       "      <td>Катрен г.Химки</td>\n",
       "      <td>925</td>\n",
       "      <td>200000000492</td>\n",
       "      <td>205</td>\n",
       "      <td>1</td>\n",
       "      <td>1.00</td>\n",
       "      <td>925.00</td>\n",
       "      <td>10</td>\n",
       "      <td>100.00</td>\n",
       "    </tr>\n",
       "    <tr>\n",
       "      <th>4</th>\n",
       "      <td>11.08.2022</td>\n",
       "      <td>10:33:56</td>\n",
       "      <td>2175</td>\n",
       "      <td>2004598</td>\n",
       "      <td>2</td>\n",
       "      <td>ГАЛВУС 50МГ. №28 ТАБ. /НОВАРТИС/</td>\n",
       "      <td>1.00</td>\n",
       "      <td>709.95</td>\n",
       "      <td>787.00</td>\n",
       "      <td>49.00</td>\n",
       "      <td>18</td>\n",
       "      <td>79056</td>\n",
       "      <td>Катрен г.Химки</td>\n",
       "      <td>925</td>\n",
       "      <td>200000000492</td>\n",
       "      <td>205</td>\n",
       "      <td>1</td>\n",
       "      <td>1.00</td>\n",
       "      <td>925.00</td>\n",
       "      <td>10</td>\n",
       "      <td>800.00</td>\n",
       "    </tr>\n",
       "    <tr>\n",
       "      <th>5</th>\n",
       "      <td>11.08.2022</td>\n",
       "      <td>10:40:38</td>\n",
       "      <td>2176</td>\n",
       "      <td>2004598</td>\n",
       "      <td>2</td>\n",
       "      <td>БИСОПРОЛОЛ 5МГ. №60 ТАБ. П/П/О /ВЕРТЕКС/</td>\n",
       "      <td>1.00</td>\n",
       "      <td>152.90</td>\n",
       "      <td>182.00</td>\n",
       "      <td>9.00</td>\n",
       "      <td>18</td>\n",
       "      <td>187304</td>\n",
       "      <td>Пульс</td>\n",
       "      <td>9</td>\n",
       "      <td>200010001947</td>\n",
       "      <td>205</td>\n",
       "      <td>1</td>\n",
       "      <td>1.00</td>\n",
       "      <td>9.00</td>\n",
       "      <td>10</td>\n",
       "      <td>200.00</td>\n",
       "    </tr>\n",
       "    <tr>\n",
       "      <th>6</th>\n",
       "      <td>11.08.2022</td>\n",
       "      <td>10:40:38</td>\n",
       "      <td>2176</td>\n",
       "      <td>2004598</td>\n",
       "      <td>2</td>\n",
       "      <td>ТРИХОПОЛ 250МГ. №20 ТАБ. /ПОЛЬФАРМА/</td>\n",
       "      <td>1.00</td>\n",
       "      <td>67.94</td>\n",
       "      <td>85.00</td>\n",
       "      <td>4.00</td>\n",
       "      <td>18</td>\n",
       "      <td>1261</td>\n",
       "      <td>ГРАНД КАПИТАЛ СМОЛЕНСК ООО ФК</td>\n",
       "      <td>9</td>\n",
       "      <td>200010001947</td>\n",
       "      <td>205</td>\n",
       "      <td>1</td>\n",
       "      <td>2.00</td>\n",
       "      <td>9.00</td>\n",
       "      <td>10</td>\n",
       "      <td>100.00</td>\n",
       "    </tr>\n",
       "    <tr>\n",
       "      <th>7</th>\n",
       "      <td>11.08.2022</td>\n",
       "      <td>10:52:52</td>\n",
       "      <td>2177</td>\n",
       "      <td>2004598</td>\n",
       "      <td>2</td>\n",
       "      <td>НОРВАСК 5МГ. №30 ТАБ. /ПФАЙЗЕР/АПДЖОН/</td>\n",
       "      <td>1.00</td>\n",
       "      <td>157.76</td>\n",
       "      <td>189.00</td>\n",
       "      <td>9.00</td>\n",
       "      <td>18</td>\n",
       "      <td>2566</td>\n",
       "      <td>Катрен г.Химки</td>\n",
       "      <td>9</td>\n",
       "      <td>200010013331</td>\n",
       "      <td>205</td>\n",
       "      <td>1</td>\n",
       "      <td>3.00</td>\n",
       "      <td>9.00</td>\n",
       "      <td>10</td>\n",
       "      <td>200.00</td>\n",
       "    </tr>\n",
       "  </tbody>\n",
       "</table>\n",
       "</div>"
      ],
      "text/plain": [
       "           dt    c_time  nchk     ndoc  apt  \\\n",
       "0  11.08.2022  10:15:35  2173  2004598    2   \n",
       "4  11.08.2022  10:33:56  2175  2004598    2   \n",
       "5  11.08.2022  10:40:38  2176  2004598    2   \n",
       "6  11.08.2022  10:40:38  2176  2004598    2   \n",
       "7  11.08.2022  10:52:52  2177  2004598    2   \n",
       "\n",
       "                                                drug  kol    zak    roz  disc  \\\n",
       "0  ЦИПРОЛЕТ 3МГ/МЛ. 5МЛ. №1 ГЛ.КАПЛИ ФЛ./КАП. /Д-... 1.00  41.08  51.00 12.00   \n",
       "4                   ГАЛВУС 50МГ. №28 ТАБ. /НОВАРТИС/ 1.00 709.95 787.00 49.00   \n",
       "5           БИСОПРОЛОЛ 5МГ. №60 ТАБ. П/П/О /ВЕРТЕКС/ 1.00 152.90 182.00  9.00   \n",
       "6               ТРИХОПОЛ 250МГ. №20 ТАБ. /ПОЛЬФАРМА/ 1.00  67.94  85.00  4.00   \n",
       "7             НОРВАСК 5МГ. №30 ТАБ. /ПФАЙЗЕР/АПДЖОН/ 1.00 157.76 189.00  9.00   \n",
       "\n",
       "   pay_type  drug_id                          suppl disc_id  disc_barcode  \\\n",
       "0        18    45399                 Катрен г.Химки     925  200000000492   \n",
       "4        18    79056                 Катрен г.Химки     925  200000000492   \n",
       "5        18   187304                          Пульс       9  200010001947   \n",
       "6        18     1261  ГРАНД КАПИТАЛ СМОЛЕНСК ООО ФК       9  200010001947   \n",
       "7        18     2566                 Катрен г.Химки       9  200010013331   \n",
       "\n",
       "   empl  vzak  pos  cdisc  hour   rroz  \n",
       "0   205     1 1.00 925.00    10 100.00  \n",
       "4   205     1 1.00 925.00    10 800.00  \n",
       "5   205     1 1.00   9.00    10 200.00  \n",
       "6   205     1 2.00   9.00    10 100.00  \n",
       "7   205     1 3.00   9.00    10 200.00  "
      ]
     },
     "execution_count": 78,
     "metadata": {},
     "output_type": "execute_result"
    }
   ],
   "source": [
    "df[~df.loc[:, 'pay_type'].isin([15, 20])].head()"
   ]
  }
 ],
 "metadata": {
  "kernelspec": {
   "display_name": "Python 3 (ipykernel)",
   "language": "python",
   "name": "python3"
  },
  "language_info": {
   "codemirror_mode": {
    "name": "ipython",
    "version": 3
   },
   "file_extension": ".py",
   "mimetype": "text/x-python",
   "name": "python",
   "nbconvert_exporter": "python",
   "pygments_lexer": "ipython3",
   "version": "3.9.7"
  },
  "vscode": {
   "interpreter": {
    "hash": "b51b82b497031e2bf3b1833f8427c3a664fd2cd398bd8ccc16d90c27cfdfba45"
   }
  }
 },
 "nbformat": 4,
 "nbformat_minor": 2
}
