{
 "cells": [
  {
   "cell_type": "markdown",
   "id": "054ce004",
   "metadata": {},
   "source": [
    "## В данном мини-проекте проведем А/А-тестирование мобильного приложения\n",
    "Посчитаем результаты A/A-теста, проверяя метрику качества FPR (будем проверять на конверсии в покупку). Известно, что сплит-система сломана. Требуется проверить утверждение о поломке и найти ее причины, если сплит-система действительно сломана.\n",
    "\n",
    "## Задачи\n",
    "1. Запустить A/A-тест.\n",
    "2. Посчитать FPR на уровне альфа = 0.05 (ставим подвыборки без возвращения объемом 1000). \n",
    "3. Найти причины поломки сплит-системы, ориентируясь на результаты эксперимента.\n",
    "4. Написать выводы, которые можно сделать на основе анализа результатов A/A-теста."
   ]
  },
  {
   "cell_type": "code",
   "execution_count": 1,
   "id": "7c68153b",
   "metadata": {},
   "outputs": [],
   "source": [
    "import pandas as pd\n",
    "import numpy as np\n",
    "import seaborn as sns\n",
    "import matplotlib.pyplot as plt\n",
    "from scipy import stats\n",
    "from tqdm.auto import tqdm\n",
    "\n",
    "plt.style.use('ggplot')\n",
    "%matplotlib inline"
   ]
  },
  {
   "cell_type": "code",
   "execution_count": 2,
   "id": "bc50b8c4",
   "metadata": {},
   "outputs": [],
   "source": [
    "df = pd.read_csv(r\"C:\\Users\\yarus\\projects\\data\\hw_aa.csv\", sep=';')"
   ]
  },
  {
   "cell_type": "code",
   "execution_count": 3,
   "id": "a3eb3e8e",
   "metadata": {},
   "outputs": [
    {
     "data": {
      "text/html": [
       "<div>\n",
       "<style scoped>\n",
       "    .dataframe tbody tr th:only-of-type {\n",
       "        vertical-align: middle;\n",
       "    }\n",
       "\n",
       "    .dataframe tbody tr th {\n",
       "        vertical-align: top;\n",
       "    }\n",
       "\n",
       "    .dataframe thead th {\n",
       "        text-align: right;\n",
       "    }\n",
       "</style>\n",
       "<table border=\"1\" class=\"dataframe\">\n",
       "  <thead>\n",
       "    <tr style=\"text-align: right;\">\n",
       "      <th></th>\n",
       "      <th>Unnamed: 0</th>\n",
       "      <th>uid</th>\n",
       "      <th>experimentVariant</th>\n",
       "      <th>version</th>\n",
       "      <th>purchase</th>\n",
       "    </tr>\n",
       "  </thead>\n",
       "  <tbody>\n",
       "    <tr>\n",
       "      <th>0</th>\n",
       "      <td>1</td>\n",
       "      <td>c4ca4238a0b923820dcc509a6f75849b</td>\n",
       "      <td>1</td>\n",
       "      <td>v2.8.0</td>\n",
       "      <td>0</td>\n",
       "    </tr>\n",
       "    <tr>\n",
       "      <th>1</th>\n",
       "      <td>2</td>\n",
       "      <td>c81e728d9d4c2f636f067f89cc14862c</td>\n",
       "      <td>0</td>\n",
       "      <td>v2.9.0</td>\n",
       "      <td>0</td>\n",
       "    </tr>\n",
       "    <tr>\n",
       "      <th>2</th>\n",
       "      <td>3</td>\n",
       "      <td>eccbc87e4b5ce2fe28308fd9f2a7baf3</td>\n",
       "      <td>1</td>\n",
       "      <td>v2.9.0</td>\n",
       "      <td>0</td>\n",
       "    </tr>\n",
       "    <tr>\n",
       "      <th>3</th>\n",
       "      <td>4</td>\n",
       "      <td>a87ff679a2f3e71d9181a67b7542122c</td>\n",
       "      <td>1</td>\n",
       "      <td>v2.8.0</td>\n",
       "      <td>0</td>\n",
       "    </tr>\n",
       "    <tr>\n",
       "      <th>4</th>\n",
       "      <td>5</td>\n",
       "      <td>e4da3b7fbbce2345d7772b0674a318d5</td>\n",
       "      <td>1</td>\n",
       "      <td>v2.8.0</td>\n",
       "      <td>0</td>\n",
       "    </tr>\n",
       "  </tbody>\n",
       "</table>\n",
       "</div>"
      ],
      "text/plain": [
       "   Unnamed: 0                               uid  experimentVariant version  \\\n",
       "0           1  c4ca4238a0b923820dcc509a6f75849b                  1  v2.8.0   \n",
       "1           2  c81e728d9d4c2f636f067f89cc14862c                  0  v2.9.0   \n",
       "2           3  eccbc87e4b5ce2fe28308fd9f2a7baf3                  1  v2.9.0   \n",
       "3           4  a87ff679a2f3e71d9181a67b7542122c                  1  v2.8.0   \n",
       "4           5  e4da3b7fbbce2345d7772b0674a318d5                  1  v2.8.0   \n",
       "\n",
       "   purchase  \n",
       "0         0  \n",
       "1         0  \n",
       "2         0  \n",
       "3         0  \n",
       "4         0  "
      ]
     },
     "execution_count": 3,
     "metadata": {},
     "output_type": "execute_result"
    }
   ],
   "source": [
    "df.head()"
   ]
  },
  {
   "cell_type": "markdown",
   "id": "4530f838",
   "metadata": {},
   "source": [
    "## Описание колонок:\n",
    "* experimentVariant – вариант эксперимента\n",
    "* version – версия приложения\n",
    "* purchase – факт покупки"
   ]
  },
  {
   "cell_type": "markdown",
   "id": "b5933b53",
   "metadata": {},
   "source": [
    "Удалим ненужный столбец."
   ]
  },
  {
   "cell_type": "code",
   "execution_count": 4,
   "id": "91bcff66",
   "metadata": {},
   "outputs": [],
   "source": [
    "df = df.drop(columns=df.columns[0])"
   ]
  },
  {
   "cell_type": "code",
   "execution_count": 5,
   "id": "c586d10b",
   "metadata": {},
   "outputs": [
    {
     "data": {
      "text/html": [
       "<div>\n",
       "<style scoped>\n",
       "    .dataframe tbody tr th:only-of-type {\n",
       "        vertical-align: middle;\n",
       "    }\n",
       "\n",
       "    .dataframe tbody tr th {\n",
       "        vertical-align: top;\n",
       "    }\n",
       "\n",
       "    .dataframe thead th {\n",
       "        text-align: right;\n",
       "    }\n",
       "</style>\n",
       "<table border=\"1\" class=\"dataframe\">\n",
       "  <thead>\n",
       "    <tr style=\"text-align: right;\">\n",
       "      <th></th>\n",
       "      <th>uid</th>\n",
       "      <th>experimentVariant</th>\n",
       "      <th>version</th>\n",
       "      <th>purchase</th>\n",
       "    </tr>\n",
       "  </thead>\n",
       "  <tbody>\n",
       "    <tr>\n",
       "      <th>0</th>\n",
       "      <td>c4ca4238a0b923820dcc509a6f75849b</td>\n",
       "      <td>1</td>\n",
       "      <td>v2.8.0</td>\n",
       "      <td>0</td>\n",
       "    </tr>\n",
       "    <tr>\n",
       "      <th>1</th>\n",
       "      <td>c81e728d9d4c2f636f067f89cc14862c</td>\n",
       "      <td>0</td>\n",
       "      <td>v2.9.0</td>\n",
       "      <td>0</td>\n",
       "    </tr>\n",
       "    <tr>\n",
       "      <th>2</th>\n",
       "      <td>eccbc87e4b5ce2fe28308fd9f2a7baf3</td>\n",
       "      <td>1</td>\n",
       "      <td>v2.9.0</td>\n",
       "      <td>0</td>\n",
       "    </tr>\n",
       "    <tr>\n",
       "      <th>3</th>\n",
       "      <td>a87ff679a2f3e71d9181a67b7542122c</td>\n",
       "      <td>1</td>\n",
       "      <td>v2.8.0</td>\n",
       "      <td>0</td>\n",
       "    </tr>\n",
       "    <tr>\n",
       "      <th>4</th>\n",
       "      <td>e4da3b7fbbce2345d7772b0674a318d5</td>\n",
       "      <td>1</td>\n",
       "      <td>v2.8.0</td>\n",
       "      <td>0</td>\n",
       "    </tr>\n",
       "  </tbody>\n",
       "</table>\n",
       "</div>"
      ],
      "text/plain": [
       "                                uid  experimentVariant version  purchase\n",
       "0  c4ca4238a0b923820dcc509a6f75849b                  1  v2.8.0         0\n",
       "1  c81e728d9d4c2f636f067f89cc14862c                  0  v2.9.0         0\n",
       "2  eccbc87e4b5ce2fe28308fd9f2a7baf3                  1  v2.9.0         0\n",
       "3  a87ff679a2f3e71d9181a67b7542122c                  1  v2.8.0         0\n",
       "4  e4da3b7fbbce2345d7772b0674a318d5                  1  v2.8.0         0"
      ]
     },
     "execution_count": 5,
     "metadata": {},
     "output_type": "execute_result"
    }
   ],
   "source": [
    "df.head()"
   ]
  },
  {
   "cell_type": "code",
   "execution_count": 6,
   "id": "9ccc8723",
   "metadata": {},
   "outputs": [
    {
     "data": {
      "text/plain": [
       "0    122104\n",
       "1      4914\n",
       "Name: purchase, dtype: int64"
      ]
     },
     "execution_count": 6,
     "metadata": {},
     "output_type": "execute_result"
    }
   ],
   "source": [
    "df.purchase.value_counts()"
   ]
  },
  {
   "cell_type": "code",
   "execution_count": 7,
   "id": "3ad705d5",
   "metadata": {},
   "outputs": [
    {
     "data": {
      "text/plain": [
       "1    63916\n",
       "0    63102\n",
       "Name: experimentVariant, dtype: int64"
      ]
     },
     "execution_count": 7,
     "metadata": {},
     "output_type": "execute_result"
    }
   ],
   "source": [
    "df.experimentVariant.value_counts()"
   ]
  },
  {
   "cell_type": "markdown",
   "id": "1034d12e",
   "metadata": {},
   "source": [
    "Разделим данные на две группы."
   ]
  },
  {
   "cell_type": "code",
   "execution_count": 8,
   "id": "fac26ebf",
   "metadata": {},
   "outputs": [],
   "source": [
    "df_group_0 = df.query('experimentVariant == 0')\n",
    "df_group_1 = df.query('experimentVariant == 1')"
   ]
  },
  {
   "cell_type": "code",
   "execution_count": 9,
   "id": "0ff129df",
   "metadata": {},
   "outputs": [
    {
     "data": {
      "text/html": [
       "<div>\n",
       "<style scoped>\n",
       "    .dataframe tbody tr th:only-of-type {\n",
       "        vertical-align: middle;\n",
       "    }\n",
       "\n",
       "    .dataframe tbody tr th {\n",
       "        vertical-align: top;\n",
       "    }\n",
       "\n",
       "    .dataframe thead th {\n",
       "        text-align: right;\n",
       "    }\n",
       "</style>\n",
       "<table border=\"1\" class=\"dataframe\">\n",
       "  <thead>\n",
       "    <tr style=\"text-align: right;\">\n",
       "      <th></th>\n",
       "      <th>uid</th>\n",
       "      <th>experimentVariant</th>\n",
       "      <th>version</th>\n",
       "      <th>purchase</th>\n",
       "    </tr>\n",
       "  </thead>\n",
       "  <tbody>\n",
       "    <tr>\n",
       "      <th>1</th>\n",
       "      <td>c81e728d9d4c2f636f067f89cc14862c</td>\n",
       "      <td>0</td>\n",
       "      <td>v2.9.0</td>\n",
       "      <td>0</td>\n",
       "    </tr>\n",
       "    <tr>\n",
       "      <th>6</th>\n",
       "      <td>8f14e45fceea167a5a36dedd4bea2543</td>\n",
       "      <td>0</td>\n",
       "      <td>v2.9.0</td>\n",
       "      <td>0</td>\n",
       "    </tr>\n",
       "    <tr>\n",
       "      <th>8</th>\n",
       "      <td>45c48cce2e2d7fbdea1afc51c7c6ad26</td>\n",
       "      <td>0</td>\n",
       "      <td>v2.8.0</td>\n",
       "      <td>0</td>\n",
       "    </tr>\n",
       "    <tr>\n",
       "      <th>11</th>\n",
       "      <td>c20ad4d76fe97759aa27a0c99bff6710</td>\n",
       "      <td>0</td>\n",
       "      <td>v2.8.0</td>\n",
       "      <td>0</td>\n",
       "    </tr>\n",
       "    <tr>\n",
       "      <th>16</th>\n",
       "      <td>70efdf2ec9b086079795c442636b55fb</td>\n",
       "      <td>0</td>\n",
       "      <td>v2.8.0</td>\n",
       "      <td>0</td>\n",
       "    </tr>\n",
       "  </tbody>\n",
       "</table>\n",
       "</div>"
      ],
      "text/plain": [
       "                                 uid  experimentVariant version  purchase\n",
       "1   c81e728d9d4c2f636f067f89cc14862c                  0  v2.9.0         0\n",
       "6   8f14e45fceea167a5a36dedd4bea2543                  0  v2.9.0         0\n",
       "8   45c48cce2e2d7fbdea1afc51c7c6ad26                  0  v2.8.0         0\n",
       "11  c20ad4d76fe97759aa27a0c99bff6710                  0  v2.8.0         0\n",
       "16  70efdf2ec9b086079795c442636b55fb                  0  v2.8.0         0"
      ]
     },
     "execution_count": 9,
     "metadata": {},
     "output_type": "execute_result"
    }
   ],
   "source": [
    "df_group_0.head()"
   ]
  },
  {
   "cell_type": "code",
   "execution_count": 10,
   "id": "1c24dac3",
   "metadata": {},
   "outputs": [
    {
     "data": {
      "text/html": [
       "<div>\n",
       "<style scoped>\n",
       "    .dataframe tbody tr th:only-of-type {\n",
       "        vertical-align: middle;\n",
       "    }\n",
       "\n",
       "    .dataframe tbody tr th {\n",
       "        vertical-align: top;\n",
       "    }\n",
       "\n",
       "    .dataframe thead th {\n",
       "        text-align: right;\n",
       "    }\n",
       "</style>\n",
       "<table border=\"1\" class=\"dataframe\">\n",
       "  <thead>\n",
       "    <tr style=\"text-align: right;\">\n",
       "      <th></th>\n",
       "      <th>uid</th>\n",
       "      <th>experimentVariant</th>\n",
       "      <th>version</th>\n",
       "      <th>purchase</th>\n",
       "    </tr>\n",
       "  </thead>\n",
       "  <tbody>\n",
       "    <tr>\n",
       "      <th>0</th>\n",
       "      <td>c4ca4238a0b923820dcc509a6f75849b</td>\n",
       "      <td>1</td>\n",
       "      <td>v2.8.0</td>\n",
       "      <td>0</td>\n",
       "    </tr>\n",
       "    <tr>\n",
       "      <th>2</th>\n",
       "      <td>eccbc87e4b5ce2fe28308fd9f2a7baf3</td>\n",
       "      <td>1</td>\n",
       "      <td>v2.9.0</td>\n",
       "      <td>0</td>\n",
       "    </tr>\n",
       "    <tr>\n",
       "      <th>3</th>\n",
       "      <td>a87ff679a2f3e71d9181a67b7542122c</td>\n",
       "      <td>1</td>\n",
       "      <td>v2.8.0</td>\n",
       "      <td>0</td>\n",
       "    </tr>\n",
       "    <tr>\n",
       "      <th>4</th>\n",
       "      <td>e4da3b7fbbce2345d7772b0674a318d5</td>\n",
       "      <td>1</td>\n",
       "      <td>v2.8.0</td>\n",
       "      <td>0</td>\n",
       "    </tr>\n",
       "    <tr>\n",
       "      <th>5</th>\n",
       "      <td>1679091c5a880faf6fb5e6087eb1b2dc</td>\n",
       "      <td>1</td>\n",
       "      <td>v2.8.0</td>\n",
       "      <td>0</td>\n",
       "    </tr>\n",
       "  </tbody>\n",
       "</table>\n",
       "</div>"
      ],
      "text/plain": [
       "                                uid  experimentVariant version  purchase\n",
       "0  c4ca4238a0b923820dcc509a6f75849b                  1  v2.8.0         0\n",
       "2  eccbc87e4b5ce2fe28308fd9f2a7baf3                  1  v2.9.0         0\n",
       "3  a87ff679a2f3e71d9181a67b7542122c                  1  v2.8.0         0\n",
       "4  e4da3b7fbbce2345d7772b0674a318d5                  1  v2.8.0         0\n",
       "5  1679091c5a880faf6fb5e6087eb1b2dc                  1  v2.8.0         0"
      ]
     },
     "execution_count": 10,
     "metadata": {},
     "output_type": "execute_result"
    }
   ],
   "source": [
    "df_group_1.head()"
   ]
  },
  {
   "cell_type": "markdown",
   "id": "8dbda5ad",
   "metadata": {},
   "source": [
    "## Запустим А/А-тест"
   ]
  },
  {
   "cell_type": "code",
   "execution_count": 11,
   "id": "51dc1bc5",
   "metadata": {},
   "outputs": [
    {
     "data": {
      "application/vnd.jupyter.widget-view+json": {
       "model_id": "f2e7b2cd542140d784fb72704c923b5a",
       "version_major": 2,
       "version_minor": 0
      },
      "text/plain": [
       "  0%|          | 0/1000 [00:00<?, ?it/s]"
      ]
     },
     "metadata": {},
     "output_type": "display_data"
    },
    {
     "data": {
      "image/png": "[encoded data removed]",
      "text/plain": [
       "<Figure size 432x288 with 1 Axes>"
      ]
     },
     "metadata": {
      "needs_background": "light"
     },
     "output_type": "display_data"
    },
    {
     "name": "stdout",
     "output_type": "stream",
     "text": [
      "FPR = 0.927\n"
     ]
    }
   ],
   "source": [
    "simulations = 1000\n",
    "n = 1000\n",
    "\n",
    "result = []\n",
    "\n",
    "for i in tqdm(range(simulations)):\n",
    "    samples_0 = df_group_0['purchase'].sample(n, replace = False).values\n",
    "    samples_1 = df_group_1['purchase'].sample(n, replace = False).values\n",
    "    result.append(stats.ttest_ind(samples_0, samples_1, equal_var = False)[1])\n",
    "\n",
    "plt.hist(result, bins = 50, color='blue')\n",
    "plt.style.use('ggplot')\n",
    "plt.xlabel('pvalues')\n",
    "plt.ylabel('frequency')\n",
    "plt.title(\"Histogram of t-test A/A simulations\")\n",
    "plt.show()\n",
    "\n",
    "# Проверяем, что количество ложноположительных случаев не превышает альфа\n",
    "print('FPR =', sum(np.array(result) < 0.05) / simulations)"
   ]
  },
  {
   "cell_type": "markdown",
   "id": "6ce059da",
   "metadata": {},
   "source": [
    "### Результат A/A-теста\n",
    "Показатель FPR > 0.05, т.е. доля ложноположительных оценок (доля симуляций, в которых значение p-value < 0.05) составляет больше 5%, причем значительно больше - 94,5 %. Т.е. в подавляющем большинстве случаев мы получаем статистически значимые различия между двумя группами, которых на самом деле быть не должно. Значит, что-то пошло не так, и необходимо искать причину поломки.\n",
    "\n",
    "## Начинаем искать поломку\n",
    "Сгруппируем наш датасет по номеру группы."
   ]
  },
  {
   "cell_type": "code",
   "execution_count": 12,
   "id": "545755c8",
   "metadata": {},
   "outputs": [],
   "source": [
    "df_grouped = df.groupby('experimentVariant').agg({'uid': 'count', 'purchase': 'sum'})"
   ]
  },
  {
   "cell_type": "code",
   "execution_count": 13,
   "id": "e4d45510",
   "metadata": {
    "scrolled": true
   },
   "outputs": [
    {
     "data": {
      "text/html": [
       "<div>\n",
       "<style scoped>\n",
       "    .dataframe tbody tr th:only-of-type {\n",
       "        vertical-align: middle;\n",
       "    }\n",
       "\n",
       "    .dataframe tbody tr th {\n",
       "        vertical-align: top;\n",
       "    }\n",
       "\n",
       "    .dataframe thead th {\n",
       "        text-align: right;\n",
       "    }\n",
       "</style>\n",
       "<table border=\"1\" class=\"dataframe\">\n",
       "  <thead>\n",
       "    <tr style=\"text-align: right;\">\n",
       "      <th></th>\n",
       "      <th>uid</th>\n",
       "      <th>purchase</th>\n",
       "    </tr>\n",
       "    <tr>\n",
       "      <th>experimentVariant</th>\n",
       "      <th></th>\n",
       "      <th></th>\n",
       "    </tr>\n",
       "  </thead>\n",
       "  <tbody>\n",
       "    <tr>\n",
       "      <th>0</th>\n",
       "      <td>63102</td>\n",
       "      <td>1511</td>\n",
       "    </tr>\n",
       "    <tr>\n",
       "      <th>1</th>\n",
       "      <td>63916</td>\n",
       "      <td>3403</td>\n",
       "    </tr>\n",
       "  </tbody>\n",
       "</table>\n",
       "</div>"
      ],
      "text/plain": [
       "                     uid  purchase\n",
       "experimentVariant                 \n",
       "0                  63102      1511\n",
       "1                  63916      3403"
      ]
     },
     "execution_count": 13,
     "metadata": {},
     "output_type": "execute_result"
    }
   ],
   "source": [
    "df_grouped"
   ]
  },
  {
   "cell_type": "markdown",
   "id": "39ee3cc5",
   "metadata": {},
   "source": [
    "Посчитаем конверсию."
   ]
  },
  {
   "cell_type": "code",
   "execution_count": 14,
   "id": "3f8ae6f2",
   "metadata": {},
   "outputs": [],
   "source": [
    "df_grouped['conversion'] = df_grouped['purchase'] / df_grouped['uid']"
   ]
  },
  {
   "cell_type": "code",
   "execution_count": 15,
   "id": "e64b37fd",
   "metadata": {},
   "outputs": [
    {
     "data": {
      "text/html": [
       "<div>\n",
       "<style scoped>\n",
       "    .dataframe tbody tr th:only-of-type {\n",
       "        vertical-align: middle;\n",
       "    }\n",
       "\n",
       "    .dataframe tbody tr th {\n",
       "        vertical-align: top;\n",
       "    }\n",
       "\n",
       "    .dataframe thead th {\n",
       "        text-align: right;\n",
       "    }\n",
       "</style>\n",
       "<table border=\"1\" class=\"dataframe\">\n",
       "  <thead>\n",
       "    <tr style=\"text-align: right;\">\n",
       "      <th></th>\n",
       "      <th>uid</th>\n",
       "      <th>purchase</th>\n",
       "      <th>conversion</th>\n",
       "    </tr>\n",
       "    <tr>\n",
       "      <th>experimentVariant</th>\n",
       "      <th></th>\n",
       "      <th></th>\n",
       "      <th></th>\n",
       "    </tr>\n",
       "  </thead>\n",
       "  <tbody>\n",
       "    <tr>\n",
       "      <th>0</th>\n",
       "      <td>63102</td>\n",
       "      <td>1511</td>\n",
       "      <td>0.023945</td>\n",
       "    </tr>\n",
       "    <tr>\n",
       "      <th>1</th>\n",
       "      <td>63916</td>\n",
       "      <td>3403</td>\n",
       "      <td>0.053242</td>\n",
       "    </tr>\n",
       "  </tbody>\n",
       "</table>\n",
       "</div>"
      ],
      "text/plain": [
       "                     uid  purchase  conversion\n",
       "experimentVariant                             \n",
       "0                  63102      1511    0.023945\n",
       "1                  63916      3403    0.053242"
      ]
     },
     "execution_count": 15,
     "metadata": {},
     "output_type": "execute_result"
    }
   ],
   "source": [
    "df_grouped"
   ]
  },
  {
   "cell_type": "markdown",
   "id": "c120b46b",
   "metadata": {},
   "source": [
    "Количество пользователей в двух группах примерно одинаковое, однако конверсия в нулевой группе заметно ниже, чем в первой. Пока ничего удивительного, так как это согласуется с результатом А/А-теста.\n",
    "\n",
    "Теперь сгруппируем наш датасет по номеру группы и версии мобильного приложения и посчитаем конверсию для каждой подгруппы."
   ]
  },
  {
   "cell_type": "code",
   "execution_count": 16,
   "id": "566ac58e",
   "metadata": {},
   "outputs": [],
   "source": [
    "df_grouped_ver = df.groupby(['experimentVariant', 'version']).agg({'uid': 'count', 'purchase': 'sum'})"
   ]
  },
  {
   "cell_type": "code",
   "execution_count": 17,
   "id": "5d0073c7",
   "metadata": {},
   "outputs": [
    {
     "data": {
      "text/html": [
       "<div>\n",
       "<style scoped>\n",
       "    .dataframe tbody tr th:only-of-type {\n",
       "        vertical-align: middle;\n",
       "    }\n",
       "\n",
       "    .dataframe tbody tr th {\n",
       "        vertical-align: top;\n",
       "    }\n",
       "\n",
       "    .dataframe thead th {\n",
       "        text-align: right;\n",
       "    }\n",
       "</style>\n",
       "<table border=\"1\" class=\"dataframe\">\n",
       "  <thead>\n",
       "    <tr style=\"text-align: right;\">\n",
       "      <th></th>\n",
       "      <th></th>\n",
       "      <th>uid</th>\n",
       "      <th>purchase</th>\n",
       "    </tr>\n",
       "    <tr>\n",
       "      <th>experimentVariant</th>\n",
       "      <th>version</th>\n",
       "      <th></th>\n",
       "      <th></th>\n",
       "    </tr>\n",
       "  </thead>\n",
       "  <tbody>\n",
       "    <tr>\n",
       "      <th rowspan=\"4\" valign=\"top\">0</th>\n",
       "      <th>v2.8.0</th>\n",
       "      <td>41283</td>\n",
       "      <td>41</td>\n",
       "    </tr>\n",
       "    <tr>\n",
       "      <th>v2.9.0</th>\n",
       "      <td>11921</td>\n",
       "      <td>890</td>\n",
       "    </tr>\n",
       "    <tr>\n",
       "      <th>v3.7.4.0</th>\n",
       "      <td>4204</td>\n",
       "      <td>252</td>\n",
       "    </tr>\n",
       "    <tr>\n",
       "      <th>v3.8.0.0</th>\n",
       "      <td>5694</td>\n",
       "      <td>328</td>\n",
       "    </tr>\n",
       "    <tr>\n",
       "      <th rowspan=\"4\" valign=\"top\">1</th>\n",
       "      <th>v2.8.0</th>\n",
       "      <td>41552</td>\n",
       "      <td>1895</td>\n",
       "    </tr>\n",
       "    <tr>\n",
       "      <th>v2.9.0</th>\n",
       "      <td>12033</td>\n",
       "      <td>858</td>\n",
       "    </tr>\n",
       "    <tr>\n",
       "      <th>v3.7.4.0</th>\n",
       "      <td>4221</td>\n",
       "      <td>266</td>\n",
       "    </tr>\n",
       "    <tr>\n",
       "      <th>v3.8.0.0</th>\n",
       "      <td>6110</td>\n",
       "      <td>384</td>\n",
       "    </tr>\n",
       "  </tbody>\n",
       "</table>\n",
       "</div>"
      ],
      "text/plain": [
       "                              uid  purchase\n",
       "experimentVariant version                  \n",
       "0                 v2.8.0    41283        41\n",
       "                  v2.9.0    11921       890\n",
       "                  v3.7.4.0   4204       252\n",
       "                  v3.8.0.0   5694       328\n",
       "1                 v2.8.0    41552      1895\n",
       "                  v2.9.0    12033       858\n",
       "                  v3.7.4.0   4221       266\n",
       "                  v3.8.0.0   6110       384"
      ]
     },
     "execution_count": 17,
     "metadata": {},
     "output_type": "execute_result"
    }
   ],
   "source": [
    "df_grouped_ver"
   ]
  },
  {
   "cell_type": "code",
   "execution_count": 18,
   "id": "d23408af",
   "metadata": {},
   "outputs": [],
   "source": [
    "df_grouped_ver['conversion'] = df_grouped_ver['purchase'] / df_grouped_ver['uid']"
   ]
  },
  {
   "cell_type": "code",
   "execution_count": 19,
   "id": "2fa72353",
   "metadata": {},
   "outputs": [
    {
     "data": {
      "text/html": [
       "<div>\n",
       "<style scoped>\n",
       "    .dataframe tbody tr th:only-of-type {\n",
       "        vertical-align: middle;\n",
       "    }\n",
       "\n",
       "    .dataframe tbody tr th {\n",
       "        vertical-align: top;\n",
       "    }\n",
       "\n",
       "    .dataframe thead th {\n",
       "        text-align: right;\n",
       "    }\n",
       "</style>\n",
       "<table border=\"1\" class=\"dataframe\">\n",
       "  <thead>\n",
       "    <tr style=\"text-align: right;\">\n",
       "      <th></th>\n",
       "      <th></th>\n",
       "      <th>uid</th>\n",
       "      <th>purchase</th>\n",
       "      <th>conversion</th>\n",
       "    </tr>\n",
       "    <tr>\n",
       "      <th>experimentVariant</th>\n",
       "      <th>version</th>\n",
       "      <th></th>\n",
       "      <th></th>\n",
       "      <th></th>\n",
       "    </tr>\n",
       "  </thead>\n",
       "  <tbody>\n",
       "    <tr>\n",
       "      <th rowspan=\"4\" valign=\"top\">0</th>\n",
       "      <th>v2.8.0</th>\n",
       "      <td>41283</td>\n",
       "      <td>41</td>\n",
       "      <td>0.000993</td>\n",
       "    </tr>\n",
       "    <tr>\n",
       "      <th>v2.9.0</th>\n",
       "      <td>11921</td>\n",
       "      <td>890</td>\n",
       "      <td>0.074658</td>\n",
       "    </tr>\n",
       "    <tr>\n",
       "      <th>v3.7.4.0</th>\n",
       "      <td>4204</td>\n",
       "      <td>252</td>\n",
       "      <td>0.059943</td>\n",
       "    </tr>\n",
       "    <tr>\n",
       "      <th>v3.8.0.0</th>\n",
       "      <td>5694</td>\n",
       "      <td>328</td>\n",
       "      <td>0.057604</td>\n",
       "    </tr>\n",
       "    <tr>\n",
       "      <th rowspan=\"4\" valign=\"top\">1</th>\n",
       "      <th>v2.8.0</th>\n",
       "      <td>41552</td>\n",
       "      <td>1895</td>\n",
       "      <td>0.045606</td>\n",
       "    </tr>\n",
       "    <tr>\n",
       "      <th>v2.9.0</th>\n",
       "      <td>12033</td>\n",
       "      <td>858</td>\n",
       "      <td>0.071304</td>\n",
       "    </tr>\n",
       "    <tr>\n",
       "      <th>v3.7.4.0</th>\n",
       "      <td>4221</td>\n",
       "      <td>266</td>\n",
       "      <td>0.063018</td>\n",
       "    </tr>\n",
       "    <tr>\n",
       "      <th>v3.8.0.0</th>\n",
       "      <td>6110</td>\n",
       "      <td>384</td>\n",
       "      <td>0.062848</td>\n",
       "    </tr>\n",
       "  </tbody>\n",
       "</table>\n",
       "</div>"
      ],
      "text/plain": [
       "                              uid  purchase  conversion\n",
       "experimentVariant version                              \n",
       "0                 v2.8.0    41283        41    0.000993\n",
       "                  v2.9.0    11921       890    0.074658\n",
       "                  v3.7.4.0   4204       252    0.059943\n",
       "                  v3.8.0.0   5694       328    0.057604\n",
       "1                 v2.8.0    41552      1895    0.045606\n",
       "                  v2.9.0    12033       858    0.071304\n",
       "                  v3.7.4.0   4221       266    0.063018\n",
       "                  v3.8.0.0   6110       384    0.062848"
      ]
     },
     "execution_count": 19,
     "metadata": {},
     "output_type": "execute_result"
    }
   ],
   "source": [
    "df_grouped_ver"
   ]
  },
  {
   "cell_type": "markdown",
   "id": "439bffbf",
   "metadata": {},
   "source": [
    "Можно заметить, что конверсия для версии v2.8.0 заметно различается в двух вариантах эксперимента (в нулевую группу попадает значительно меньше покупателей, чем в первую). В результате нарушается репрезентативность тестовых групп. Возможно, причина поломки именно в этой версии приложения.\n",
    "\n",
    "## Попробуем запустить A/A-тест для каждой версии приложения по отдельности"
   ]
  },
  {
   "cell_type": "code",
   "execution_count": 20,
   "id": "58f3f39f",
   "metadata": {},
   "outputs": [
    {
     "data": {
      "application/vnd.jupyter.widget-view+json": {
       "model_id": "88a0eca0b5904c06b320c3a50d7ced21",
       "version_major": 2,
       "version_minor": 0
      },
      "text/plain": [
       "  0%|          | 0/1000 [00:00<?, ?it/s]"
      ]
     },
     "metadata": {},
     "output_type": "display_data"
    },
    {
     "data": {
      "image/png": "[encoded data removed]",
      "text/plain": [
       "<Figure size 432x288 with 1 Axes>"
      ]
     },
     "metadata": {},
     "output_type": "display_data"
    },
    {
     "name": "stdout",
     "output_type": "stream",
     "text": [
      "FPR = 1.0\n"
     ]
    },
    {
     "data": {
      "application/vnd.jupyter.widget-view+json": {
       "model_id": "2f3fefa87d5f458ba19215e8afffce15",
       "version_major": 2,
       "version_minor": 0
      },
      "text/plain": [
       "  0%|          | 0/1000 [00:00<?, ?it/s]"
      ]
     },
     "metadata": {},
     "output_type": "display_data"
    },
    {
     "data": {
      "image/png": "[encoded data removed]",
      "text/plain": [
       "<Figure size 432x288 with 1 Axes>"
      ]
     },
     "metadata": {},
     "output_type": "display_data"
    },
    {
     "name": "stdout",
     "output_type": "stream",
     "text": [
      "FPR = 0.065\n"
     ]
    },
    {
     "data": {
      "application/vnd.jupyter.widget-view+json": {
       "model_id": "c38d14b04d4d448997d38ceff2f8bd0a",
       "version_major": 2,
       "version_minor": 0
      },
      "text/plain": [
       "  0%|          | 0/1000 [00:00<?, ?it/s]"
      ]
     },
     "metadata": {},
     "output_type": "display_data"
    },
    {
     "data": {
      "image/png": "[encoded data removed]",
      "text/plain": [
       "<Figure size 432x288 with 1 Axes>"
      ]
     },
     "metadata": {},
     "output_type": "display_data"
    },
    {
     "name": "stdout",
     "output_type": "stream",
     "text": [
      "FPR = 0.024\n"
     ]
    },
    {
     "data": {
      "application/vnd.jupyter.widget-view+json": {
       "model_id": "a1b72e8a3ada4fcd938a3389196ef111",
       "version_major": 2,
       "version_minor": 0
      },
      "text/plain": [
       "  0%|          | 0/1000 [00:00<?, ?it/s]"
      ]
     },
     "metadata": {},
     "output_type": "display_data"
    },
    {
     "data": {
      "image/png": "[encoded data removed]",
      "text/plain": [
       "<Figure size 432x288 with 1 Axes>"
      ]
     },
     "metadata": {},
     "output_type": "display_data"
    },
    {
     "name": "stdout",
     "output_type": "stream",
     "text": [
      "FPR = 0.053\n"
     ]
    }
   ],
   "source": [
    "simulations = 1000\n",
    "n = 1000\n",
    "versions = df['version'].unique()\n",
    "\n",
    "for ver in versions:\n",
    "    \n",
    "    result = []\n",
    "\n",
    "    # Запуск симуляций A/A теста\n",
    "    for i in tqdm(range(simulations)):\n",
    "        samples_0 = df_group_0[df_group_0['version'] == ver]['purchase'].sample(n, replace = False).values\n",
    "        samples_1 = df_group_1[df_group_1['version'] == ver]['purchase'].sample(n, replace = False).values\n",
    "        result.append(stats.ttest_ind(samples_0, samples_1, equal_var = False)[1]) # сохраняем p-value\n",
    "\n",
    "    plt.hist(result, bins = 50, color='blue')\n",
    "    plt.style.use('ggplot')\n",
    "    plt.xlabel('pvalues')\n",
    "    plt.ylabel('frequency')\n",
    "    plt.title(\"Histogram of t-test A/A simulations {}\".format(ver))\n",
    "    plt.show()\n",
    "\n",
    "    # Проверяем, что количество ложноположительных случаев не превышает альфа\n",
    "    print('FPR =', sum(np.array(result) < 0.05) / simulations)"
   ]
  },
  {
   "cell_type": "markdown",
   "id": "e2ed7f49",
   "metadata": {},
   "source": [
    "Также проведем тесты в разрезе версий, но не на 1000 значений, а на 85 % от минимального количества в сравниваемых группах, также используя подвыборки без возвращения."
   ]
  },
  {
   "cell_type": "code",
   "execution_count": 21,
   "id": "087aa9b8",
   "metadata": {},
   "outputs": [
    {
     "data": {
      "application/vnd.jupyter.widget-view+json": {
       "model_id": "3b5b649d07874740943b3e9449115184",
       "version_major": 2,
       "version_minor": 0
      },
      "text/plain": [
       "  0%|          | 0/1000 [00:00<?, ?it/s]"
      ]
     },
     "metadata": {},
     "output_type": "display_data"
    },
    {
     "data": {
      "image/png": "[encoded data removed]",
      "text/plain": [
       "<Figure size 432x288 with 1 Axes>"
      ]
     },
     "metadata": {},
     "output_type": "display_data"
    },
    {
     "name": "stdout",
     "output_type": "stream",
     "text": [
      "FPR = 1.0\n"
     ]
    },
    {
     "data": {
      "application/vnd.jupyter.widget-view+json": {
       "model_id": "4ec31945928b4169beb788b0d757fe7b",
       "version_major": 2,
       "version_minor": 0
      },
      "text/plain": [
       "  0%|          | 0/1000 [00:00<?, ?it/s]"
      ]
     },
     "metadata": {},
     "output_type": "display_data"
    },
    {
     "data": {
      "image/png": "[encoded data removed]",
      "text/plain": [
       "<Figure size 432x288 with 1 Axes>"
      ]
     },
     "metadata": {},
     "output_type": "display_data"
    },
    {
     "name": "stdout",
     "output_type": "stream",
     "text": [
      "FPR = 0.001\n"
     ]
    },
    {
     "data": {
      "application/vnd.jupyter.widget-view+json": {
       "model_id": "b3164c2d368b4977a67de78a5c857911",
       "version_major": 2,
       "version_minor": 0
      },
      "text/plain": [
       "  0%|          | 0/1000 [00:00<?, ?it/s]"
      ]
     },
     "metadata": {},
     "output_type": "display_data"
    },
    {
     "data": {
      "image/png": "[encoded data removed]",
      "text/plain": [
       "<Figure size 432x288 with 1 Axes>"
      ]
     },
     "metadata": {},
     "output_type": "display_data"
    },
    {
     "name": "stdout",
     "output_type": "stream",
     "text": [
      "FPR = 0.0\n"
     ]
    },
    {
     "data": {
      "application/vnd.jupyter.widget-view+json": {
       "model_id": "8f7c826a398d4828946396e37cdb5230",
       "version_major": 2,
       "version_minor": 0
      },
      "text/plain": [
       "  0%|          | 0/1000 [00:00<?, ?it/s]"
      ]
     },
     "metadata": {},
     "output_type": "display_data"
    },
    {
     "data": {
      "image/png": "[encoded data removed]",
      "text/plain": [
       "<Figure size 432x288 with 1 Axes>"
      ]
     },
     "metadata": {},
     "output_type": "display_data"
    },
    {
     "name": "stdout",
     "output_type": "stream",
     "text": [
      "FPR = 0.016\n"
     ]
    }
   ],
   "source": [
    "simulations = 1000\n",
    "\n",
    "versions = df['version'].unique()\n",
    "\n",
    "for ver in versions:\n",
    "    \n",
    "    group_0 = df_group_0[df_group_0['version'] == ver]['purchase']\n",
    "    group_1 = df_group_1[df_group_1['version'] == ver]['purchase']\n",
    "\n",
    "    result = []\n",
    "\n",
    "    # Запуск симуляций A/A теста\n",
    "    for i in tqdm(range(simulations)):\n",
    "        samples_0 = group_0.sample(round(0.85 * min(len(group_0), len(group_1))), replace = False).values\n",
    "        samples_1 = group_1.sample(round(0.85 * min(len(group_0), len(group_1))), replace = False).values\n",
    "        result.append(stats.ttest_ind(samples_0, samples_1, equal_var = False)[1]) # сохраняем p-value\n",
    "\n",
    "    plt.hist(result, bins = 50, color='blue')\n",
    "    plt.style.use('ggplot')\n",
    "    plt.xlabel('pvalues')\n",
    "    plt.ylabel('frequency')\n",
    "    plt.title(\"Histogram of t-test A/A simulations {}\".format(ver))\n",
    "    plt.show()\n",
    "\n",
    "    # Проверяем, что количество ложноположительных случаев не превышает альфа\n",
    "    print('FPR =', sum(np.array(result) < 0.05) / simulations)"
   ]
  },
  {
   "cell_type": "markdown",
   "id": "6a120411",
   "metadata": {},
   "source": [
    "### Результаты A/A-теста для каждой версии приложения\n",
    "Теперь хорошо видно, что для версии v2.8.0 t-тест выдает значимые различия на каждой итерации теста (FPR составляет 1.0), тогда как с остальными версиями все нормально - доля ложноположительных оценок низкая. Значит, причина поломки действительно кроется в версии v2.8.0. Возможно, что для данной версии сломан рандомизатор, распределяющий пользователей по группам эксперимента.\n",
    "\n",
    "## Теперь запустим A/A-тест, предварительно исключив из выборки проблемную версию"
   ]
  },
  {
   "cell_type": "code",
   "execution_count": 22,
   "id": "d277c13b",
   "metadata": {},
   "outputs": [
    {
     "data": {
      "application/vnd.jupyter.widget-view+json": {
       "model_id": "376b16c9160d418ba2e2c9418fe998e5",
       "version_major": 2,
       "version_minor": 0
      },
      "text/plain": [
       "  0%|          | 0/1000 [00:00<?, ?it/s]"
      ]
     },
     "metadata": {},
     "output_type": "display_data"
    },
    {
     "data": {
      "image/png": "[encoded data removed]",
      "text/plain": [
       "<Figure size 432x288 with 1 Axes>"
      ]
     },
     "metadata": {},
     "output_type": "display_data"
    },
    {
     "name": "stdout",
     "output_type": "stream",
     "text": [
      "FPR = 0.038\n"
     ]
    }
   ],
   "source": [
    "group_0 = df_group_0[df_group_0['version'] != 'v2.8.0']['purchase']\n",
    "group_1 = df_group_1[df_group_1['version'] != 'v2.8.0']['purchase']\n",
    "\n",
    "simulations = 1000\n",
    "n = 1000\n",
    "\n",
    "result = []\n",
    "\n",
    "# Запуск симуляций A/A теста\n",
    "for i in tqdm(range(simulations)):\n",
    "    samples_0 = group_0.sample(n, replace = False).values\n",
    "    samples_1 = group_1.sample(n, replace = False).values\n",
    "    result.append(stats.ttest_ind(samples_0, samples_1, equal_var = False)[1]) # сохраняем p-value\n",
    "\n",
    "plt.hist(result, bins = 50, color='blue')\n",
    "plt.style.use('ggplot')\n",
    "plt.xlabel('pvalues')\n",
    "plt.ylabel('frequency')\n",
    "plt.title(\"Histogram of t-test A/A simulations \")\n",
    "plt.show()\n",
    "\n",
    "# Проверяем, что количество ложноположительных случаев не превышает альфа\n",
    "print('FPR =', sum(np.array(result) < 0.05) / simulations)"
   ]
  },
  {
   "cell_type": "markdown",
   "id": "cd51b0a0",
   "metadata": {},
   "source": [
    "Без проблемной версии все работает нормально, и мы находимся в пределах допустимого значения FPR. Теперь мы знаем, что именно у нас сломалось. \n",
    "\n",
    "P.S. Также можно заметить, что в нашем примере при повторных запусках А/А-тестов в некоторых случаях FPR будет немного превышать пороговое значение (0.05). Это связано с относительно небольшим числом наблюдений (1000) в выборках на каждой итерации теста. Если увеличить это значение (например, до 90% от числа наблюдений в исходных группах), то оценка FPR будет более точной."
   ]
  },
  {
   "cell_type": "code",
   "execution_count": 23,
   "id": "961d54a2",
   "metadata": {},
   "outputs": [
    {
     "data": {
      "application/vnd.jupyter.widget-view+json": {
       "model_id": "4850256b51454e45b6f644e719846844",
       "version_major": 2,
       "version_minor": 0
      },
      "text/plain": [
       "  0%|          | 0/1000 [00:00<?, ?it/s]"
      ]
     },
     "metadata": {},
     "output_type": "display_data"
    },
    {
     "data": {
      "image/png": "[encoded data removed]",
      "text/plain": [
       "<Figure size 432x288 with 1 Axes>"
      ]
     },
     "metadata": {},
     "output_type": "display_data"
    },
    {
     "name": "stdout",
     "output_type": "stream",
     "text": [
      "FPR = 0.0\n"
     ]
    }
   ],
   "source": [
    "group_0 = df_group_0[df_group_0['version'] != 'v2.8.0']['purchase']\n",
    "group_1 = df_group_1[df_group_1['version'] != 'v2.8.0']['purchase']\n",
    "\n",
    "simulations = 1000\n",
    "\n",
    "result = []\n",
    "\n",
    "# Запуск симуляций A/A теста\n",
    "for i in tqdm(range(simulations)):\n",
    "    samples_0 = group_0.sample(round(0.9 * min(len(group_0), len(group_1))), replace = False).values\n",
    "    samples_1 = group_1.sample(round(0.9 * min(len(group_0), len(group_1))), replace = False).values\n",
    "    result.append(stats.ttest_ind(samples_0, samples_1, equal_var = False)[1]) # сохраняем p-value\n",
    "\n",
    "plt.hist(result, bins = 50, color='blue')\n",
    "plt.style.use('ggplot')\n",
    "plt.xlabel('pvalues')\n",
    "plt.ylabel('frequency')\n",
    "plt.title(\"Histogram of t-test A/A simulations \")\n",
    "plt.show()\n",
    "\n",
    "# Проверяем, что количество ложноположительных случаев не превышает альфа\n",
    "print('FPR =', sum(np.array(result) < 0.05) / simulations)"
   ]
  }
 ],
 "metadata": {
  "kernelspec": {
   "display_name": "Python 3 (ipykernel)",
   "language": "python",
   "name": "python3"
  },
  "language_info": {
   "codemirror_mode": {
    "name": "ipython",
    "version": 3
   },
   "file_extension": ".py",
   "mimetype": "text/x-python",
   "name": "python",
   "nbconvert_exporter": "python",
   "pygments_lexer": "ipython3",
   "version": "3.9.7"
  }
 },
 "nbformat": 4,
 "nbformat_minor": 5
}
